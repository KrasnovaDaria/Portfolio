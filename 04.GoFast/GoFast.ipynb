{
 "cells": [
  {
   "cell_type": "markdown",
   "id": "7f9456c1",
   "metadata": {},
   "source": [
    "# Исследование сервиса аренды самокатов GoFast.\n",
    "\n",
    "Предоставлены данные о некоторых пользователях из нескольких городов, а также об их поездках. Необходимо проанализировать данные и проверить некоторые гипотезы, которые могут помочь бизнесу вырасти.\n",
    "\n",
    "Цель исследования:\n",
    "1. Установить, тратят ли пользователи с подпиской больше времени на поездки\n",
    "2. Проверить гипотезу о том, что среднее расстояние, которое проезжают пользователи с подпиской за одну поездку, не превышает 3130 метров\n",
    "3. Проверить гипотезу о том, будет ли помесячная выручка от пользователей с подпиской по месяцам выше, чем выручка от пользователей без подписки\n",
    "4. Выяснить, какое минимальное количество промокодов нужно разослать, чтобы вероятность не выполнить план была примерно 5%\n"
   ]
  },
  {
   "cell_type": "markdown",
   "id": "684f3e8e",
   "metadata": {},
   "source": [
    "# 1. Загрузка данных: обзор и предобработка"
   ]
  },
  {
   "cell_type": "code",
   "execution_count": 1,
   "id": "a83a02bd",
   "metadata": {},
   "outputs": [],
   "source": [
    "from scipy import stats as st"
   ]
  },
  {
   "cell_type": "code",
   "execution_count": 2,
   "id": "72576667",
   "metadata": {},
   "outputs": [],
   "source": [
    "import pandas as pd"
   ]
  },
  {
   "cell_type": "code",
   "execution_count": 3,
   "id": "dcebee02",
   "metadata": {},
   "outputs": [],
   "source": [
    "import matplotlib.pyplot as plt"
   ]
  },
  {
   "cell_type": "code",
   "execution_count": 4,
   "id": "eab175cb",
   "metadata": {},
   "outputs": [],
   "source": [
    "import seaborn as sns"
   ]
  },
  {
   "cell_type": "code",
   "execution_count": 5,
   "id": "884fd88a",
   "metadata": {},
   "outputs": [],
   "source": [
    "import numpy as np"
   ]
  },
  {
   "cell_type": "markdown",
   "id": "c42cbe00",
   "metadata": {},
   "source": [
    "#### Шаг 1. Загрузка данных"
   ]
  },
  {
   "cell_type": "code",
   "execution_count": 6,
   "id": "634ceca5",
   "metadata": {},
   "outputs": [],
   "source": [
    "def load(df):\n",
    "        print ('Первые 10 строк таблицы:')\n",
    "        print ()\n",
    "        display (df.head(10))\n",
    "        print ()\n",
    "        print ('Иноформация о таблице:')\n",
    "        print ()\n",
    "        display (df.info())\n",
    "        print ()\n",
    "        print ('Количество дубликатов в таблице:')\n",
    "        print ()\n",
    "        display (df.duplicated().sum())\n",
    "        print ()\n",
    "        print ('Количество пропуска в таблице:')\n",
    "        print ()\n",
    "        display (df.isna().sum())"
   ]
  },
  {
   "cell_type": "code",
   "execution_count": 7,
   "id": "d443ce9c",
   "metadata": {},
   "outputs": [],
   "source": [
    "users = pd.read_csv('/datasets/users_go.csv')"
   ]
  },
  {
   "cell_type": "code",
   "execution_count": 8,
   "id": "b792d590",
   "metadata": {},
   "outputs": [],
   "source": [
    "rides = pd.read_csv('/datasets/rides_go.csv')"
   ]
  },
  {
   "cell_type": "code",
   "execution_count": 9,
   "id": "eff9f206",
   "metadata": {},
   "outputs": [],
   "source": [
    "subscriptions = pd.read_csv('/datasets/subscriptions_go.csv')"
   ]
  },
  {
   "cell_type": "markdown",
   "id": "f12caccf",
   "metadata": {},
   "source": [
    "##### Выведем первые 10 строк таблицы, содержащей информацию о пользователях. Изучим общую информацию о датафрейме."
   ]
  },
  {
   "cell_type": "code",
   "execution_count": 10,
   "id": "bd133336",
   "metadata": {},
   "outputs": [
    {
     "name": "stdout",
     "output_type": "stream",
     "text": [
      "Первые 10 строк таблицы:\n",
      "\n"
     ]
    },
    {
     "data": {
      "text/html": [
       "<div>\n",
       "<style scoped>\n",
       "    .dataframe tbody tr th:only-of-type {\n",
       "        vertical-align: middle;\n",
       "    }\n",
       "\n",
       "    .dataframe tbody tr th {\n",
       "        vertical-align: top;\n",
       "    }\n",
       "\n",
       "    .dataframe thead th {\n",
       "        text-align: right;\n",
       "    }\n",
       "</style>\n",
       "<table border=\"1\" class=\"dataframe\">\n",
       "  <thead>\n",
       "    <tr style=\"text-align: right;\">\n",
       "      <th></th>\n",
       "      <th>user_id</th>\n",
       "      <th>name</th>\n",
       "      <th>age</th>\n",
       "      <th>city</th>\n",
       "      <th>subscription_type</th>\n",
       "    </tr>\n",
       "  </thead>\n",
       "  <tbody>\n",
       "    <tr>\n",
       "      <th>0</th>\n",
       "      <td>1</td>\n",
       "      <td>Кира</td>\n",
       "      <td>22</td>\n",
       "      <td>Тюмень</td>\n",
       "      <td>ultra</td>\n",
       "    </tr>\n",
       "    <tr>\n",
       "      <th>1</th>\n",
       "      <td>2</td>\n",
       "      <td>Станислав</td>\n",
       "      <td>31</td>\n",
       "      <td>Омск</td>\n",
       "      <td>ultra</td>\n",
       "    </tr>\n",
       "    <tr>\n",
       "      <th>2</th>\n",
       "      <td>3</td>\n",
       "      <td>Алексей</td>\n",
       "      <td>20</td>\n",
       "      <td>Москва</td>\n",
       "      <td>ultra</td>\n",
       "    </tr>\n",
       "    <tr>\n",
       "      <th>3</th>\n",
       "      <td>4</td>\n",
       "      <td>Константин</td>\n",
       "      <td>26</td>\n",
       "      <td>Ростов-на-Дону</td>\n",
       "      <td>ultra</td>\n",
       "    </tr>\n",
       "    <tr>\n",
       "      <th>4</th>\n",
       "      <td>5</td>\n",
       "      <td>Адель</td>\n",
       "      <td>28</td>\n",
       "      <td>Омск</td>\n",
       "      <td>ultra</td>\n",
       "    </tr>\n",
       "    <tr>\n",
       "      <th>5</th>\n",
       "      <td>6</td>\n",
       "      <td>Регина</td>\n",
       "      <td>25</td>\n",
       "      <td>Краснодар</td>\n",
       "      <td>ultra</td>\n",
       "    </tr>\n",
       "    <tr>\n",
       "      <th>6</th>\n",
       "      <td>7</td>\n",
       "      <td>Игорь</td>\n",
       "      <td>23</td>\n",
       "      <td>Омск</td>\n",
       "      <td>ultra</td>\n",
       "    </tr>\n",
       "    <tr>\n",
       "      <th>7</th>\n",
       "      <td>8</td>\n",
       "      <td>Юрий</td>\n",
       "      <td>23</td>\n",
       "      <td>Краснодар</td>\n",
       "      <td>ultra</td>\n",
       "    </tr>\n",
       "    <tr>\n",
       "      <th>8</th>\n",
       "      <td>9</td>\n",
       "      <td>Ян</td>\n",
       "      <td>21</td>\n",
       "      <td>Пятигорск</td>\n",
       "      <td>ultra</td>\n",
       "    </tr>\n",
       "    <tr>\n",
       "      <th>9</th>\n",
       "      <td>10</td>\n",
       "      <td>Валерий</td>\n",
       "      <td>18</td>\n",
       "      <td>Екатеринбург</td>\n",
       "      <td>ultra</td>\n",
       "    </tr>\n",
       "  </tbody>\n",
       "</table>\n",
       "</div>"
      ],
      "text/plain": [
       "   user_id        name  age            city subscription_type\n",
       "0        1        Кира   22          Тюмень             ultra\n",
       "1        2   Станислав   31            Омск             ultra\n",
       "2        3     Алексей   20          Москва             ultra\n",
       "3        4  Константин   26  Ростов-на-Дону             ultra\n",
       "4        5       Адель   28            Омск             ultra\n",
       "5        6      Регина   25       Краснодар             ultra\n",
       "6        7       Игорь   23            Омск             ultra\n",
       "7        8        Юрий   23       Краснодар             ultra\n",
       "8        9          Ян   21       Пятигорск             ultra\n",
       "9       10     Валерий   18    Екатеринбург             ultra"
      ]
     },
     "metadata": {},
     "output_type": "display_data"
    },
    {
     "name": "stdout",
     "output_type": "stream",
     "text": [
      "\n",
      "Иноформация о таблице:\n",
      "\n",
      "<class 'pandas.core.frame.DataFrame'>\n",
      "RangeIndex: 1565 entries, 0 to 1564\n",
      "Data columns (total 5 columns):\n",
      " #   Column             Non-Null Count  Dtype \n",
      "---  ------             --------------  ----- \n",
      " 0   user_id            1565 non-null   int64 \n",
      " 1   name               1565 non-null   object\n",
      " 2   age                1565 non-null   int64 \n",
      " 3   city               1565 non-null   object\n",
      " 4   subscription_type  1565 non-null   object\n",
      "dtypes: int64(2), object(3)\n",
      "memory usage: 61.3+ KB\n"
     ]
    },
    {
     "data": {
      "text/plain": [
       "None"
      ]
     },
     "metadata": {},
     "output_type": "display_data"
    },
    {
     "name": "stdout",
     "output_type": "stream",
     "text": [
      "\n",
      "Количество дубликатов в таблице:\n",
      "\n"
     ]
    },
    {
     "data": {
      "text/plain": [
       "31"
      ]
     },
     "metadata": {},
     "output_type": "display_data"
    },
    {
     "name": "stdout",
     "output_type": "stream",
     "text": [
      "\n",
      "Количество пропуска в таблице:\n",
      "\n"
     ]
    },
    {
     "data": {
      "text/plain": [
       "user_id              0\n",
       "name                 0\n",
       "age                  0\n",
       "city                 0\n",
       "subscription_type    0\n",
       "dtype: int64"
      ]
     },
     "metadata": {},
     "output_type": "display_data"
    }
   ],
   "source": [
    "load(users)"
   ]
  },
  {
   "cell_type": "markdown",
   "id": "6a9d62b9",
   "metadata": {},
   "source": [
    "##### Выведем первые 10 строк таблицы, содержащей информацию о поездках каждого пользователя. Изучим общую информацию о датафрейме."
   ]
  },
  {
   "cell_type": "code",
   "execution_count": 11,
   "id": "1a61c7a5",
   "metadata": {},
   "outputs": [
    {
     "name": "stdout",
     "output_type": "stream",
     "text": [
      "Первые 10 строк таблицы:\n",
      "\n"
     ]
    },
    {
     "data": {
      "text/html": [
       "<div>\n",
       "<style scoped>\n",
       "    .dataframe tbody tr th:only-of-type {\n",
       "        vertical-align: middle;\n",
       "    }\n",
       "\n",
       "    .dataframe tbody tr th {\n",
       "        vertical-align: top;\n",
       "    }\n",
       "\n",
       "    .dataframe thead th {\n",
       "        text-align: right;\n",
       "    }\n",
       "</style>\n",
       "<table border=\"1\" class=\"dataframe\">\n",
       "  <thead>\n",
       "    <tr style=\"text-align: right;\">\n",
       "      <th></th>\n",
       "      <th>user_id</th>\n",
       "      <th>distance</th>\n",
       "      <th>duration</th>\n",
       "      <th>date</th>\n",
       "    </tr>\n",
       "  </thead>\n",
       "  <tbody>\n",
       "    <tr>\n",
       "      <th>0</th>\n",
       "      <td>1</td>\n",
       "      <td>4409.919140</td>\n",
       "      <td>25.599769</td>\n",
       "      <td>2021-01-01</td>\n",
       "    </tr>\n",
       "    <tr>\n",
       "      <th>1</th>\n",
       "      <td>1</td>\n",
       "      <td>2617.592153</td>\n",
       "      <td>15.816871</td>\n",
       "      <td>2021-01-18</td>\n",
       "    </tr>\n",
       "    <tr>\n",
       "      <th>2</th>\n",
       "      <td>1</td>\n",
       "      <td>754.159807</td>\n",
       "      <td>6.232113</td>\n",
       "      <td>2021-04-20</td>\n",
       "    </tr>\n",
       "    <tr>\n",
       "      <th>3</th>\n",
       "      <td>1</td>\n",
       "      <td>2694.783254</td>\n",
       "      <td>18.511000</td>\n",
       "      <td>2021-08-11</td>\n",
       "    </tr>\n",
       "    <tr>\n",
       "      <th>4</th>\n",
       "      <td>1</td>\n",
       "      <td>4028.687306</td>\n",
       "      <td>26.265803</td>\n",
       "      <td>2021-08-28</td>\n",
       "    </tr>\n",
       "    <tr>\n",
       "      <th>5</th>\n",
       "      <td>1</td>\n",
       "      <td>2770.890808</td>\n",
       "      <td>16.650138</td>\n",
       "      <td>2021-10-09</td>\n",
       "    </tr>\n",
       "    <tr>\n",
       "      <th>6</th>\n",
       "      <td>1</td>\n",
       "      <td>3039.020292</td>\n",
       "      <td>14.927879</td>\n",
       "      <td>2021-10-19</td>\n",
       "    </tr>\n",
       "    <tr>\n",
       "      <th>7</th>\n",
       "      <td>1</td>\n",
       "      <td>2842.118050</td>\n",
       "      <td>23.117468</td>\n",
       "      <td>2021-11-06</td>\n",
       "    </tr>\n",
       "    <tr>\n",
       "      <th>8</th>\n",
       "      <td>1</td>\n",
       "      <td>3412.690668</td>\n",
       "      <td>15.238072</td>\n",
       "      <td>2021-11-14</td>\n",
       "    </tr>\n",
       "    <tr>\n",
       "      <th>9</th>\n",
       "      <td>1</td>\n",
       "      <td>748.690645</td>\n",
       "      <td>15.041884</td>\n",
       "      <td>2021-11-22</td>\n",
       "    </tr>\n",
       "  </tbody>\n",
       "</table>\n",
       "</div>"
      ],
      "text/plain": [
       "   user_id     distance   duration        date\n",
       "0        1  4409.919140  25.599769  2021-01-01\n",
       "1        1  2617.592153  15.816871  2021-01-18\n",
       "2        1   754.159807   6.232113  2021-04-20\n",
       "3        1  2694.783254  18.511000  2021-08-11\n",
       "4        1  4028.687306  26.265803  2021-08-28\n",
       "5        1  2770.890808  16.650138  2021-10-09\n",
       "6        1  3039.020292  14.927879  2021-10-19\n",
       "7        1  2842.118050  23.117468  2021-11-06\n",
       "8        1  3412.690668  15.238072  2021-11-14\n",
       "9        1   748.690645  15.041884  2021-11-22"
      ]
     },
     "metadata": {},
     "output_type": "display_data"
    },
    {
     "name": "stdout",
     "output_type": "stream",
     "text": [
      "\n",
      "Иноформация о таблице:\n",
      "\n",
      "<class 'pandas.core.frame.DataFrame'>\n",
      "RangeIndex: 18068 entries, 0 to 18067\n",
      "Data columns (total 4 columns):\n",
      " #   Column    Non-Null Count  Dtype  \n",
      "---  ------    --------------  -----  \n",
      " 0   user_id   18068 non-null  int64  \n",
      " 1   distance  18068 non-null  float64\n",
      " 2   duration  18068 non-null  float64\n",
      " 3   date      18068 non-null  object \n",
      "dtypes: float64(2), int64(1), object(1)\n",
      "memory usage: 564.8+ KB\n"
     ]
    },
    {
     "data": {
      "text/plain": [
       "None"
      ]
     },
     "metadata": {},
     "output_type": "display_data"
    },
    {
     "name": "stdout",
     "output_type": "stream",
     "text": [
      "\n",
      "Количество дубликатов в таблице:\n",
      "\n"
     ]
    },
    {
     "data": {
      "text/plain": [
       "0"
      ]
     },
     "metadata": {},
     "output_type": "display_data"
    },
    {
     "name": "stdout",
     "output_type": "stream",
     "text": [
      "\n",
      "Количество пропуска в таблице:\n",
      "\n"
     ]
    },
    {
     "data": {
      "text/plain": [
       "user_id     0\n",
       "distance    0\n",
       "duration    0\n",
       "date        0\n",
       "dtype: int64"
      ]
     },
     "metadata": {},
     "output_type": "display_data"
    }
   ],
   "source": [
    "load(rides)"
   ]
  },
  {
   "cell_type": "markdown",
   "id": "0d76d9a7",
   "metadata": {},
   "source": [
    "##### Выведем таблицу, содержащую информацию о подписках. Изучим общую информацию о датафрейме"
   ]
  },
  {
   "cell_type": "code",
   "execution_count": 12,
   "id": "782906db",
   "metadata": {},
   "outputs": [
    {
     "name": "stdout",
     "output_type": "stream",
     "text": [
      "Первые 10 строк таблицы:\n",
      "\n"
     ]
    },
    {
     "data": {
      "text/html": [
       "<div>\n",
       "<style scoped>\n",
       "    .dataframe tbody tr th:only-of-type {\n",
       "        vertical-align: middle;\n",
       "    }\n",
       "\n",
       "    .dataframe tbody tr th {\n",
       "        vertical-align: top;\n",
       "    }\n",
       "\n",
       "    .dataframe thead th {\n",
       "        text-align: right;\n",
       "    }\n",
       "</style>\n",
       "<table border=\"1\" class=\"dataframe\">\n",
       "  <thead>\n",
       "    <tr style=\"text-align: right;\">\n",
       "      <th></th>\n",
       "      <th>subscription_type</th>\n",
       "      <th>minute_price</th>\n",
       "      <th>start_ride_price</th>\n",
       "      <th>subscription_fee</th>\n",
       "    </tr>\n",
       "  </thead>\n",
       "  <tbody>\n",
       "    <tr>\n",
       "      <th>0</th>\n",
       "      <td>free</td>\n",
       "      <td>8</td>\n",
       "      <td>50</td>\n",
       "      <td>0</td>\n",
       "    </tr>\n",
       "    <tr>\n",
       "      <th>1</th>\n",
       "      <td>ultra</td>\n",
       "      <td>6</td>\n",
       "      <td>0</td>\n",
       "      <td>199</td>\n",
       "    </tr>\n",
       "  </tbody>\n",
       "</table>\n",
       "</div>"
      ],
      "text/plain": [
       "  subscription_type  minute_price  start_ride_price  subscription_fee\n",
       "0              free             8                50                 0\n",
       "1             ultra             6                 0               199"
      ]
     },
     "metadata": {},
     "output_type": "display_data"
    },
    {
     "name": "stdout",
     "output_type": "stream",
     "text": [
      "\n",
      "Иноформация о таблице:\n",
      "\n",
      "<class 'pandas.core.frame.DataFrame'>\n",
      "RangeIndex: 2 entries, 0 to 1\n",
      "Data columns (total 4 columns):\n",
      " #   Column             Non-Null Count  Dtype \n",
      "---  ------             --------------  ----- \n",
      " 0   subscription_type  2 non-null      object\n",
      " 1   minute_price       2 non-null      int64 \n",
      " 2   start_ride_price   2 non-null      int64 \n",
      " 3   subscription_fee   2 non-null      int64 \n",
      "dtypes: int64(3), object(1)\n",
      "memory usage: 192.0+ bytes\n"
     ]
    },
    {
     "data": {
      "text/plain": [
       "None"
      ]
     },
     "metadata": {},
     "output_type": "display_data"
    },
    {
     "name": "stdout",
     "output_type": "stream",
     "text": [
      "\n",
      "Количество дубликатов в таблице:\n",
      "\n"
     ]
    },
    {
     "data": {
      "text/plain": [
       "0"
      ]
     },
     "metadata": {},
     "output_type": "display_data"
    },
    {
     "name": "stdout",
     "output_type": "stream",
     "text": [
      "\n",
      "Количество пропуска в таблице:\n",
      "\n"
     ]
    },
    {
     "data": {
      "text/plain": [
       "subscription_type    0\n",
       "minute_price         0\n",
       "start_ride_price     0\n",
       "subscription_fee     0\n",
       "dtype: int64"
      ]
     },
     "metadata": {},
     "output_type": "display_data"
    }
   ],
   "source": [
    "load(subscriptions)"
   ]
  },
  {
   "cell_type": "markdown",
   "id": "bd4b17ea",
   "metadata": {},
   "source": [
    "##### Вывод:  \n",
    "    Таблица \"users\" содержит информаию о пользователях приложения, состоит из 1565 строк и 5 столбцов:\n",
    "\n",
    "user_id\t- уникальный идентификатор пользователя\n",
    "\n",
    "name - имя пользователя\n",
    "\n",
    "age\t- возраст\n",
    "\n",
    "city - город\n",
    "\n",
    "subscription_type - тип подписки (free, ultra)\n",
    "\n",
    "В таблице присутствуют целочисленные и строковые значения, пропусков в таблице нет, есть 31 дубликат.\n",
    "\n",
    "    Таблица \"rides\" содержит информаию о поездках  пользователей приложения, состоит из 18068 строк и 4 столбцов:\n",
    "\n",
    "user_id -\tуникальный идентификатор пользователя\n",
    "\n",
    "distance -\tрасстояние, которое пользователь проехал в текущей сессии (в метрах)\n",
    "\n",
    "duration -\tпродолжительность сессии (в минутах) — время с того момента, как пользователь нажал кнопку «Начать поездку» до момента, как он нажал кнопку «Завершить поездку»\n",
    "\n",
    "date -\tдата совершения поездки\n",
    "\n",
    "В таблице присутствуют числовые и строковые значения, пропусков и дубликатов в таблице нет.\n",
    "\n",
    "    Таблица \"subscriptions\" содержит информаию о подписках пользователей приложения, состоит из 2 строк и 4 столбцов:\n",
    "\n",
    "subscription_type -\tтип подписки\n",
    "\n",
    "minute_price -\tстоимость одной минуты поездки по данной подписке\n",
    "\n",
    "start_ride_price -\tстоимость начала поездки\n",
    "\n",
    "subscription_fee -\tстоимость ежемесячного платежа\n",
    "\n",
    "В таблице присутствуют целочисленные и строковые значения, пропусков и дубликатов в таблице нет."
   ]
  },
  {
   "cell_type": "markdown",
   "id": "e95ebca7",
   "metadata": {},
   "source": [
    "#### Шаг 2. Предобработка данных"
   ]
  },
  {
   "cell_type": "markdown",
   "id": "0c2697d1",
   "metadata": {},
   "source": [
    "##### Приведём столбец \"date\" таблицы \"rides\"к типу даты pandas."
   ]
  },
  {
   "cell_type": "code",
   "execution_count": 13,
   "id": "af6d202c",
   "metadata": {},
   "outputs": [],
   "source": [
    "rides = pd.read_csv('/datasets/rides_go.csv', parse_dates=['date'])"
   ]
  },
  {
   "cell_type": "code",
   "execution_count": 14,
   "id": "e110c8c0",
   "metadata": {},
   "outputs": [
    {
     "data": {
      "text/plain": [
       "user_id              int64\n",
       "distance           float64\n",
       "duration           float64\n",
       "date        datetime64[ns]\n",
       "dtype: object"
      ]
     },
     "execution_count": 14,
     "metadata": {},
     "output_type": "execute_result"
    }
   ],
   "source": [
    "rides.dtypes"
   ]
  },
  {
   "cell_type": "markdown",
   "id": "0dee3610",
   "metadata": {},
   "source": [
    "###### Проверим за какой период предоставлены данные."
   ]
  },
  {
   "cell_type": "code",
   "execution_count": 15,
   "id": "5da2e6dc",
   "metadata": {},
   "outputs": [
    {
     "data": {
      "text/plain": [
       "(Timestamp('2021-01-01 00:00:00'), Timestamp('2021-12-30 00:00:00'))"
      ]
     },
     "execution_count": 15,
     "metadata": {},
     "output_type": "execute_result"
    }
   ],
   "source": [
    "rides['date'].min(), rides['date'].max()"
   ]
  },
  {
   "cell_type": "markdown",
   "id": "83ef43b7",
   "metadata": {},
   "source": [
    "Данные представлены за 2021 год с 01.01 по 30.12."
   ]
  },
  {
   "cell_type": "markdown",
   "id": "e7c15539",
   "metadata": {},
   "source": [
    "##### Создадим новый столбец в таблице \"ride\" с номером месяца на основе столбца \"date\"."
   ]
  },
  {
   "cell_type": "code",
   "execution_count": 16,
   "id": "8d8efa60",
   "metadata": {},
   "outputs": [],
   "source": [
    "rides['month'] = pd.DatetimeIndex(rides['date']).month "
   ]
  },
  {
   "cell_type": "markdown",
   "id": "045dd4ab",
   "metadata": {},
   "source": [
    "##### В таблице с данными пользователей найден 31 дубликат, избавимся от них."
   ]
  },
  {
   "cell_type": "code",
   "execution_count": 17,
   "id": "2c05e8fa",
   "metadata": {},
   "outputs": [],
   "source": [
    "users = users.drop_duplicates()"
   ]
  },
  {
   "cell_type": "markdown",
   "id": "fd61e6ba",
   "metadata": {},
   "source": [
    "##### Округлим расстояния в rides['distance']."
   ]
  },
  {
   "cell_type": "code",
   "execution_count": 18,
   "id": "efb92a1c",
   "metadata": {},
   "outputs": [],
   "source": [
    "rides['distance'] = rides['distance'].round().astype('int')"
   ]
  },
  {
   "cell_type": "markdown",
   "id": "6637014f",
   "metadata": {},
   "source": [
    "##### Вывод:\n",
    "На этапе предобработки столбец \"date\" таблицы \"rides\" был приведен к типу даты, создадан новый столбец в таблице \"ride\" с номером месяца на основе столбца \"date\", из таблицы \"users\" был удален 31 дубликат, были округлены расстояния в таблице \"rides\" и приведены к целочисленному значению."
   ]
  },
  {
   "cell_type": "markdown",
   "id": "212593c7",
   "metadata": {},
   "source": [
    "#### Шаг 3. Исследовательский анализ данных"
   ]
  },
  {
   "cell_type": "markdown",
   "id": "8342b2df",
   "metadata": {},
   "source": [
    "##### Опишием и визуализируем общую информацию о частоте встречаемости городов."
   ]
  },
  {
   "cell_type": "markdown",
   "id": "575ae3b3",
   "metadata": {},
   "source": [
    "###### Посмотрим сколько уникальных значений городов встречается в выборке."
   ]
  },
  {
   "cell_type": "code",
   "execution_count": 19,
   "id": "f3d6e471",
   "metadata": {},
   "outputs": [
    {
     "data": {
      "text/plain": [
       "Пятигорск         219\n",
       "Екатеринбург      204\n",
       "Ростов-на-Дону    198\n",
       "Краснодар         193\n",
       "Сочи              189\n",
       "Омск              183\n",
       "Тюмень            180\n",
       "Москва            168\n",
       "Name: city, dtype: int64"
      ]
     },
     "execution_count": 19,
     "metadata": {},
     "output_type": "execute_result"
    }
   ],
   "source": [
    "users['city'].value_counts()"
   ]
  },
  {
   "cell_type": "code",
   "execution_count": 20,
   "id": "260e2aca",
   "metadata": {},
   "outputs": [
    {
     "data": {
      "text/plain": [
       "191.75"
      ]
     },
     "execution_count": 20,
     "metadata": {},
     "output_type": "execute_result"
    }
   ],
   "source": [
    "users['city'].value_counts().mean()"
   ]
  },
  {
   "cell_type": "markdown",
   "id": "3c04200e",
   "metadata": {},
   "source": [
    "###### Построим график частоты встречаемости этих 8 городов."
   ]
  },
  {
   "cell_type": "code",
   "execution_count": 21,
   "id": "e657029d",
   "metadata": {},
   "outputs": [
    {
     "data": {
      "image/png": "[encoded data removed]",
      "text/plain": [
       "<Figure size 432x288 with 1 Axes>"
      ]
     },
     "metadata": {
      "needs_background": "light"
     },
     "output_type": "display_data"
    }
   ],
   "source": [
    "users.pivot_table(\n",
    "    index='city', \n",
    "    values='user_id', \n",
    "    aggfunc='count').sort_values(\n",
    "    by='user_id', \n",
    "    ascending=False).plot(\n",
    "    kind='bar', \n",
    "    grid=True, \n",
    "    legend=False)\n",
    "plt.title('График частоты встречаемости городов')\n",
    "plt.ylabel('Количество пользователей')\n",
    "plt.xlabel('Название города')\n",
    "plt.show()"
   ]
  },
  {
   "cell_type": "markdown",
   "id": "f5e60bf3",
   "metadata": {},
   "source": [
    "Больше всего пользователей из Пятигорска, меньше всего из Москвы.\n",
    "\n",
    "Колебания количества пользователей из разных городов незначительны. В среднем из каждого города рассматривается 192 пользователя."
   ]
  },
  {
   "cell_type": "markdown",
   "id": "30892854",
   "metadata": {},
   "source": [
    "##### Построим график соотношения пользователей с подпиской и без подписки."
   ]
  },
  {
   "cell_type": "markdown",
   "id": "c4133e5f",
   "metadata": {},
   "source": [
    "###### Посмотрим сколько пользователей купило подписку, а сколько пользуется приложением без подписки"
   ]
  },
  {
   "cell_type": "code",
   "execution_count": 22,
   "id": "57fe5e72",
   "metadata": {},
   "outputs": [
    {
     "data": {
      "text/plain": [
       "free     835\n",
       "ultra    699\n",
       "Name: subscription_type, dtype: int64"
      ]
     },
     "execution_count": 22,
     "metadata": {},
     "output_type": "execute_result"
    }
   ],
   "source": [
    "users['subscription_type'].value_counts()"
   ]
  },
  {
   "cell_type": "markdown",
   "id": "90a5e3a9",
   "metadata": {},
   "source": [
    "Пользоватей с подпиской немного меньше, чем пользоватей без подписки."
   ]
  },
  {
   "cell_type": "markdown",
   "id": "c3f227e9",
   "metadata": {},
   "source": [
    "###### Визуализируем данные."
   ]
  },
  {
   "cell_type": "code",
   "execution_count": 23,
   "id": "2e503d16",
   "metadata": {},
   "outputs": [
    {
     "data": {
      "image/png": "[encoded data removed]",
      "text/plain": [
       "<Figure size 360x360 with 1 Axes>"
      ]
     },
     "metadata": {},
     "output_type": "display_data"
    }
   ],
   "source": [
    "users.pivot_table(\n",
    "    index='subscription_type', \n",
    "    values='user_id', \n",
    "    aggfunc='count'\n",
    ").plot(\n",
    "    kind='pie', \n",
    "    subplots=True,  \n",
    "    autopct ='%1.1f%%', \n",
    "    legend=False, \n",
    "    figsize=(5,5), \n",
    "    fontsize=13, \n",
    "    ylabel='', \n",
    "    title='Диаграмма соотношения пользователей с подпиской и без');"
   ]
  },
  {
   "cell_type": "markdown",
   "id": "f06e714c",
   "metadata": {},
   "source": [
    "Пользоватей с подпиской 45.6%, пользоватей без подписки 54.4%."
   ]
  },
  {
   "cell_type": "markdown",
   "id": "05c0f441",
   "metadata": {},
   "source": [
    "Создадим функцию для визуалтзации данных. На вход функция будет принимать название таблицы и столбца, три заголовка и названия осей. На выходе функция возвратит 3 описания: числовое описание столбца, диаграмму размаха и гистограмму."
   ]
  },
  {
   "cell_type": "code",
   "execution_count": 24,
   "id": "4dff49f0",
   "metadata": {},
   "outputs": [],
   "source": [
    "def visual_3(df, title_1, title_2, title_3, xlabel, ylabel):\n",
    "    print (title_1)\n",
    "    \n",
    "    display (df.describe())\n",
    "    \n",
    "    plt.figure(figsize=(17,3))\n",
    "    sns.boxplot(\n",
    "        df, \n",
    "        orient='h'\n",
    "    ).set(\n",
    "        title = title_2, \n",
    "        xlabel = xlabel, \n",
    "        ylabel = '')\n",
    "    plt.show()\n",
    "    \n",
    "    plt.figure(figsize=(17,5))\n",
    "    sns.histplot(\n",
    "        df, \n",
    "        bins=100\n",
    "    ).set(title = title_3, \n",
    "        xlabel = xlabel, \n",
    "        ylabel = ylabel)\n",
    "    plt.show()"
   ]
  },
  {
   "cell_type": "markdown",
   "id": "5aa06330",
   "metadata": {},
   "source": [
    "##### Рассмотрим возраст пользователей."
   ]
  },
  {
   "cell_type": "code",
   "execution_count": 25,
   "id": "953f873d",
   "metadata": {},
   "outputs": [
    {
     "name": "stdout",
     "output_type": "stream",
     "text": [
      "Числовое описание возраста пользователей:\n"
     ]
    },
    {
     "data": {
      "text/plain": [
       "count    1534.000000\n",
       "mean       24.903520\n",
       "std         4.572367\n",
       "min        12.000000\n",
       "25%        22.000000\n",
       "50%        25.000000\n",
       "75%        28.000000\n",
       "max        43.000000\n",
       "Name: age, dtype: float64"
      ]
     },
     "metadata": {},
     "output_type": "display_data"
    },
    {
     "name": "stderr",
     "output_type": "stream",
     "text": [
      "/opt/conda/lib/python3.9/site-packages/seaborn/_decorators.py:36: FutureWarning: Pass the following variable as a keyword arg: x. From version 0.12, the only valid positional argument will be `data`, and passing other arguments without an explicit keyword will result in an error or misinterpretation.\n",
      "  warnings.warn(\n"
     ]
    },
    {
     "data": {
      "image/png": "[encoded data removed]",
      "text/plain": [
       "<Figure size 1224x216 with 1 Axes>"
      ]
     },
     "metadata": {
      "needs_background": "light"
     },
     "output_type": "display_data"
    },
    {
     "data": {
      "image/png": "[encoded data removed]",
      "text/plain": [
       "<Figure size 1224x360 with 1 Axes>"
      ]
     },
     "metadata": {
      "needs_background": "light"
     },
     "output_type": "display_data"
    }
   ],
   "source": [
    "visual_3(users['age'],\n",
    "       'Числовое описание возраста пользователей:',\n",
    "       'Диаграмма размаха возраста пользователей:',\n",
    "       'Гистограмма возраста пользователей:',\n",
    "       'возраст',\n",
    "       'Количество пользователей')"
   ]
  },
  {
   "cell_type": "markdown",
   "id": "23d52651",
   "metadata": {},
   "source": [
    "Возраст пользоватей от 12 до 43 лет, медианное и среднее значения почти равны между собой (25 и 24,9 соответсвенно).\n",
    "\n",
    "Межквартильный размах возраста пользователей от 22 до 28 лет. В пределах нормальных значений возраст от 13 до 37 лет, есть единичные выбросы на значениях 12, 38, 39 и 43.\n",
    "\n",
    "Распределение возраста пользователей похоже на нормальное, аномальных значений не наблюдается."
   ]
  },
  {
   "cell_type": "markdown",
   "id": "e048dc92",
   "metadata": {},
   "source": [
    "##### Рассмотрим расстояние, которое пользователь преодолел за одну поездку."
   ]
  },
  {
   "cell_type": "code",
   "execution_count": 26,
   "id": "c6f4d65e",
   "metadata": {},
   "outputs": [
    {
     "name": "stdout",
     "output_type": "stream",
     "text": [
      "Числовое описание расстояния, которое пользователь преодолел за одну поездку:\n"
     ]
    },
    {
     "data": {
      "text/plain": [
       "count    18068.000000\n",
       "mean      3070.659010\n",
       "std       1116.832209\n",
       "min          1.000000\n",
       "25%       2543.000000\n",
       "50%       3134.000000\n",
       "75%       3776.000000\n",
       "max       7211.000000\n",
       "Name: distance, dtype: float64"
      ]
     },
     "metadata": {},
     "output_type": "display_data"
    },
    {
     "name": "stderr",
     "output_type": "stream",
     "text": [
      "/opt/conda/lib/python3.9/site-packages/seaborn/_decorators.py:36: FutureWarning: Pass the following variable as a keyword arg: x. From version 0.12, the only valid positional argument will be `data`, and passing other arguments without an explicit keyword will result in an error or misinterpretation.\n",
      "  warnings.warn(\n"
     ]
    },
    {
     "data": {
      "image/png": "[encoded data removed]",
      "text/plain": [
       "<Figure size 1224x216 with 1 Axes>"
      ]
     },
     "metadata": {
      "needs_background": "light"
     },
     "output_type": "display_data"
    },
    {
     "data": {
      "image/png": "[encoded data removed]",
      "text/plain": [
       "<Figure size 1224x360 with 1 Axes>"
      ]
     },
     "metadata": {
      "needs_background": "light"
     },
     "output_type": "display_data"
    }
   ],
   "source": [
    "visual_3(rides['distance'],\n",
    "       'Числовое описание расстояния, которое пользователь преодолел за одну поездку:',\n",
    "       'Диаграмма размаха расстояния, которое пользователь преодолел за одну поездку:',\n",
    "       'Гистограмма расстояния, которое пользователь преодолел за одну поездку:',\n",
    "       'Расстояние',\n",
    "       'Количество поездок')"
   ]
  },
  {
   "cell_type": "markdown",
   "id": "23f3c525",
   "metadata": {},
   "source": [
    "Расстояние поездок от 1 до 7211 метров, медианное и среднее значения почти равны между собой (3134 и 3071 соответсвенно).\n",
    "\n",
    "Межквартильный размах расстояния от 2543 до 3776 метров. В пределах нормальных значений расстояния от 1750 до 5600 метров, есть множественные выбросы на значениях от 1 до 1750 от 5600 до 6100, далее выбросы встречаются все реже до значения в 7211 метров.\n",
    "\n",
    "Наблюдаются два пика на 600 и 3100 метров. Есть предположение что первый пик будет наблюдаться в основном у пользователей с подпиской, так как им выгоднее совершать короткие поездки, чем поьзователям без подписки, далее проверим это предположение в шаге 4."
   ]
  },
  {
   "cell_type": "markdown",
   "id": "fb704165",
   "metadata": {},
   "source": [
    "##### Рассмотрим продолжительность поездок."
   ]
  },
  {
   "cell_type": "code",
   "execution_count": 27,
   "id": "d4b74456",
   "metadata": {},
   "outputs": [
    {
     "name": "stdout",
     "output_type": "stream",
     "text": [
      "Числовое описание длительности поездок:\n"
     ]
    },
    {
     "data": {
      "text/plain": [
       "count    18068.000000\n",
       "mean        17.805011\n",
       "std          6.091051\n",
       "min          0.500000\n",
       "25%         13.597563\n",
       "50%         17.678395\n",
       "75%         21.724800\n",
       "max         40.823963\n",
       "Name: duration, dtype: float64"
      ]
     },
     "metadata": {},
     "output_type": "display_data"
    },
    {
     "name": "stderr",
     "output_type": "stream",
     "text": [
      "/opt/conda/lib/python3.9/site-packages/seaborn/_decorators.py:36: FutureWarning: Pass the following variable as a keyword arg: x. From version 0.12, the only valid positional argument will be `data`, and passing other arguments without an explicit keyword will result in an error or misinterpretation.\n",
      "  warnings.warn(\n"
     ]
    },
    {
     "data": {
      "image/png": "[encoded data removed]",
      "text/plain": [
       "<Figure size 1224x216 with 1 Axes>"
      ]
     },
     "metadata": {
      "needs_background": "light"
     },
     "output_type": "display_data"
    },
    {
     "data": {
      "image/png": "[encoded data removed]",
      "text/plain": [
       "<Figure size 1224x360 with 1 Axes>"
      ]
     },
     "metadata": {
      "needs_background": "light"
     },
     "output_type": "display_data"
    }
   ],
   "source": [
    "visual_3(rides['duration'],\n",
    "       'Числовое описание длительности поездок:',\n",
    "       'Диаграмма размаха длительности поездок:',\n",
    "       'Гистограмма длительности поездок:',\n",
    "       'Продолжительнось поездки',\n",
    "       'Количество поездок')"
   ]
  },
  {
   "cell_type": "markdown",
   "id": "7832bd12",
   "metadata": {},
   "source": [
    "Время поездок от 0,5 до 40,8 минут, медианное и среднее значения почти равны между собой (17,7 и 17,8 соответсвенно)\n",
    "\n",
    "Межквартильный размах времени поездок от 14 до 22 минут. В пределах нормальных значений время поездки от 2 до 34 минут, есть множественные выбросы на значении 0,5 минут, возможно такие значения означают, что пользователь выбрал самокат, нажал старт, но никуда не поехал (скорее всего это делают пользователи с подпиской), далее проверим это предположение в шаге 4. Далее выбросы довольно часто на значениях от 34 до 37 минут, и до 41 минуты выбросы уже представляют собой единичные значения."
   ]
  },
  {
   "cell_type": "markdown",
   "id": "e30000b6",
   "metadata": {},
   "source": [
    "###### Рассмотрим внимательнее аномальное значение."
   ]
  },
  {
   "cell_type": "code",
   "execution_count": 28,
   "id": "5287af4a",
   "metadata": {},
   "outputs": [
    {
     "data": {
      "image/png": "[encoded data removed]",
      "text/plain": [
       "<Figure size 432x288 with 1 Axes>"
      ]
     },
     "metadata": {
      "needs_background": "light"
     },
     "output_type": "display_data"
    }
   ],
   "source": [
    "rides['duration'].hist(bins=10, range=(0,1)).set(xlabel='Продолжительнось поездки', ylabel='Количество поездок');"
   ]
  },
  {
   "cell_type": "markdown",
   "id": "e473e755",
   "metadata": {},
   "source": [
    "На значении 0,5 минут пик достигает 95 поездок, в шаге 4 проверим присутствует ли этот пик для обоих категорий пользователей, и если предположение о том, что пользователь выбрал самокат, нажал старт, но никуда не поехал , подтвердится удалим эти поездки из выборки.\n",
    "\n",
    "Кроме описанной выше аномалии, распределение остальных значений напоминает нормальное, пик примерно на 17 минутах."
   ]
  },
  {
   "cell_type": "markdown",
   "id": "e6672c10",
   "metadata": {},
   "source": [
    "##### Вывод:\n",
    "Больше всего пользователей из Пятигорска, меньше всего из Москвы.\n",
    "\n",
    "Колебания количества пользователей из разных городов незначительны. В среднем из каждого города рассматривается 192 пользователя.\n",
    "\n",
    "Пользоватей с подпиской 45.6%, пользоватей без подписки 54.4%.\n",
    "\n",
    "Возраст пользоватей от 12 до 43 лет, медианное и среднее значения почти равны между собой (25 и 24,9 соответсвенно).\n",
    "\n",
    "Межквартильный размах возраста пользователей от 22 до 28 лет. В пределах нормальных значений возраст от 13 до 37 лет, есть единичные выбросы на значениях 12, 38, 39 и 43.\n",
    "\n",
    "Распределение возраста пользователей похоже на нормальное, аномальных значений не наблюдается.\n",
    "\n",
    "Расстояние поездок от 1 до 7211 метров, медианное и среднее значения почти равны между собой (3134 и 3071 соответсвенно).\n",
    "\n",
    "Межквартильный размах расстояния от 2543 до 3776 метров. В пределах нормальных значений расстояния от 1750 до 5600 метров, есть множественные выбросы на значениях от 1 до 1750 от 5600 до 6100, далее выбросы встречаются все реже до значения в 7211 метров.\n",
    "\n",
    "Наблюдаются два пика на 600 и 3100 метров. Есть предположение что первый пик будет наблюдаться в основном у пользователей с подпиской, так как им выгоднее совершать короткие поездки, чем поьзователям без подписки, далее проверим это предположение в шаге 4.\n",
    "\n",
    "Время поездок от 0,5 до 40,8 минут, медианное и среднее значения почти равны между собой (17,7 и 17,8 соответсвенно)\n",
    "\n",
    "Межквартильный размах времени поездок от 14 до 22 минут. В пределах нормальных значений время поездки от 2 до 34 минут, есть множественные выбросы на значении 0,5 минут, возможно такие значения означают, что пользователь выбрал самокат, нажал старт, но никуда не поехал (скорее всего это делают пользователи с подпиской), далее проверим это предположение в шаге 4. Далее выбросы довольно часто на значениях от 34 до 37 минут, и до 41 минуты выбросы уже представляют собой единичные значения.\n",
    "\n",
    "На значении 0,5 минут пик достигает 95 поездок, в шаге 4 проверим присутствует ли этот пик для обоих категорий пользователей, и если предположение о том, что пользователь выбрал самокат, нажал старт, но никуда не поехал , подтвердится удалим эти поездки из выборки.\n",
    "\n",
    "Кроме описанной выше аномалии, распределение остальных значений напоминает нормальное, пик примерно на 17 минутах."
   ]
  },
  {
   "cell_type": "markdown",
   "id": "4ef51331",
   "metadata": {},
   "source": [
    "#### Шаг 4. Объединение данных"
   ]
  },
  {
   "cell_type": "markdown",
   "id": "058345d5",
   "metadata": {},
   "source": [
    "##### Объединим данные о пользователях и поездках."
   ]
  },
  {
   "cell_type": "code",
   "execution_count": 29,
   "id": "bcf4a5b8",
   "metadata": {},
   "outputs": [],
   "source": [
    "data = users.merge(rides, on='user_id', how='inner')"
   ]
  },
  {
   "cell_type": "code",
   "execution_count": 30,
   "id": "b6dac412",
   "metadata": {},
   "outputs": [
    {
     "name": "stdout",
     "output_type": "stream",
     "text": [
      "Первые 10 строк таблицы:\n",
      "\n"
     ]
    },
    {
     "data": {
      "text/html": [
       "<div>\n",
       "<style scoped>\n",
       "    .dataframe tbody tr th:only-of-type {\n",
       "        vertical-align: middle;\n",
       "    }\n",
       "\n",
       "    .dataframe tbody tr th {\n",
       "        vertical-align: top;\n",
       "    }\n",
       "\n",
       "    .dataframe thead th {\n",
       "        text-align: right;\n",
       "    }\n",
       "</style>\n",
       "<table border=\"1\" class=\"dataframe\">\n",
       "  <thead>\n",
       "    <tr style=\"text-align: right;\">\n",
       "      <th></th>\n",
       "      <th>user_id</th>\n",
       "      <th>name</th>\n",
       "      <th>age</th>\n",
       "      <th>city</th>\n",
       "      <th>subscription_type</th>\n",
       "      <th>distance</th>\n",
       "      <th>duration</th>\n",
       "      <th>date</th>\n",
       "      <th>month</th>\n",
       "    </tr>\n",
       "  </thead>\n",
       "  <tbody>\n",
       "    <tr>\n",
       "      <th>0</th>\n",
       "      <td>1</td>\n",
       "      <td>Кира</td>\n",
       "      <td>22</td>\n",
       "      <td>Тюмень</td>\n",
       "      <td>ultra</td>\n",
       "      <td>4410</td>\n",
       "      <td>25.599769</td>\n",
       "      <td>2021-01-01</td>\n",
       "      <td>1</td>\n",
       "    </tr>\n",
       "    <tr>\n",
       "      <th>1</th>\n",
       "      <td>1</td>\n",
       "      <td>Кира</td>\n",
       "      <td>22</td>\n",
       "      <td>Тюмень</td>\n",
       "      <td>ultra</td>\n",
       "      <td>2618</td>\n",
       "      <td>15.816871</td>\n",
       "      <td>2021-01-18</td>\n",
       "      <td>1</td>\n",
       "    </tr>\n",
       "    <tr>\n",
       "      <th>2</th>\n",
       "      <td>1</td>\n",
       "      <td>Кира</td>\n",
       "      <td>22</td>\n",
       "      <td>Тюмень</td>\n",
       "      <td>ultra</td>\n",
       "      <td>754</td>\n",
       "      <td>6.232113</td>\n",
       "      <td>2021-04-20</td>\n",
       "      <td>4</td>\n",
       "    </tr>\n",
       "    <tr>\n",
       "      <th>3</th>\n",
       "      <td>1</td>\n",
       "      <td>Кира</td>\n",
       "      <td>22</td>\n",
       "      <td>Тюмень</td>\n",
       "      <td>ultra</td>\n",
       "      <td>2695</td>\n",
       "      <td>18.511000</td>\n",
       "      <td>2021-08-11</td>\n",
       "      <td>8</td>\n",
       "    </tr>\n",
       "    <tr>\n",
       "      <th>4</th>\n",
       "      <td>1</td>\n",
       "      <td>Кира</td>\n",
       "      <td>22</td>\n",
       "      <td>Тюмень</td>\n",
       "      <td>ultra</td>\n",
       "      <td>4029</td>\n",
       "      <td>26.265803</td>\n",
       "      <td>2021-08-28</td>\n",
       "      <td>8</td>\n",
       "    </tr>\n",
       "    <tr>\n",
       "      <th>5</th>\n",
       "      <td>1</td>\n",
       "      <td>Кира</td>\n",
       "      <td>22</td>\n",
       "      <td>Тюмень</td>\n",
       "      <td>ultra</td>\n",
       "      <td>2771</td>\n",
       "      <td>16.650138</td>\n",
       "      <td>2021-10-09</td>\n",
       "      <td>10</td>\n",
       "    </tr>\n",
       "    <tr>\n",
       "      <th>6</th>\n",
       "      <td>1</td>\n",
       "      <td>Кира</td>\n",
       "      <td>22</td>\n",
       "      <td>Тюмень</td>\n",
       "      <td>ultra</td>\n",
       "      <td>3039</td>\n",
       "      <td>14.927879</td>\n",
       "      <td>2021-10-19</td>\n",
       "      <td>10</td>\n",
       "    </tr>\n",
       "    <tr>\n",
       "      <th>7</th>\n",
       "      <td>1</td>\n",
       "      <td>Кира</td>\n",
       "      <td>22</td>\n",
       "      <td>Тюмень</td>\n",
       "      <td>ultra</td>\n",
       "      <td>2842</td>\n",
       "      <td>23.117468</td>\n",
       "      <td>2021-11-06</td>\n",
       "      <td>11</td>\n",
       "    </tr>\n",
       "    <tr>\n",
       "      <th>8</th>\n",
       "      <td>1</td>\n",
       "      <td>Кира</td>\n",
       "      <td>22</td>\n",
       "      <td>Тюмень</td>\n",
       "      <td>ultra</td>\n",
       "      <td>3413</td>\n",
       "      <td>15.238072</td>\n",
       "      <td>2021-11-14</td>\n",
       "      <td>11</td>\n",
       "    </tr>\n",
       "    <tr>\n",
       "      <th>9</th>\n",
       "      <td>1</td>\n",
       "      <td>Кира</td>\n",
       "      <td>22</td>\n",
       "      <td>Тюмень</td>\n",
       "      <td>ultra</td>\n",
       "      <td>749</td>\n",
       "      <td>15.041884</td>\n",
       "      <td>2021-11-22</td>\n",
       "      <td>11</td>\n",
       "    </tr>\n",
       "  </tbody>\n",
       "</table>\n",
       "</div>"
      ],
      "text/plain": [
       "   user_id  name  age    city subscription_type  distance   duration  \\\n",
       "0        1  Кира   22  Тюмень             ultra      4410  25.599769   \n",
       "1        1  Кира   22  Тюмень             ultra      2618  15.816871   \n",
       "2        1  Кира   22  Тюмень             ultra       754   6.232113   \n",
       "3        1  Кира   22  Тюмень             ultra      2695  18.511000   \n",
       "4        1  Кира   22  Тюмень             ultra      4029  26.265803   \n",
       "5        1  Кира   22  Тюмень             ultra      2771  16.650138   \n",
       "6        1  Кира   22  Тюмень             ultra      3039  14.927879   \n",
       "7        1  Кира   22  Тюмень             ultra      2842  23.117468   \n",
       "8        1  Кира   22  Тюмень             ultra      3413  15.238072   \n",
       "9        1  Кира   22  Тюмень             ultra       749  15.041884   \n",
       "\n",
       "        date  month  \n",
       "0 2021-01-01      1  \n",
       "1 2021-01-18      1  \n",
       "2 2021-04-20      4  \n",
       "3 2021-08-11      8  \n",
       "4 2021-08-28      8  \n",
       "5 2021-10-09     10  \n",
       "6 2021-10-19     10  \n",
       "7 2021-11-06     11  \n",
       "8 2021-11-14     11  \n",
       "9 2021-11-22     11  "
      ]
     },
     "metadata": {},
     "output_type": "display_data"
    },
    {
     "name": "stdout",
     "output_type": "stream",
     "text": [
      "\n",
      "Иноформация о таблице:\n",
      "\n",
      "<class 'pandas.core.frame.DataFrame'>\n",
      "Int64Index: 18068 entries, 0 to 18067\n",
      "Data columns (total 9 columns):\n",
      " #   Column             Non-Null Count  Dtype         \n",
      "---  ------             --------------  -----         \n",
      " 0   user_id            18068 non-null  int64         \n",
      " 1   name               18068 non-null  object        \n",
      " 2   age                18068 non-null  int64         \n",
      " 3   city               18068 non-null  object        \n",
      " 4   subscription_type  18068 non-null  object        \n",
      " 5   distance           18068 non-null  int64         \n",
      " 6   duration           18068 non-null  float64       \n",
      " 7   date               18068 non-null  datetime64[ns]\n",
      " 8   month              18068 non-null  int64         \n",
      "dtypes: datetime64[ns](1), float64(1), int64(4), object(3)\n",
      "memory usage: 1.4+ MB\n"
     ]
    },
    {
     "data": {
      "text/plain": [
       "None"
      ]
     },
     "metadata": {},
     "output_type": "display_data"
    },
    {
     "name": "stdout",
     "output_type": "stream",
     "text": [
      "\n",
      "Количество дубликатов в таблице:\n",
      "\n"
     ]
    },
    {
     "data": {
      "text/plain": [
       "0"
      ]
     },
     "metadata": {},
     "output_type": "display_data"
    },
    {
     "name": "stdout",
     "output_type": "stream",
     "text": [
      "\n",
      "Количество пропуска в таблице:\n",
      "\n"
     ]
    },
    {
     "data": {
      "text/plain": [
       "user_id              0\n",
       "name                 0\n",
       "age                  0\n",
       "city                 0\n",
       "subscription_type    0\n",
       "distance             0\n",
       "duration             0\n",
       "date                 0\n",
       "month                0\n",
       "dtype: int64"
      ]
     },
     "metadata": {},
     "output_type": "display_data"
    }
   ],
   "source": [
    "load(data)"
   ]
  },
  {
   "cell_type": "markdown",
   "id": "f2683e44",
   "metadata": {},
   "source": [
    "В получившейся общей таблице 18068 строк, как и было в исходной таблице \"rides\""
   ]
  },
  {
   "cell_type": "markdown",
   "id": "9f71a487",
   "metadata": {},
   "source": [
    "##### Создадим отдельные датафреймы с пользователями купившими и не купившими подписку."
   ]
  },
  {
   "cell_type": "markdown",
   "id": "f59e596a",
   "metadata": {},
   "source": [
    "###### Создадим датафрейм с данными о пользователях без подписки."
   ]
  },
  {
   "cell_type": "code",
   "execution_count": 31,
   "id": "63c9b37b",
   "metadata": {},
   "outputs": [],
   "source": [
    "data_free = data.query('subscription_type == \"free\"')"
   ]
  },
  {
   "cell_type": "code",
   "execution_count": 32,
   "id": "d45a4a4b",
   "metadata": {},
   "outputs": [
    {
     "name": "stdout",
     "output_type": "stream",
     "text": [
      "Первые 10 строк таблицы:\n",
      "\n"
     ]
    },
    {
     "data": {
      "text/html": [
       "<div>\n",
       "<style scoped>\n",
       "    .dataframe tbody tr th:only-of-type {\n",
       "        vertical-align: middle;\n",
       "    }\n",
       "\n",
       "    .dataframe tbody tr th {\n",
       "        vertical-align: top;\n",
       "    }\n",
       "\n",
       "    .dataframe thead th {\n",
       "        text-align: right;\n",
       "    }\n",
       "</style>\n",
       "<table border=\"1\" class=\"dataframe\">\n",
       "  <thead>\n",
       "    <tr style=\"text-align: right;\">\n",
       "      <th></th>\n",
       "      <th>user_id</th>\n",
       "      <th>name</th>\n",
       "      <th>age</th>\n",
       "      <th>city</th>\n",
       "      <th>subscription_type</th>\n",
       "      <th>distance</th>\n",
       "      <th>duration</th>\n",
       "      <th>date</th>\n",
       "      <th>month</th>\n",
       "    </tr>\n",
       "  </thead>\n",
       "  <tbody>\n",
       "    <tr>\n",
       "      <th>6500</th>\n",
       "      <td>700</td>\n",
       "      <td>Айдар</td>\n",
       "      <td>22</td>\n",
       "      <td>Омск</td>\n",
       "      <td>free</td>\n",
       "      <td>2516</td>\n",
       "      <td>14.944286</td>\n",
       "      <td>2021-01-02</td>\n",
       "      <td>1</td>\n",
       "    </tr>\n",
       "    <tr>\n",
       "      <th>6501</th>\n",
       "      <td>700</td>\n",
       "      <td>Айдар</td>\n",
       "      <td>22</td>\n",
       "      <td>Омск</td>\n",
       "      <td>free</td>\n",
       "      <td>847</td>\n",
       "      <td>16.234663</td>\n",
       "      <td>2021-02-01</td>\n",
       "      <td>2</td>\n",
       "    </tr>\n",
       "    <tr>\n",
       "      <th>6502</th>\n",
       "      <td>700</td>\n",
       "      <td>Айдар</td>\n",
       "      <td>22</td>\n",
       "      <td>Омск</td>\n",
       "      <td>free</td>\n",
       "      <td>4004</td>\n",
       "      <td>20.016628</td>\n",
       "      <td>2021-02-04</td>\n",
       "      <td>2</td>\n",
       "    </tr>\n",
       "    <tr>\n",
       "      <th>6503</th>\n",
       "      <td>700</td>\n",
       "      <td>Айдар</td>\n",
       "      <td>22</td>\n",
       "      <td>Омск</td>\n",
       "      <td>free</td>\n",
       "      <td>1206</td>\n",
       "      <td>9.782872</td>\n",
       "      <td>2021-02-10</td>\n",
       "      <td>2</td>\n",
       "    </tr>\n",
       "    <tr>\n",
       "      <th>6504</th>\n",
       "      <td>700</td>\n",
       "      <td>Айдар</td>\n",
       "      <td>22</td>\n",
       "      <td>Омск</td>\n",
       "      <td>free</td>\n",
       "      <td>3047</td>\n",
       "      <td>17.427673</td>\n",
       "      <td>2021-02-14</td>\n",
       "      <td>2</td>\n",
       "    </tr>\n",
       "    <tr>\n",
       "      <th>6505</th>\n",
       "      <td>700</td>\n",
       "      <td>Айдар</td>\n",
       "      <td>22</td>\n",
       "      <td>Омск</td>\n",
       "      <td>free</td>\n",
       "      <td>4342</td>\n",
       "      <td>22.368009</td>\n",
       "      <td>2021-02-23</td>\n",
       "      <td>2</td>\n",
       "    </tr>\n",
       "    <tr>\n",
       "      <th>6506</th>\n",
       "      <td>700</td>\n",
       "      <td>Айдар</td>\n",
       "      <td>22</td>\n",
       "      <td>Омск</td>\n",
       "      <td>free</td>\n",
       "      <td>3798</td>\n",
       "      <td>18.243756</td>\n",
       "      <td>2021-03-03</td>\n",
       "      <td>3</td>\n",
       "    </tr>\n",
       "    <tr>\n",
       "      <th>6507</th>\n",
       "      <td>700</td>\n",
       "      <td>Айдар</td>\n",
       "      <td>22</td>\n",
       "      <td>Омск</td>\n",
       "      <td>free</td>\n",
       "      <td>2985</td>\n",
       "      <td>15.424899</td>\n",
       "      <td>2021-04-09</td>\n",
       "      <td>4</td>\n",
       "    </tr>\n",
       "    <tr>\n",
       "      <th>6508</th>\n",
       "      <td>700</td>\n",
       "      <td>Айдар</td>\n",
       "      <td>22</td>\n",
       "      <td>Омск</td>\n",
       "      <td>free</td>\n",
       "      <td>3360</td>\n",
       "      <td>16.765497</td>\n",
       "      <td>2021-06-12</td>\n",
       "      <td>6</td>\n",
       "    </tr>\n",
       "    <tr>\n",
       "      <th>6509</th>\n",
       "      <td>700</td>\n",
       "      <td>Айдар</td>\n",
       "      <td>22</td>\n",
       "      <td>Омск</td>\n",
       "      <td>free</td>\n",
       "      <td>2568</td>\n",
       "      <td>11.312160</td>\n",
       "      <td>2021-06-23</td>\n",
       "      <td>6</td>\n",
       "    </tr>\n",
       "  </tbody>\n",
       "</table>\n",
       "</div>"
      ],
      "text/plain": [
       "      user_id   name  age  city subscription_type  distance   duration  \\\n",
       "6500      700  Айдар   22  Омск              free      2516  14.944286   \n",
       "6501      700  Айдар   22  Омск              free       847  16.234663   \n",
       "6502      700  Айдар   22  Омск              free      4004  20.016628   \n",
       "6503      700  Айдар   22  Омск              free      1206   9.782872   \n",
       "6504      700  Айдар   22  Омск              free      3047  17.427673   \n",
       "6505      700  Айдар   22  Омск              free      4342  22.368009   \n",
       "6506      700  Айдар   22  Омск              free      3798  18.243756   \n",
       "6507      700  Айдар   22  Омск              free      2985  15.424899   \n",
       "6508      700  Айдар   22  Омск              free      3360  16.765497   \n",
       "6509      700  Айдар   22  Омск              free      2568  11.312160   \n",
       "\n",
       "           date  month  \n",
       "6500 2021-01-02      1  \n",
       "6501 2021-02-01      2  \n",
       "6502 2021-02-04      2  \n",
       "6503 2021-02-10      2  \n",
       "6504 2021-02-14      2  \n",
       "6505 2021-02-23      2  \n",
       "6506 2021-03-03      3  \n",
       "6507 2021-04-09      4  \n",
       "6508 2021-06-12      6  \n",
       "6509 2021-06-23      6  "
      ]
     },
     "metadata": {},
     "output_type": "display_data"
    },
    {
     "name": "stdout",
     "output_type": "stream",
     "text": [
      "\n",
      "Иноформация о таблице:\n",
      "\n",
      "<class 'pandas.core.frame.DataFrame'>\n",
      "Int64Index: 11568 entries, 6500 to 18067\n",
      "Data columns (total 9 columns):\n",
      " #   Column             Non-Null Count  Dtype         \n",
      "---  ------             --------------  -----         \n",
      " 0   user_id            11568 non-null  int64         \n",
      " 1   name               11568 non-null  object        \n",
      " 2   age                11568 non-null  int64         \n",
      " 3   city               11568 non-null  object        \n",
      " 4   subscription_type  11568 non-null  object        \n",
      " 5   distance           11568 non-null  int64         \n",
      " 6   duration           11568 non-null  float64       \n",
      " 7   date               11568 non-null  datetime64[ns]\n",
      " 8   month              11568 non-null  int64         \n",
      "dtypes: datetime64[ns](1), float64(1), int64(4), object(3)\n",
      "memory usage: 903.8+ KB\n"
     ]
    },
    {
     "data": {
      "text/plain": [
       "None"
      ]
     },
     "metadata": {},
     "output_type": "display_data"
    },
    {
     "name": "stdout",
     "output_type": "stream",
     "text": [
      "\n",
      "Количество дубликатов в таблице:\n",
      "\n"
     ]
    },
    {
     "data": {
      "text/plain": [
       "0"
      ]
     },
     "metadata": {},
     "output_type": "display_data"
    },
    {
     "name": "stdout",
     "output_type": "stream",
     "text": [
      "\n",
      "Количество пропуска в таблице:\n",
      "\n"
     ]
    },
    {
     "data": {
      "text/plain": [
       "user_id              0\n",
       "name                 0\n",
       "age                  0\n",
       "city                 0\n",
       "subscription_type    0\n",
       "distance             0\n",
       "duration             0\n",
       "date                 0\n",
       "month                0\n",
       "dtype: int64"
      ]
     },
     "metadata": {},
     "output_type": "display_data"
    }
   ],
   "source": [
    "load(data_free)"
   ]
  },
  {
   "cell_type": "markdown",
   "id": "74628425",
   "metadata": {},
   "source": [
    "###### Создадим датафрейм с данными о пользователях с подпиской."
   ]
  },
  {
   "cell_type": "code",
   "execution_count": 33,
   "id": "da61c66e",
   "metadata": {},
   "outputs": [],
   "source": [
    "data_ultra = data.query('subscription_type == \"ultra\"')"
   ]
  },
  {
   "cell_type": "code",
   "execution_count": 34,
   "id": "ad79c012",
   "metadata": {},
   "outputs": [
    {
     "name": "stdout",
     "output_type": "stream",
     "text": [
      "Первые 10 строк таблицы:\n",
      "\n"
     ]
    },
    {
     "data": {
      "text/html": [
       "<div>\n",
       "<style scoped>\n",
       "    .dataframe tbody tr th:only-of-type {\n",
       "        vertical-align: middle;\n",
       "    }\n",
       "\n",
       "    .dataframe tbody tr th {\n",
       "        vertical-align: top;\n",
       "    }\n",
       "\n",
       "    .dataframe thead th {\n",
       "        text-align: right;\n",
       "    }\n",
       "</style>\n",
       "<table border=\"1\" class=\"dataframe\">\n",
       "  <thead>\n",
       "    <tr style=\"text-align: right;\">\n",
       "      <th></th>\n",
       "      <th>user_id</th>\n",
       "      <th>name</th>\n",
       "      <th>age</th>\n",
       "      <th>city</th>\n",
       "      <th>subscription_type</th>\n",
       "      <th>distance</th>\n",
       "      <th>duration</th>\n",
       "      <th>date</th>\n",
       "      <th>month</th>\n",
       "    </tr>\n",
       "  </thead>\n",
       "  <tbody>\n",
       "    <tr>\n",
       "      <th>0</th>\n",
       "      <td>1</td>\n",
       "      <td>Кира</td>\n",
       "      <td>22</td>\n",
       "      <td>Тюмень</td>\n",
       "      <td>ultra</td>\n",
       "      <td>4410</td>\n",
       "      <td>25.599769</td>\n",
       "      <td>2021-01-01</td>\n",
       "      <td>1</td>\n",
       "    </tr>\n",
       "    <tr>\n",
       "      <th>1</th>\n",
       "      <td>1</td>\n",
       "      <td>Кира</td>\n",
       "      <td>22</td>\n",
       "      <td>Тюмень</td>\n",
       "      <td>ultra</td>\n",
       "      <td>2618</td>\n",
       "      <td>15.816871</td>\n",
       "      <td>2021-01-18</td>\n",
       "      <td>1</td>\n",
       "    </tr>\n",
       "    <tr>\n",
       "      <th>2</th>\n",
       "      <td>1</td>\n",
       "      <td>Кира</td>\n",
       "      <td>22</td>\n",
       "      <td>Тюмень</td>\n",
       "      <td>ultra</td>\n",
       "      <td>754</td>\n",
       "      <td>6.232113</td>\n",
       "      <td>2021-04-20</td>\n",
       "      <td>4</td>\n",
       "    </tr>\n",
       "    <tr>\n",
       "      <th>3</th>\n",
       "      <td>1</td>\n",
       "      <td>Кира</td>\n",
       "      <td>22</td>\n",
       "      <td>Тюмень</td>\n",
       "      <td>ultra</td>\n",
       "      <td>2695</td>\n",
       "      <td>18.511000</td>\n",
       "      <td>2021-08-11</td>\n",
       "      <td>8</td>\n",
       "    </tr>\n",
       "    <tr>\n",
       "      <th>4</th>\n",
       "      <td>1</td>\n",
       "      <td>Кира</td>\n",
       "      <td>22</td>\n",
       "      <td>Тюмень</td>\n",
       "      <td>ultra</td>\n",
       "      <td>4029</td>\n",
       "      <td>26.265803</td>\n",
       "      <td>2021-08-28</td>\n",
       "      <td>8</td>\n",
       "    </tr>\n",
       "    <tr>\n",
       "      <th>5</th>\n",
       "      <td>1</td>\n",
       "      <td>Кира</td>\n",
       "      <td>22</td>\n",
       "      <td>Тюмень</td>\n",
       "      <td>ultra</td>\n",
       "      <td>2771</td>\n",
       "      <td>16.650138</td>\n",
       "      <td>2021-10-09</td>\n",
       "      <td>10</td>\n",
       "    </tr>\n",
       "    <tr>\n",
       "      <th>6</th>\n",
       "      <td>1</td>\n",
       "      <td>Кира</td>\n",
       "      <td>22</td>\n",
       "      <td>Тюмень</td>\n",
       "      <td>ultra</td>\n",
       "      <td>3039</td>\n",
       "      <td>14.927879</td>\n",
       "      <td>2021-10-19</td>\n",
       "      <td>10</td>\n",
       "    </tr>\n",
       "    <tr>\n",
       "      <th>7</th>\n",
       "      <td>1</td>\n",
       "      <td>Кира</td>\n",
       "      <td>22</td>\n",
       "      <td>Тюмень</td>\n",
       "      <td>ultra</td>\n",
       "      <td>2842</td>\n",
       "      <td>23.117468</td>\n",
       "      <td>2021-11-06</td>\n",
       "      <td>11</td>\n",
       "    </tr>\n",
       "    <tr>\n",
       "      <th>8</th>\n",
       "      <td>1</td>\n",
       "      <td>Кира</td>\n",
       "      <td>22</td>\n",
       "      <td>Тюмень</td>\n",
       "      <td>ultra</td>\n",
       "      <td>3413</td>\n",
       "      <td>15.238072</td>\n",
       "      <td>2021-11-14</td>\n",
       "      <td>11</td>\n",
       "    </tr>\n",
       "    <tr>\n",
       "      <th>9</th>\n",
       "      <td>1</td>\n",
       "      <td>Кира</td>\n",
       "      <td>22</td>\n",
       "      <td>Тюмень</td>\n",
       "      <td>ultra</td>\n",
       "      <td>749</td>\n",
       "      <td>15.041884</td>\n",
       "      <td>2021-11-22</td>\n",
       "      <td>11</td>\n",
       "    </tr>\n",
       "  </tbody>\n",
       "</table>\n",
       "</div>"
      ],
      "text/plain": [
       "   user_id  name  age    city subscription_type  distance   duration  \\\n",
       "0        1  Кира   22  Тюмень             ultra      4410  25.599769   \n",
       "1        1  Кира   22  Тюмень             ultra      2618  15.816871   \n",
       "2        1  Кира   22  Тюмень             ultra       754   6.232113   \n",
       "3        1  Кира   22  Тюмень             ultra      2695  18.511000   \n",
       "4        1  Кира   22  Тюмень             ultra      4029  26.265803   \n",
       "5        1  Кира   22  Тюмень             ultra      2771  16.650138   \n",
       "6        1  Кира   22  Тюмень             ultra      3039  14.927879   \n",
       "7        1  Кира   22  Тюмень             ultra      2842  23.117468   \n",
       "8        1  Кира   22  Тюмень             ultra      3413  15.238072   \n",
       "9        1  Кира   22  Тюмень             ultra       749  15.041884   \n",
       "\n",
       "        date  month  \n",
       "0 2021-01-01      1  \n",
       "1 2021-01-18      1  \n",
       "2 2021-04-20      4  \n",
       "3 2021-08-11      8  \n",
       "4 2021-08-28      8  \n",
       "5 2021-10-09     10  \n",
       "6 2021-10-19     10  \n",
       "7 2021-11-06     11  \n",
       "8 2021-11-14     11  \n",
       "9 2021-11-22     11  "
      ]
     },
     "metadata": {},
     "output_type": "display_data"
    },
    {
     "name": "stdout",
     "output_type": "stream",
     "text": [
      "\n",
      "Иноформация о таблице:\n",
      "\n",
      "<class 'pandas.core.frame.DataFrame'>\n",
      "Int64Index: 6500 entries, 0 to 6499\n",
      "Data columns (total 9 columns):\n",
      " #   Column             Non-Null Count  Dtype         \n",
      "---  ------             --------------  -----         \n",
      " 0   user_id            6500 non-null   int64         \n",
      " 1   name               6500 non-null   object        \n",
      " 2   age                6500 non-null   int64         \n",
      " 3   city               6500 non-null   object        \n",
      " 4   subscription_type  6500 non-null   object        \n",
      " 5   distance           6500 non-null   int64         \n",
      " 6   duration           6500 non-null   float64       \n",
      " 7   date               6500 non-null   datetime64[ns]\n",
      " 8   month              6500 non-null   int64         \n",
      "dtypes: datetime64[ns](1), float64(1), int64(4), object(3)\n",
      "memory usage: 507.8+ KB\n"
     ]
    },
    {
     "data": {
      "text/plain": [
       "None"
      ]
     },
     "metadata": {},
     "output_type": "display_data"
    },
    {
     "name": "stdout",
     "output_type": "stream",
     "text": [
      "\n",
      "Количество дубликатов в таблице:\n",
      "\n"
     ]
    },
    {
     "data": {
      "text/plain": [
       "0"
      ]
     },
     "metadata": {},
     "output_type": "display_data"
    },
    {
     "name": "stdout",
     "output_type": "stream",
     "text": [
      "\n",
      "Количество пропуска в таблице:\n",
      "\n"
     ]
    },
    {
     "data": {
      "text/plain": [
       "user_id              0\n",
       "name                 0\n",
       "age                  0\n",
       "city                 0\n",
       "subscription_type    0\n",
       "distance             0\n",
       "duration             0\n",
       "date                 0\n",
       "month                0\n",
       "dtype: int64"
      ]
     },
     "metadata": {},
     "output_type": "display_data"
    }
   ],
   "source": [
    "load(data_ultra)"
   ]
  },
  {
   "cell_type": "markdown",
   "id": "98ec7835",
   "metadata": {},
   "source": [
    "##### Визуализируем информацию о расстоянии и времени поездок для пользователей обеих категорий."
   ]
  },
  {
   "cell_type": "markdown",
   "id": "ca05f78b",
   "metadata": {},
   "source": [
    "###### Выведем числовое описание обеих таблиц."
   ]
  },
  {
   "cell_type": "code",
   "execution_count": 35,
   "id": "c52ef5fc",
   "metadata": {},
   "outputs": [
    {
     "data": {
      "text/html": [
       "<div>\n",
       "<style scoped>\n",
       "    .dataframe tbody tr th:only-of-type {\n",
       "        vertical-align: middle;\n",
       "    }\n",
       "\n",
       "    .dataframe tbody tr th {\n",
       "        vertical-align: top;\n",
       "    }\n",
       "\n",
       "    .dataframe thead th {\n",
       "        text-align: right;\n",
       "    }\n",
       "</style>\n",
       "<table border=\"1\" class=\"dataframe\">\n",
       "  <thead>\n",
       "    <tr style=\"text-align: right;\">\n",
       "      <th></th>\n",
       "      <th>user_id</th>\n",
       "      <th>age</th>\n",
       "      <th>distance</th>\n",
       "      <th>duration</th>\n",
       "      <th>month</th>\n",
       "    </tr>\n",
       "  </thead>\n",
       "  <tbody>\n",
       "    <tr>\n",
       "      <th>count</th>\n",
       "      <td>11568.000000</td>\n",
       "      <td>11568.000000</td>\n",
       "      <td>11568.00000</td>\n",
       "      <td>11568.000000</td>\n",
       "      <td>11568.000000</td>\n",
       "    </tr>\n",
       "    <tr>\n",
       "      <th>mean</th>\n",
       "      <td>1120.527230</td>\n",
       "      <td>24.893326</td>\n",
       "      <td>3045.49490</td>\n",
       "      <td>17.390909</td>\n",
       "      <td>6.522994</td>\n",
       "    </tr>\n",
       "    <tr>\n",
       "      <th>std</th>\n",
       "      <td>241.165628</td>\n",
       "      <td>4.481100</td>\n",
       "      <td>1246.17418</td>\n",
       "      <td>6.326803</td>\n",
       "      <td>3.449770</td>\n",
       "    </tr>\n",
       "    <tr>\n",
       "      <th>min</th>\n",
       "      <td>700.000000</td>\n",
       "      <td>12.000000</td>\n",
       "      <td>1.00000</td>\n",
       "      <td>0.500000</td>\n",
       "      <td>1.000000</td>\n",
       "    </tr>\n",
       "    <tr>\n",
       "      <th>25%</th>\n",
       "      <td>915.000000</td>\n",
       "      <td>22.000000</td>\n",
       "      <td>2367.00000</td>\n",
       "      <td>12.958437</td>\n",
       "      <td>4.000000</td>\n",
       "    </tr>\n",
       "    <tr>\n",
       "      <th>50%</th>\n",
       "      <td>1123.000000</td>\n",
       "      <td>25.000000</td>\n",
       "      <td>3115.00000</td>\n",
       "      <td>17.326890</td>\n",
       "      <td>7.000000</td>\n",
       "    </tr>\n",
       "    <tr>\n",
       "      <th>75%</th>\n",
       "      <td>1328.000000</td>\n",
       "      <td>28.000000</td>\n",
       "      <td>3906.00000</td>\n",
       "      <td>21.594071</td>\n",
       "      <td>9.000000</td>\n",
       "    </tr>\n",
       "    <tr>\n",
       "      <th>max</th>\n",
       "      <td>1534.000000</td>\n",
       "      <td>43.000000</td>\n",
       "      <td>7211.00000</td>\n",
       "      <td>34.948498</td>\n",
       "      <td>12.000000</td>\n",
       "    </tr>\n",
       "  </tbody>\n",
       "</table>\n",
       "</div>"
      ],
      "text/plain": [
       "            user_id           age     distance      duration         month\n",
       "count  11568.000000  11568.000000  11568.00000  11568.000000  11568.000000\n",
       "mean    1120.527230     24.893326   3045.49490     17.390909      6.522994\n",
       "std      241.165628      4.481100   1246.17418      6.326803      3.449770\n",
       "min      700.000000     12.000000      1.00000      0.500000      1.000000\n",
       "25%      915.000000     22.000000   2367.00000     12.958437      4.000000\n",
       "50%     1123.000000     25.000000   3115.00000     17.326890      7.000000\n",
       "75%     1328.000000     28.000000   3906.00000     21.594071      9.000000\n",
       "max     1534.000000     43.000000   7211.00000     34.948498     12.000000"
      ]
     },
     "execution_count": 35,
     "metadata": {},
     "output_type": "execute_result"
    }
   ],
   "source": [
    "data_free.describe()"
   ]
  },
  {
   "cell_type": "code",
   "execution_count": 36,
   "id": "aaec0e74",
   "metadata": {},
   "outputs": [
    {
     "data": {
      "text/html": [
       "<div>\n",
       "<style scoped>\n",
       "    .dataframe tbody tr th:only-of-type {\n",
       "        vertical-align: middle;\n",
       "    }\n",
       "\n",
       "    .dataframe tbody tr th {\n",
       "        vertical-align: top;\n",
       "    }\n",
       "\n",
       "    .dataframe thead th {\n",
       "        text-align: right;\n",
       "    }\n",
       "</style>\n",
       "<table border=\"1\" class=\"dataframe\">\n",
       "  <thead>\n",
       "    <tr style=\"text-align: right;\">\n",
       "      <th></th>\n",
       "      <th>user_id</th>\n",
       "      <th>age</th>\n",
       "      <th>distance</th>\n",
       "      <th>duration</th>\n",
       "      <th>month</th>\n",
       "    </tr>\n",
       "  </thead>\n",
       "  <tbody>\n",
       "    <tr>\n",
       "      <th>count</th>\n",
       "      <td>6500.000000</td>\n",
       "      <td>6500.000000</td>\n",
       "      <td>6500.000000</td>\n",
       "      <td>6500.000000</td>\n",
       "      <td>6500.000000</td>\n",
       "    </tr>\n",
       "    <tr>\n",
       "      <th>mean</th>\n",
       "      <td>348.725385</td>\n",
       "      <td>24.892615</td>\n",
       "      <td>3115.443385</td>\n",
       "      <td>18.541985</td>\n",
       "      <td>6.422308</td>\n",
       "    </tr>\n",
       "    <tr>\n",
       "      <th>std</th>\n",
       "      <td>201.099339</td>\n",
       "      <td>4.757208</td>\n",
       "      <td>836.898137</td>\n",
       "      <td>5.572048</td>\n",
       "      <td>3.414616</td>\n",
       "    </tr>\n",
       "    <tr>\n",
       "      <th>min</th>\n",
       "      <td>1.000000</td>\n",
       "      <td>12.000000</td>\n",
       "      <td>244.000000</td>\n",
       "      <td>3.760353</td>\n",
       "      <td>1.000000</td>\n",
       "    </tr>\n",
       "    <tr>\n",
       "      <th>25%</th>\n",
       "      <td>175.000000</td>\n",
       "      <td>22.000000</td>\n",
       "      <td>2785.000000</td>\n",
       "      <td>14.524654</td>\n",
       "      <td>4.000000</td>\n",
       "    </tr>\n",
       "    <tr>\n",
       "      <th>50%</th>\n",
       "      <td>351.000000</td>\n",
       "      <td>25.000000</td>\n",
       "      <td>3149.000000</td>\n",
       "      <td>18.178153</td>\n",
       "      <td>6.000000</td>\n",
       "    </tr>\n",
       "    <tr>\n",
       "      <th>75%</th>\n",
       "      <td>525.000000</td>\n",
       "      <td>28.000000</td>\n",
       "      <td>3561.000000</td>\n",
       "      <td>21.884129</td>\n",
       "      <td>9.000000</td>\n",
       "    </tr>\n",
       "    <tr>\n",
       "      <th>max</th>\n",
       "      <td>699.000000</td>\n",
       "      <td>38.000000</td>\n",
       "      <td>5700.000000</td>\n",
       "      <td>40.823963</td>\n",
       "      <td>12.000000</td>\n",
       "    </tr>\n",
       "  </tbody>\n",
       "</table>\n",
       "</div>"
      ],
      "text/plain": [
       "           user_id          age     distance     duration        month\n",
       "count  6500.000000  6500.000000  6500.000000  6500.000000  6500.000000\n",
       "mean    348.725385    24.892615  3115.443385    18.541985     6.422308\n",
       "std     201.099339     4.757208   836.898137     5.572048     3.414616\n",
       "min       1.000000    12.000000   244.000000     3.760353     1.000000\n",
       "25%     175.000000    22.000000  2785.000000    14.524654     4.000000\n",
       "50%     351.000000    25.000000  3149.000000    18.178153     6.000000\n",
       "75%     525.000000    28.000000  3561.000000    21.884129     9.000000\n",
       "max     699.000000    38.000000  5700.000000    40.823963    12.000000"
      ]
     },
     "execution_count": 36,
     "metadata": {},
     "output_type": "execute_result"
    }
   ],
   "source": [
    "data_ultra.describe()"
   ]
  },
  {
   "cell_type": "markdown",
   "id": "b6d04977",
   "metadata": {},
   "source": [
    "###### Построим диаграммы размаха для пользователей обеих категорий по расстоянию поездки. "
   ]
  },
  {
   "cell_type": "markdown",
   "id": "c229ab3c",
   "metadata": {},
   "source": [
    "Создадим функцию для сравнения диаграмм размаха, принимающую на вход названия двух таблиц, два заголовка и название оси х."
   ]
  },
  {
   "cell_type": "code",
   "execution_count": 37,
   "id": "72831c01",
   "metadata": {},
   "outputs": [],
   "source": [
    "def visual_box(df_1, df_2, title_1, title_2, xlabel):\n",
    "    \n",
    "    plt.figure(figsize=(17,3))\n",
    "    sns.boxplot(\n",
    "        df_1, \n",
    "        orient='h'\n",
    "    ).set(\n",
    "        title = title_2, \n",
    "        xlabel = xlabel, \n",
    "        ylabel = '')\n",
    "    plt.show()\n",
    "    \n",
    "    print (title_2)\n",
    "    \n",
    "    plt.figure(figsize=(17,3))\n",
    "    sns.boxplot(\n",
    "        df_2, \n",
    "        orient='h'\n",
    "    ).set(\n",
    "        title = title_2, \n",
    "        xlabel = xlabel, \n",
    "        ylabel = '')\n",
    "    plt.show()\n",
    "    "
   ]
  },
  {
   "cell_type": "code",
   "execution_count": 38,
   "id": "adb8dbf5",
   "metadata": {},
   "outputs": [
    {
     "name": "stderr",
     "output_type": "stream",
     "text": [
      "/opt/conda/lib/python3.9/site-packages/seaborn/_decorators.py:36: FutureWarning: Pass the following variable as a keyword arg: x. From version 0.12, the only valid positional argument will be `data`, and passing other arguments without an explicit keyword will result in an error or misinterpretation.\n",
      "  warnings.warn(\n"
     ]
    },
    {
     "data": {
      "image/png": "[encoded data removed]",
      "text/plain": [
       "<Figure size 1224x216 with 1 Axes>"
      ]
     },
     "metadata": {
      "needs_background": "light"
     },
     "output_type": "display_data"
    },
    {
     "name": "stderr",
     "output_type": "stream",
     "text": [
      "/opt/conda/lib/python3.9/site-packages/seaborn/_decorators.py:36: FutureWarning: Pass the following variable as a keyword arg: x. From version 0.12, the only valid positional argument will be `data`, and passing other arguments without an explicit keyword will result in an error or misinterpretation.\n",
      "  warnings.warn(\n"
     ]
    },
    {
     "name": "stdout",
     "output_type": "stream",
     "text": [
      "диаграмма размаха для пользователей с подпиской по расстоянию поездки\n"
     ]
    },
    {
     "data": {
      "image/png": "[encoded data removed]",
      "text/plain": [
       "<Figure size 1224x216 with 1 Axes>"
      ]
     },
     "metadata": {
      "needs_background": "light"
     },
     "output_type": "display_data"
    }
   ],
   "source": [
    "visual_box(data_free['distance'], \n",
    "       data_ultra['distance'], \n",
    "       'диаграмма размаха для пользователей без подписки по расстоянию поездки', \n",
    "       'диаграмма размаха для пользователей с подпиской по расстоянию поездки', \n",
    "       'расстояние')"
   ]
  },
  {
   "cell_type": "markdown",
   "id": "774e29ce",
   "metadata": {},
   "source": [
    "###### Построим гистограммы для пользователей обеих категорий по расстоянию поездки. "
   ]
  },
  {
   "cell_type": "markdown",
   "id": "07765e89",
   "metadata": {},
   "source": [
    "Создадим функцию для сравнения гистограмм, принимающую на вход названия двух таблиц, два заголовка и название осей х и у."
   ]
  },
  {
   "cell_type": "code",
   "execution_count": 39,
   "id": "4e48b0d7",
   "metadata": {},
   "outputs": [],
   "source": [
    "def visual_hist(df_1, df_2, title_1, title_2, xlabel, ylabel):\n",
    "    \n",
    "    plt.figure(figsize=(17,5))\n",
    "    sns.histplot(\n",
    "        df_1, \n",
    "        bins=100\n",
    "    ).set(title = title_1, \n",
    "        xlabel = xlabel, \n",
    "        ylabel = ylabel)\n",
    "    plt.show()\n",
    "    \n",
    "    plt.figure(figsize=(17,5))\n",
    "    sns.histplot(\n",
    "        df_2, \n",
    "        bins=100\n",
    "    ).set(title = title_2, \n",
    "        xlabel = xlabel, \n",
    "        ylabel = ylabel)\n",
    "    plt.show()"
   ]
  },
  {
   "cell_type": "code",
   "execution_count": 40,
   "id": "2c71be3a",
   "metadata": {},
   "outputs": [
    {
     "data": {
      "image/png": "[encoded data removed]",
      "text/plain": [
       "<Figure size 1224x360 with 1 Axes>"
      ]
     },
     "metadata": {
      "needs_background": "light"
     },
     "output_type": "display_data"
    },
    {
     "data": {
      "image/png": "[encoded data removed]",
      "text/plain": [
       "<Figure size 1224x360 with 1 Axes>"
      ]
     },
     "metadata": {
      "needs_background": "light"
     },
     "output_type": "display_data"
    }
   ],
   "source": [
    "visual_hist(data_free['distance'], \n",
    "       data_ultra['distance'], \n",
    "       'Гистограмма для пользователей без подписки по расстоянию поездки', \n",
    "       'Гистограмма для пользователей с подпиской по расстоянию поездки', \n",
    "       'расстояние',\n",
    "       'количество поездок')"
   ]
  },
  {
   "cell_type": "markdown",
   "id": "3c365bd3",
   "metadata": {},
   "source": [
    "Для пользователей без подписки среднее растояние поездки 3-3.1 км, межквартильный размах от 2.4 до 3.9, нормальные значения от 5 метров до 6.1 км. Часто встречаютя выбросы от 0.8 метров и единичные от 6.2 до 7.2 км. На гистаграмме два пика около 600 м высотой до 110 и около 3 км высотой до 320. \n",
    "\n",
    "Для пользователей с подпиской среднее растояние поездки 3.1-3.15 км, межквартильный размах от 2.8 до 3.6, нормальные значения от 1.7 до 4.7 км. Часто встречаютя выбросы снизу от 500 метров и единичные от 250 до 500 и сверху до 5.7 км. На гистаграмме два пика около 1 км м высотой до 40 и около 3,2 км высотой до 300. \n",
    "\n",
    "Предположение сделанное в шаге 3 (о том, что пользователи с подпиской выбирают самокат, нажимают старт, но никуда не едут) не подтвердилось. Оказалось что аномально короткие поездки наоборот совершают пользователи без подписки. Это странно, учитывая, что за старт им приходится платить по 50 рублей, возможно у них возникают какие-то трудности при использовании сервиса. Далее в шаге 4.4 рассмотрим эту проблему подробнее."
   ]
  },
  {
   "cell_type": "markdown",
   "id": "1b0c25c0",
   "metadata": {},
   "source": [
    "###### Построим диаграммы размаха для пользователей обеих категорий по продолжительности поездки. "
   ]
  },
  {
   "cell_type": "code",
   "execution_count": 41,
   "id": "f185d94e",
   "metadata": {},
   "outputs": [
    {
     "name": "stderr",
     "output_type": "stream",
     "text": [
      "/opt/conda/lib/python3.9/site-packages/seaborn/_decorators.py:36: FutureWarning: Pass the following variable as a keyword arg: x. From version 0.12, the only valid positional argument will be `data`, and passing other arguments without an explicit keyword will result in an error or misinterpretation.\n",
      "  warnings.warn(\n"
     ]
    },
    {
     "data": {
      "image/png": "[encoded data removed]",
      "text/plain": [
       "<Figure size 1224x216 with 1 Axes>"
      ]
     },
     "metadata": {
      "needs_background": "light"
     },
     "output_type": "display_data"
    },
    {
     "name": "stderr",
     "output_type": "stream",
     "text": [
      "/opt/conda/lib/python3.9/site-packages/seaborn/_decorators.py:36: FutureWarning: Pass the following variable as a keyword arg: x. From version 0.12, the only valid positional argument will be `data`, and passing other arguments without an explicit keyword will result in an error or misinterpretation.\n",
      "  warnings.warn(\n"
     ]
    },
    {
     "name": "stdout",
     "output_type": "stream",
     "text": [
      "диаграмма размаха для пользователей с подпиской по продолжительности поездки\n"
     ]
    },
    {
     "data": {
      "image/png": "[encoded data removed]",
      "text/plain": [
       "<Figure size 1224x216 with 1 Axes>"
      ]
     },
     "metadata": {
      "needs_background": "light"
     },
     "output_type": "display_data"
    }
   ],
   "source": [
    "visual_box(data_free['duration'], \n",
    "       data_ultra['duration'], \n",
    "       'диаграмма размаха для пользователей без подписки по продолжительности поездки', \n",
    "       'диаграмма размаха для пользователей с подпиской по продолжительности поездки', \n",
    "       'расстояние')"
   ]
  },
  {
   "cell_type": "markdown",
   "id": "1161a8a8",
   "metadata": {},
   "source": [
    "###### Построим гистограммы для пользователей обеих категорий по продолжительности поездки. "
   ]
  },
  {
   "cell_type": "code",
   "execution_count": 42,
   "id": "04144faf",
   "metadata": {},
   "outputs": [
    {
     "data": {
      "image/png": "[encoded data removed]",
      "text/plain": [
       "<Figure size 1224x360 with 1 Axes>"
      ]
     },
     "metadata": {
      "needs_background": "light"
     },
     "output_type": "display_data"
    },
    {
     "data": {
      "image/png": "[encoded data removed]",
      "text/plain": [
       "<Figure size 1224x360 with 1 Axes>"
      ]
     },
     "metadata": {
      "needs_background": "light"
     },
     "output_type": "display_data"
    }
   ],
   "source": [
    "visual_hist(data_free['duration'], \n",
    "       data_ultra['duration'], \n",
    "       'Гистограмма для пользователей без подписки по продолжительности поездки', \n",
    "       'Гистограмма для пользователей с подпиской по продолжительности поездки', \n",
    "       'расстояние',\n",
    "       'количество поездок')"
   ]
  },
  {
   "cell_type": "markdown",
   "id": "cdf1a30d",
   "metadata": {},
   "source": [
    "Для пользователей без подписки среднее время поездки 17.3 мин, межквартильный размах от 13 до 21.6 мин, нормальные значения от 0.5 до 34.5 мин . Часто встречаютя выбросы в районе 25 мин . На гистаграмме два пика около 0.5 высотой до 90 и около 17 высотой до 290. \n",
    "\n",
    "Для пользователей с подпиской среднее время поездки 18.2 мин, межквартильный размах от 14.5 до 21.9, нормальные значения от 3 до 33 мин. Часто встречаютя выбросы сверху до 37 мин, далее выбросы единичные. На гистаграмме пик около 18 высотой до 190. \n",
    "\n",
    "Предположение сделанное в шаге 3 (о том, что пользователи с подпиской выбирают самокат, нажимают старт, но никуда не едут) не подтвердилось. Оказалось что аномально короткие поездки наоборот совершают пользователи без подписки.Это странно, учитывая, что за старт им приходится платить по 50 рублей, возможно у них возникают какие-то трудности при использовании сервиса. Далее рассмотрим эту проблему подробнее."
   ]
  },
  {
   "cell_type": "markdown",
   "id": "d06bb612",
   "metadata": {},
   "source": [
    "##### Рассмторим  подробнее аномально короткие поездки."
   ]
  },
  {
   "cell_type": "markdown",
   "id": "4399a4b9",
   "metadata": {},
   "source": [
    "###### Cоздадим выборку в которую включим поездки продожительностью меньше минуты."
   ]
  },
  {
   "cell_type": "code",
   "execution_count": 43,
   "id": "acdd7be5",
   "metadata": {},
   "outputs": [],
   "source": [
    "data_short = data.query('duration < 1')"
   ]
  },
  {
   "cell_type": "code",
   "execution_count": 44,
   "id": "2940ec02",
   "metadata": {},
   "outputs": [
    {
     "name": "stdout",
     "output_type": "stream",
     "text": [
      "Первые 10 строк таблицы:\n",
      "\n"
     ]
    },
    {
     "data": {
      "text/html": [
       "<div>\n",
       "<style scoped>\n",
       "    .dataframe tbody tr th:only-of-type {\n",
       "        vertical-align: middle;\n",
       "    }\n",
       "\n",
       "    .dataframe tbody tr th {\n",
       "        vertical-align: top;\n",
       "    }\n",
       "\n",
       "    .dataframe thead th {\n",
       "        text-align: right;\n",
       "    }\n",
       "</style>\n",
       "<table border=\"1\" class=\"dataframe\">\n",
       "  <thead>\n",
       "    <tr style=\"text-align: right;\">\n",
       "      <th></th>\n",
       "      <th>user_id</th>\n",
       "      <th>name</th>\n",
       "      <th>age</th>\n",
       "      <th>city</th>\n",
       "      <th>subscription_type</th>\n",
       "      <th>distance</th>\n",
       "      <th>duration</th>\n",
       "      <th>date</th>\n",
       "      <th>month</th>\n",
       "    </tr>\n",
       "  </thead>\n",
       "  <tbody>\n",
       "    <tr>\n",
       "      <th>6531</th>\n",
       "      <td>701</td>\n",
       "      <td>Иван</td>\n",
       "      <td>31</td>\n",
       "      <td>Екатеринбург</td>\n",
       "      <td>free</td>\n",
       "      <td>4196</td>\n",
       "      <td>0.5</td>\n",
       "      <td>2021-08-31</td>\n",
       "      <td>8</td>\n",
       "    </tr>\n",
       "    <tr>\n",
       "      <th>6570</th>\n",
       "      <td>704</td>\n",
       "      <td>Мирон</td>\n",
       "      <td>29</td>\n",
       "      <td>Ростов-на-Дону</td>\n",
       "      <td>free</td>\n",
       "      <td>4831</td>\n",
       "      <td>0.5</td>\n",
       "      <td>2021-10-14</td>\n",
       "      <td>10</td>\n",
       "    </tr>\n",
       "    <tr>\n",
       "      <th>6680</th>\n",
       "      <td>712</td>\n",
       "      <td>Дарья</td>\n",
       "      <td>28</td>\n",
       "      <td>Москва</td>\n",
       "      <td>free</td>\n",
       "      <td>4684</td>\n",
       "      <td>0.5</td>\n",
       "      <td>2021-03-04</td>\n",
       "      <td>3</td>\n",
       "    </tr>\n",
       "    <tr>\n",
       "      <th>6695</th>\n",
       "      <td>713</td>\n",
       "      <td>Святослав</td>\n",
       "      <td>30</td>\n",
       "      <td>Краснодар</td>\n",
       "      <td>free</td>\n",
       "      <td>5216</td>\n",
       "      <td>0.5</td>\n",
       "      <td>2021-02-25</td>\n",
       "      <td>2</td>\n",
       "    </tr>\n",
       "    <tr>\n",
       "      <th>6768</th>\n",
       "      <td>718</td>\n",
       "      <td>Владислава</td>\n",
       "      <td>31</td>\n",
       "      <td>Москва</td>\n",
       "      <td>free</td>\n",
       "      <td>5197</td>\n",
       "      <td>0.5</td>\n",
       "      <td>2021-02-11</td>\n",
       "      <td>2</td>\n",
       "    </tr>\n",
       "    <tr>\n",
       "      <th>6860</th>\n",
       "      <td>724</td>\n",
       "      <td>Елизавета</td>\n",
       "      <td>23</td>\n",
       "      <td>Краснодар</td>\n",
       "      <td>free</td>\n",
       "      <td>6226</td>\n",
       "      <td>0.5</td>\n",
       "      <td>2021-12-16</td>\n",
       "      <td>12</td>\n",
       "    </tr>\n",
       "    <tr>\n",
       "      <th>6883</th>\n",
       "      <td>726</td>\n",
       "      <td>Ольга</td>\n",
       "      <td>22</td>\n",
       "      <td>Пятигорск</td>\n",
       "      <td>free</td>\n",
       "      <td>4452</td>\n",
       "      <td>0.5</td>\n",
       "      <td>2021-03-01</td>\n",
       "      <td>3</td>\n",
       "    </tr>\n",
       "    <tr>\n",
       "      <th>7018</th>\n",
       "      <td>735</td>\n",
       "      <td>Кирилл</td>\n",
       "      <td>18</td>\n",
       "      <td>Пятигорск</td>\n",
       "      <td>free</td>\n",
       "      <td>4407</td>\n",
       "      <td>0.5</td>\n",
       "      <td>2021-04-13</td>\n",
       "      <td>4</td>\n",
       "    </tr>\n",
       "    <tr>\n",
       "      <th>7160</th>\n",
       "      <td>745</td>\n",
       "      <td>Борис</td>\n",
       "      <td>21</td>\n",
       "      <td>Ростов-на-Дону</td>\n",
       "      <td>free</td>\n",
       "      <td>5286</td>\n",
       "      <td>0.5</td>\n",
       "      <td>2021-08-17</td>\n",
       "      <td>8</td>\n",
       "    </tr>\n",
       "    <tr>\n",
       "      <th>7364</th>\n",
       "      <td>760</td>\n",
       "      <td>Иван</td>\n",
       "      <td>22</td>\n",
       "      <td>Ростов-на-Дону</td>\n",
       "      <td>free</td>\n",
       "      <td>4881</td>\n",
       "      <td>0.5</td>\n",
       "      <td>2021-08-29</td>\n",
       "      <td>8</td>\n",
       "    </tr>\n",
       "  </tbody>\n",
       "</table>\n",
       "</div>"
      ],
      "text/plain": [
       "      user_id        name  age            city subscription_type  distance  \\\n",
       "6531      701        Иван   31    Екатеринбург              free      4196   \n",
       "6570      704       Мирон   29  Ростов-на-Дону              free      4831   \n",
       "6680      712       Дарья   28          Москва              free      4684   \n",
       "6695      713   Святослав   30       Краснодар              free      5216   \n",
       "6768      718  Владислава   31          Москва              free      5197   \n",
       "6860      724   Елизавета   23       Краснодар              free      6226   \n",
       "6883      726       Ольга   22       Пятигорск              free      4452   \n",
       "7018      735      Кирилл   18       Пятигорск              free      4407   \n",
       "7160      745       Борис   21  Ростов-на-Дону              free      5286   \n",
       "7364      760        Иван   22  Ростов-на-Дону              free      4881   \n",
       "\n",
       "      duration       date  month  \n",
       "6531       0.5 2021-08-31      8  \n",
       "6570       0.5 2021-10-14     10  \n",
       "6680       0.5 2021-03-04      3  \n",
       "6695       0.5 2021-02-25      2  \n",
       "6768       0.5 2021-02-11      2  \n",
       "6860       0.5 2021-12-16     12  \n",
       "6883       0.5 2021-03-01      3  \n",
       "7018       0.5 2021-04-13      4  \n",
       "7160       0.5 2021-08-17      8  \n",
       "7364       0.5 2021-08-29      8  "
      ]
     },
     "metadata": {},
     "output_type": "display_data"
    },
    {
     "name": "stdout",
     "output_type": "stream",
     "text": [
      "\n",
      "Иноформация о таблице:\n",
      "\n",
      "<class 'pandas.core.frame.DataFrame'>\n",
      "Int64Index: 95 entries, 6531 to 17909\n",
      "Data columns (total 9 columns):\n",
      " #   Column             Non-Null Count  Dtype         \n",
      "---  ------             --------------  -----         \n",
      " 0   user_id            95 non-null     int64         \n",
      " 1   name               95 non-null     object        \n",
      " 2   age                95 non-null     int64         \n",
      " 3   city               95 non-null     object        \n",
      " 4   subscription_type  95 non-null     object        \n",
      " 5   distance           95 non-null     int64         \n",
      " 6   duration           95 non-null     float64       \n",
      " 7   date               95 non-null     datetime64[ns]\n",
      " 8   month              95 non-null     int64         \n",
      "dtypes: datetime64[ns](1), float64(1), int64(4), object(3)\n",
      "memory usage: 7.4+ KB\n"
     ]
    },
    {
     "data": {
      "text/plain": [
       "None"
      ]
     },
     "metadata": {},
     "output_type": "display_data"
    },
    {
     "name": "stdout",
     "output_type": "stream",
     "text": [
      "\n",
      "Количество дубликатов в таблице:\n",
      "\n"
     ]
    },
    {
     "data": {
      "text/plain": [
       "0"
      ]
     },
     "metadata": {},
     "output_type": "display_data"
    },
    {
     "name": "stdout",
     "output_type": "stream",
     "text": [
      "\n",
      "Количество пропуска в таблице:\n",
      "\n"
     ]
    },
    {
     "data": {
      "text/plain": [
       "user_id              0\n",
       "name                 0\n",
       "age                  0\n",
       "city                 0\n",
       "subscription_type    0\n",
       "distance             0\n",
       "duration             0\n",
       "date                 0\n",
       "month                0\n",
       "dtype: int64"
      ]
     },
     "metadata": {},
     "output_type": "display_data"
    }
   ],
   "source": [
    "load(data_short)"
   ]
  },
  {
   "cell_type": "code",
   "execution_count": 45,
   "id": "61e5d1ab",
   "metadata": {},
   "outputs": [
    {
     "data": {
      "text/html": [
       "<div>\n",
       "<style scoped>\n",
       "    .dataframe tbody tr th:only-of-type {\n",
       "        vertical-align: middle;\n",
       "    }\n",
       "\n",
       "    .dataframe tbody tr th {\n",
       "        vertical-align: top;\n",
       "    }\n",
       "\n",
       "    .dataframe thead th {\n",
       "        text-align: right;\n",
       "    }\n",
       "</style>\n",
       "<table border=\"1\" class=\"dataframe\">\n",
       "  <thead>\n",
       "    <tr style=\"text-align: right;\">\n",
       "      <th></th>\n",
       "      <th>user_id</th>\n",
       "      <th>age</th>\n",
       "      <th>distance</th>\n",
       "      <th>duration</th>\n",
       "      <th>month</th>\n",
       "    </tr>\n",
       "  </thead>\n",
       "  <tbody>\n",
       "    <tr>\n",
       "      <th>count</th>\n",
       "      <td>95.000000</td>\n",
       "      <td>95.000000</td>\n",
       "      <td>95.000000</td>\n",
       "      <td>95.0</td>\n",
       "      <td>95.000000</td>\n",
       "    </tr>\n",
       "    <tr>\n",
       "      <th>mean</th>\n",
       "      <td>1092.210526</td>\n",
       "      <td>25.442105</td>\n",
       "      <td>5113.168421</td>\n",
       "      <td>0.5</td>\n",
       "      <td>6.484211</td>\n",
       "    </tr>\n",
       "    <tr>\n",
       "      <th>std</th>\n",
       "      <td>244.028551</td>\n",
       "      <td>4.350876</td>\n",
       "      <td>658.312505</td>\n",
       "      <td>0.0</td>\n",
       "      <td>3.709858</td>\n",
       "    </tr>\n",
       "    <tr>\n",
       "      <th>min</th>\n",
       "      <td>701.000000</td>\n",
       "      <td>13.000000</td>\n",
       "      <td>4030.000000</td>\n",
       "      <td>0.5</td>\n",
       "      <td>1.000000</td>\n",
       "    </tr>\n",
       "    <tr>\n",
       "      <th>25%</th>\n",
       "      <td>901.000000</td>\n",
       "      <td>22.500000</td>\n",
       "      <td>4611.500000</td>\n",
       "      <td>0.5</td>\n",
       "      <td>3.000000</td>\n",
       "    </tr>\n",
       "    <tr>\n",
       "      <th>50%</th>\n",
       "      <td>1069.000000</td>\n",
       "      <td>25.000000</td>\n",
       "      <td>5053.000000</td>\n",
       "      <td>0.5</td>\n",
       "      <td>6.000000</td>\n",
       "    </tr>\n",
       "    <tr>\n",
       "      <th>75%</th>\n",
       "      <td>1310.500000</td>\n",
       "      <td>29.000000</td>\n",
       "      <td>5488.500000</td>\n",
       "      <td>0.5</td>\n",
       "      <td>10.000000</td>\n",
       "    </tr>\n",
       "    <tr>\n",
       "      <th>max</th>\n",
       "      <td>1524.000000</td>\n",
       "      <td>36.000000</td>\n",
       "      <td>7211.000000</td>\n",
       "      <td>0.5</td>\n",
       "      <td>12.000000</td>\n",
       "    </tr>\n",
       "  </tbody>\n",
       "</table>\n",
       "</div>"
      ],
      "text/plain": [
       "           user_id        age     distance  duration      month\n",
       "count    95.000000  95.000000    95.000000      95.0  95.000000\n",
       "mean   1092.210526  25.442105  5113.168421       0.5   6.484211\n",
       "std     244.028551   4.350876   658.312505       0.0   3.709858\n",
       "min     701.000000  13.000000  4030.000000       0.5   1.000000\n",
       "25%     901.000000  22.500000  4611.500000       0.5   3.000000\n",
       "50%    1069.000000  25.000000  5053.000000       0.5   6.000000\n",
       "75%    1310.500000  29.000000  5488.500000       0.5  10.000000\n",
       "max    1524.000000  36.000000  7211.000000       0.5  12.000000"
      ]
     },
     "execution_count": 45,
     "metadata": {},
     "output_type": "execute_result"
    }
   ],
   "source": [
    "data_short.describe()"
   ]
  },
  {
   "cell_type": "code",
   "execution_count": 46,
   "id": "909f9d82",
   "metadata": {},
   "outputs": [
    {
     "data": {
      "text/plain": [
       "Ростов-на-Дону    17\n",
       "Москва            14\n",
       "Пятигорск         13\n",
       "Омск              11\n",
       "Сочи              11\n",
       "Тюмень            10\n",
       "Краснодар         10\n",
       "Екатеринбург       9\n",
       "Name: city, dtype: int64"
      ]
     },
     "execution_count": 46,
     "metadata": {},
     "output_type": "execute_result"
    }
   ],
   "source": [
    "data_short['city'].value_counts()"
   ]
  },
  {
   "cell_type": "markdown",
   "id": "b45c8073",
   "metadata": {},
   "source": [
    "В выборку попали 95 поездок, идентификаторы, города и даты разные. Расстояние в среднем 5 км, от 4 до 7.2. Очевидно что ошибка во времени поездки. Возможно что-то не так с пользователями совершившими эти поездки."
   ]
  },
  {
   "cell_type": "markdown",
   "id": "fcfd5de0",
   "metadata": {},
   "source": [
    "###### Посмотрим другие поездки пользователя попавшего в выборку."
   ]
  },
  {
   "cell_type": "code",
   "execution_count": 47,
   "id": "f09d48fc",
   "metadata": {},
   "outputs": [
    {
     "data": {
      "text/html": [
       "<div>\n",
       "<style scoped>\n",
       "    .dataframe tbody tr th:only-of-type {\n",
       "        vertical-align: middle;\n",
       "    }\n",
       "\n",
       "    .dataframe tbody tr th {\n",
       "        vertical-align: top;\n",
       "    }\n",
       "\n",
       "    .dataframe thead th {\n",
       "        text-align: right;\n",
       "    }\n",
       "</style>\n",
       "<table border=\"1\" class=\"dataframe\">\n",
       "  <thead>\n",
       "    <tr style=\"text-align: right;\">\n",
       "      <th></th>\n",
       "      <th>user_id</th>\n",
       "      <th>name</th>\n",
       "      <th>age</th>\n",
       "      <th>city</th>\n",
       "      <th>subscription_type</th>\n",
       "      <th>distance</th>\n",
       "      <th>duration</th>\n",
       "      <th>date</th>\n",
       "      <th>month</th>\n",
       "    </tr>\n",
       "  </thead>\n",
       "  <tbody>\n",
       "    <tr>\n",
       "      <th>6518</th>\n",
       "      <td>701</td>\n",
       "      <td>Иван</td>\n",
       "      <td>31</td>\n",
       "      <td>Екатеринбург</td>\n",
       "      <td>free</td>\n",
       "      <td>2676</td>\n",
       "      <td>17.470598</td>\n",
       "      <td>2021-01-23</td>\n",
       "      <td>1</td>\n",
       "    </tr>\n",
       "    <tr>\n",
       "      <th>6519</th>\n",
       "      <td>701</td>\n",
       "      <td>Иван</td>\n",
       "      <td>31</td>\n",
       "      <td>Екатеринбург</td>\n",
       "      <td>free</td>\n",
       "      <td>2744</td>\n",
       "      <td>14.974710</td>\n",
       "      <td>2021-02-13</td>\n",
       "      <td>2</td>\n",
       "    </tr>\n",
       "    <tr>\n",
       "      <th>6520</th>\n",
       "      <td>701</td>\n",
       "      <td>Иван</td>\n",
       "      <td>31</td>\n",
       "      <td>Екатеринбург</td>\n",
       "      <td>free</td>\n",
       "      <td>2894</td>\n",
       "      <td>11.891791</td>\n",
       "      <td>2021-02-20</td>\n",
       "      <td>2</td>\n",
       "    </tr>\n",
       "    <tr>\n",
       "      <th>6521</th>\n",
       "      <td>701</td>\n",
       "      <td>Иван</td>\n",
       "      <td>31</td>\n",
       "      <td>Екатеринбург</td>\n",
       "      <td>free</td>\n",
       "      <td>2802</td>\n",
       "      <td>16.008663</td>\n",
       "      <td>2021-03-12</td>\n",
       "      <td>3</td>\n",
       "    </tr>\n",
       "    <tr>\n",
       "      <th>6522</th>\n",
       "      <td>701</td>\n",
       "      <td>Иван</td>\n",
       "      <td>31</td>\n",
       "      <td>Екатеринбург</td>\n",
       "      <td>free</td>\n",
       "      <td>3509</td>\n",
       "      <td>13.081094</td>\n",
       "      <td>2021-04-17</td>\n",
       "      <td>4</td>\n",
       "    </tr>\n",
       "    <tr>\n",
       "      <th>6523</th>\n",
       "      <td>701</td>\n",
       "      <td>Иван</td>\n",
       "      <td>31</td>\n",
       "      <td>Екатеринбург</td>\n",
       "      <td>free</td>\n",
       "      <td>2466</td>\n",
       "      <td>14.283970</td>\n",
       "      <td>2021-05-31</td>\n",
       "      <td>5</td>\n",
       "    </tr>\n",
       "    <tr>\n",
       "      <th>6524</th>\n",
       "      <td>701</td>\n",
       "      <td>Иван</td>\n",
       "      <td>31</td>\n",
       "      <td>Екатеринбург</td>\n",
       "      <td>free</td>\n",
       "      <td>731</td>\n",
       "      <td>6.657051</td>\n",
       "      <td>2021-06-02</td>\n",
       "      <td>6</td>\n",
       "    </tr>\n",
       "    <tr>\n",
       "      <th>6525</th>\n",
       "      <td>701</td>\n",
       "      <td>Иван</td>\n",
       "      <td>31</td>\n",
       "      <td>Екатеринбург</td>\n",
       "      <td>free</td>\n",
       "      <td>3903</td>\n",
       "      <td>18.367706</td>\n",
       "      <td>2021-06-20</td>\n",
       "      <td>6</td>\n",
       "    </tr>\n",
       "    <tr>\n",
       "      <th>6526</th>\n",
       "      <td>701</td>\n",
       "      <td>Иван</td>\n",
       "      <td>31</td>\n",
       "      <td>Екатеринбург</td>\n",
       "      <td>free</td>\n",
       "      <td>3442</td>\n",
       "      <td>18.978076</td>\n",
       "      <td>2021-07-04</td>\n",
       "      <td>7</td>\n",
       "    </tr>\n",
       "    <tr>\n",
       "      <th>6527</th>\n",
       "      <td>701</td>\n",
       "      <td>Иван</td>\n",
       "      <td>31</td>\n",
       "      <td>Екатеринбург</td>\n",
       "      <td>free</td>\n",
       "      <td>1134</td>\n",
       "      <td>6.250941</td>\n",
       "      <td>2021-07-17</td>\n",
       "      <td>7</td>\n",
       "    </tr>\n",
       "    <tr>\n",
       "      <th>6528</th>\n",
       "      <td>701</td>\n",
       "      <td>Иван</td>\n",
       "      <td>31</td>\n",
       "      <td>Екатеринбург</td>\n",
       "      <td>free</td>\n",
       "      <td>3988</td>\n",
       "      <td>20.092077</td>\n",
       "      <td>2021-07-28</td>\n",
       "      <td>7</td>\n",
       "    </tr>\n",
       "    <tr>\n",
       "      <th>6529</th>\n",
       "      <td>701</td>\n",
       "      <td>Иван</td>\n",
       "      <td>31</td>\n",
       "      <td>Екатеринбург</td>\n",
       "      <td>free</td>\n",
       "      <td>4407</td>\n",
       "      <td>18.814783</td>\n",
       "      <td>2021-07-28</td>\n",
       "      <td>7</td>\n",
       "    </tr>\n",
       "    <tr>\n",
       "      <th>6530</th>\n",
       "      <td>701</td>\n",
       "      <td>Иван</td>\n",
       "      <td>31</td>\n",
       "      <td>Екатеринбург</td>\n",
       "      <td>free</td>\n",
       "      <td>3432</td>\n",
       "      <td>17.441020</td>\n",
       "      <td>2021-08-31</td>\n",
       "      <td>8</td>\n",
       "    </tr>\n",
       "    <tr>\n",
       "      <th>6531</th>\n",
       "      <td>701</td>\n",
       "      <td>Иван</td>\n",
       "      <td>31</td>\n",
       "      <td>Екатеринбург</td>\n",
       "      <td>free</td>\n",
       "      <td>4196</td>\n",
       "      <td>0.500000</td>\n",
       "      <td>2021-08-31</td>\n",
       "      <td>8</td>\n",
       "    </tr>\n",
       "    <tr>\n",
       "      <th>6532</th>\n",
       "      <td>701</td>\n",
       "      <td>Иван</td>\n",
       "      <td>31</td>\n",
       "      <td>Екатеринбург</td>\n",
       "      <td>free</td>\n",
       "      <td>4520</td>\n",
       "      <td>15.299573</td>\n",
       "      <td>2021-09-09</td>\n",
       "      <td>9</td>\n",
       "    </tr>\n",
       "    <tr>\n",
       "      <th>6533</th>\n",
       "      <td>701</td>\n",
       "      <td>Иван</td>\n",
       "      <td>31</td>\n",
       "      <td>Екатеринбург</td>\n",
       "      <td>free</td>\n",
       "      <td>4140</td>\n",
       "      <td>16.279489</td>\n",
       "      <td>2021-09-25</td>\n",
       "      <td>9</td>\n",
       "    </tr>\n",
       "    <tr>\n",
       "      <th>6534</th>\n",
       "      <td>701</td>\n",
       "      <td>Иван</td>\n",
       "      <td>31</td>\n",
       "      <td>Екатеринбург</td>\n",
       "      <td>free</td>\n",
       "      <td>4370</td>\n",
       "      <td>13.041345</td>\n",
       "      <td>2021-10-22</td>\n",
       "      <td>10</td>\n",
       "    </tr>\n",
       "    <tr>\n",
       "      <th>6535</th>\n",
       "      <td>701</td>\n",
       "      <td>Иван</td>\n",
       "      <td>31</td>\n",
       "      <td>Екатеринбург</td>\n",
       "      <td>free</td>\n",
       "      <td>4025</td>\n",
       "      <td>29.101107</td>\n",
       "      <td>2021-10-27</td>\n",
       "      <td>10</td>\n",
       "    </tr>\n",
       "    <tr>\n",
       "      <th>6536</th>\n",
       "      <td>701</td>\n",
       "      <td>Иван</td>\n",
       "      <td>31</td>\n",
       "      <td>Екатеринбург</td>\n",
       "      <td>free</td>\n",
       "      <td>2421</td>\n",
       "      <td>9.187770</td>\n",
       "      <td>2021-12-10</td>\n",
       "      <td>12</td>\n",
       "    </tr>\n",
       "    <tr>\n",
       "      <th>6537</th>\n",
       "      <td>701</td>\n",
       "      <td>Иван</td>\n",
       "      <td>31</td>\n",
       "      <td>Екатеринбург</td>\n",
       "      <td>free</td>\n",
       "      <td>352</td>\n",
       "      <td>12.057312</td>\n",
       "      <td>2021-12-15</td>\n",
       "      <td>12</td>\n",
       "    </tr>\n",
       "  </tbody>\n",
       "</table>\n",
       "</div>"
      ],
      "text/plain": [
       "      user_id  name  age          city subscription_type  distance   duration  \\\n",
       "6518      701  Иван   31  Екатеринбург              free      2676  17.470598   \n",
       "6519      701  Иван   31  Екатеринбург              free      2744  14.974710   \n",
       "6520      701  Иван   31  Екатеринбург              free      2894  11.891791   \n",
       "6521      701  Иван   31  Екатеринбург              free      2802  16.008663   \n",
       "6522      701  Иван   31  Екатеринбург              free      3509  13.081094   \n",
       "6523      701  Иван   31  Екатеринбург              free      2466  14.283970   \n",
       "6524      701  Иван   31  Екатеринбург              free       731   6.657051   \n",
       "6525      701  Иван   31  Екатеринбург              free      3903  18.367706   \n",
       "6526      701  Иван   31  Екатеринбург              free      3442  18.978076   \n",
       "6527      701  Иван   31  Екатеринбург              free      1134   6.250941   \n",
       "6528      701  Иван   31  Екатеринбург              free      3988  20.092077   \n",
       "6529      701  Иван   31  Екатеринбург              free      4407  18.814783   \n",
       "6530      701  Иван   31  Екатеринбург              free      3432  17.441020   \n",
       "6531      701  Иван   31  Екатеринбург              free      4196   0.500000   \n",
       "6532      701  Иван   31  Екатеринбург              free      4520  15.299573   \n",
       "6533      701  Иван   31  Екатеринбург              free      4140  16.279489   \n",
       "6534      701  Иван   31  Екатеринбург              free      4370  13.041345   \n",
       "6535      701  Иван   31  Екатеринбург              free      4025  29.101107   \n",
       "6536      701  Иван   31  Екатеринбург              free      2421   9.187770   \n",
       "6537      701  Иван   31  Екатеринбург              free       352  12.057312   \n",
       "\n",
       "           date  month  \n",
       "6518 2021-01-23      1  \n",
       "6519 2021-02-13      2  \n",
       "6520 2021-02-20      2  \n",
       "6521 2021-03-12      3  \n",
       "6522 2021-04-17      4  \n",
       "6523 2021-05-31      5  \n",
       "6524 2021-06-02      6  \n",
       "6525 2021-06-20      6  \n",
       "6526 2021-07-04      7  \n",
       "6527 2021-07-17      7  \n",
       "6528 2021-07-28      7  \n",
       "6529 2021-07-28      7  \n",
       "6530 2021-08-31      8  \n",
       "6531 2021-08-31      8  \n",
       "6532 2021-09-09      9  \n",
       "6533 2021-09-25      9  \n",
       "6534 2021-10-22     10  \n",
       "6535 2021-10-27     10  \n",
       "6536 2021-12-10     12  \n",
       "6537 2021-12-15     12  "
      ]
     },
     "execution_count": 47,
     "metadata": {},
     "output_type": "execute_result"
    }
   ],
   "source": [
    "data.query('user_id == 701')"
   ]
  },
  {
   "cell_type": "markdown",
   "id": "02c55248",
   "metadata": {},
   "source": [
    "Иван из Екатеринбурга совершил 20 поездок за год, и только одна попала в выборку. Значит дело тут не в пользователе. Возможно 0.5 это не полминуты а полчаса? Посмтрим сколько в среднем проезжают пользователи за полчаса и сравним со средним в выборке."
   ]
  },
  {
   "cell_type": "markdown",
   "id": "bf3d3e32",
   "metadata": {},
   "source": [
    "###### Найдем среднюю скорость пользователей (рассмотрим только пользоватеелей без подписки)."
   ]
  },
  {
   "cell_type": "code",
   "execution_count": 48,
   "id": "267386b1",
   "metadata": {},
   "outputs": [
    {
     "data": {
      "text/plain": [
       "259.9650708023463"
      ]
     },
     "execution_count": 48,
     "metadata": {},
     "output_type": "execute_result"
    }
   ],
   "source": [
    "(data_free['distance']/data_free['duration']).mean()"
   ]
  },
  {
   "cell_type": "markdown",
   "id": "2ce96691",
   "metadata": {},
   "source": [
    "259 метров в минуту, или иначе 15.5 километров в час, похоже на правду."
   ]
  },
  {
   "cell_type": "markdown",
   "id": "6e920cab",
   "metadata": {},
   "source": [
    "###### Теперь найдем расстояние которое проедет пользователь за 30 минут со средней скоростью"
   ]
  },
  {
   "cell_type": "code",
   "execution_count": 49,
   "id": "70504894",
   "metadata": {},
   "outputs": [
    {
     "data": {
      "text/plain": [
       "7798.952124070389"
      ]
     },
     "execution_count": 49,
     "metadata": {},
     "output_type": "execute_result"
    }
   ],
   "source": [
    "(data_free['distance']/data_free['duration']).mean() * 30"
   ]
  },
  {
   "cell_type": "markdown",
   "id": "0faffaac",
   "metadata": {},
   "source": [
    "При средней скорости за полчаса пользовательо проехал бы 7.8 км, а в выборке среднее значение 5 км. Не похоже что 0.5 это полчаса. Значения не получится просто заменить на 30. В таком случае для каждой строки с аномальным значением заменим его на частное расстояния и средей скорости"
   ]
  },
  {
   "cell_type": "markdown",
   "id": "bbeefcfa",
   "metadata": {},
   "source": [
    "###### Исправим аномальные значения."
   ]
  },
  {
   "cell_type": "code",
   "execution_count": 50,
   "id": "99d10c6d",
   "metadata": {},
   "outputs": [],
   "source": [
    "def duration(row):\n",
    "    if row['duration'] == 0.5:\n",
    "        return row['distance']/((data_free['distance']/data_free['duration']).mean())\n",
    "    else:\n",
    "        return row['duration']\n",
    "\n",
    "data['duration'] = data.apply(duration, axis=1)"
   ]
  },
  {
   "cell_type": "markdown",
   "id": "47990c11",
   "metadata": {},
   "source": [
    "Так как мы исправили всего 95 значений из 18 тысяч, можно не исправлять предыдущие выводы, так как изменения повлияли на них незначительно."
   ]
  },
  {
   "cell_type": "markdown",
   "id": "67a1fd10",
   "metadata": {},
   "source": [
    "##### Вывод:\n",
    "На этом шаге были объединены данные о пользователях и поездках, созданы два отдельных датафрейма с данными о пользователях разных категорий, были визуализированны данные о времени и расстоянии поездок.\n",
    "\n",
    "ДДля пользователей без подписки среднее растояние поездки 3-3.1 км, межквартильный размах от 2.4 до 3.9, нормальные значения от 5 метров до 6.1 км. Часто встречаютя выбросы от 0.8 метров и единичные от 6.2 до 7.2 км. На гистаграмме два пика около 600 м высотой до 110 и около 3 км высотой до 320. \n",
    "\n",
    "Для пользователей с подпиской среднее растояние поездки 3.1-3.15 км, межквартильный размах от 2.8 до 3.6, нормальные значения от 1.7 до 4.7 км. Часто встречаютя выбросы снизу от 500 метров и единичные от 250 до 500 и сверху до 5.7 км. На гистаграмме два пика около 1 км м высотой до 40 и около 3,2 км высотой до 300. \n",
    "\n",
    "Для пользователей без подписки среднее время поездки 17.3 мин, межквартильный размах от 13 до 21.6 мин, нормальные значения от 0.5 до 34.5 мин . Часто встречаютя выбросы в районе 25 мин . На гистаграмме два пика около 0.5 высотой до 90 и около 17 высотой до 290.\n",
    "\n",
    "Для пользователей с подпиской среднее время поездки 18.2 мин, межквартильный размах от 14.5 до 21.9, нормальные значения от 3 до 33 мин. Часто встречаютя выбросы сверху до 37 мин, далее выбросы единичные. На гистаграмме пик около 18 высотой до 190. \n",
    "\n",
    "Предположение сделанное в шаге 3 (о том, что пользователи с подпиской выбирают самокат, нажимают старт, но никуда не едут) не подтвердилось. Оказалось что аномально короткие поездки наоборот совершают пользователи без подписки. Это странно, учитывая, что за старт им приходится платить по 50 рублей, возможно у них возникают какие-то трудности при использовании сервиса. Далее в шаге 4.4 рассмотрим эту проблему подробнее.\n",
    "\n",
    "Далее была создана выборка, с аномальными значениями продолжительности поездки, куда попали 95 поездок с разными идентификаторами, городами и датами. Расстояние в выборке в среднем 5 км, от 4 до 7.2. Очевидно что ошибка во времени поездки. предположения о том что проблема в конкретных пользователях, совершивших эти поездки не подтвердилось. Предположение о неправильном формате записи (в часах а не в минутах) не подтвердилось. Было принято решение заменить аномальные значения на частное расстояния и средей скорости."
   ]
  },
  {
   "cell_type": "markdown",
   "id": "402d620f",
   "metadata": {},
   "source": [
    "#### Шаг 5. Подсчёт выручки"
   ]
  },
  {
   "cell_type": "markdown",
   "id": "a1c4f06d",
   "metadata": {},
   "source": [
    "##### Создадим датафрейм с агрегированными данными о поездках на основе датафрейма с объединёнными данными из шага 4."
   ]
  },
  {
   "cell_type": "markdown",
   "id": "7fe667d1",
   "metadata": {},
   "source": [
    "###### Сначала округлим продолжительность каждой поездки в каждой строке исходного датафрейма."
   ]
  },
  {
   "cell_type": "code",
   "execution_count": 51,
   "id": "388ea256",
   "metadata": {},
   "outputs": [],
   "source": [
    "data['duration'] = np.ceil(data['duration'])"
   ]
  },
  {
   "cell_type": "markdown",
   "id": "e3863245",
   "metadata": {},
   "source": [
    "###### Создадим датафрейм с агрегированными данными."
   ]
  },
  {
   "cell_type": "code",
   "execution_count": 52,
   "id": "a2c6cd25",
   "metadata": {},
   "outputs": [],
   "source": [
    "data_gr = data.pivot_table(\n",
    "    index=['user_id','month'], \n",
    "    values=['distance', 'duration', 'name', 'subscription_type'], \n",
    "    aggfunc={'distance' : sum,\n",
    "             'duration' : sum,\n",
    "             'name' : len,\n",
    "             'subscription_type' : min}\n",
    ")"
   ]
  },
  {
   "cell_type": "markdown",
   "id": "1d8991c6",
   "metadata": {},
   "source": [
    "###### Изменим название столбца с количеством поездок."
   ]
  },
  {
   "cell_type": "code",
   "execution_count": 53,
   "id": "e614fa7b",
   "metadata": {},
   "outputs": [],
   "source": [
    "data_gr = data_gr.rename(columns={'name' : 'rides', 'subscription_type' : 'subscription'})"
   ]
  },
  {
   "cell_type": "markdown",
   "id": "11f329cc",
   "metadata": {},
   "source": [
    "##### Добавим столбец с помесячной выручкой, которую принёс каждый пользователь."
   ]
  },
  {
   "cell_type": "code",
   "execution_count": 54,
   "id": "9f21d652",
   "metadata": {},
   "outputs": [],
   "source": [
    "def income (row):\n",
    "    if row['subscription'] == 'ultra':\n",
    "        return row['duration']*6+199\n",
    "    else:\n",
    "        return row['duration']*8+row['rides']*50"
   ]
  },
  {
   "cell_type": "code",
   "execution_count": 55,
   "id": "a99dac58",
   "metadata": {},
   "outputs": [],
   "source": [
    "data_gr['income'] = data_gr.apply(income, axis=1)"
   ]
  },
  {
   "cell_type": "code",
   "execution_count": 56,
   "id": "83e10346",
   "metadata": {},
   "outputs": [
    {
     "data": {
      "text/html": [
       "<div>\n",
       "<style scoped>\n",
       "    .dataframe tbody tr th:only-of-type {\n",
       "        vertical-align: middle;\n",
       "    }\n",
       "\n",
       "    .dataframe tbody tr th {\n",
       "        vertical-align: top;\n",
       "    }\n",
       "\n",
       "    .dataframe thead th {\n",
       "        text-align: right;\n",
       "    }\n",
       "</style>\n",
       "<table border=\"1\" class=\"dataframe\">\n",
       "  <thead>\n",
       "    <tr style=\"text-align: right;\">\n",
       "      <th></th>\n",
       "      <th></th>\n",
       "      <th>distance</th>\n",
       "      <th>duration</th>\n",
       "      <th>rides</th>\n",
       "      <th>subscription</th>\n",
       "      <th>income</th>\n",
       "    </tr>\n",
       "    <tr>\n",
       "      <th>user_id</th>\n",
       "      <th>month</th>\n",
       "      <th></th>\n",
       "      <th></th>\n",
       "      <th></th>\n",
       "      <th></th>\n",
       "      <th></th>\n",
       "    </tr>\n",
       "  </thead>\n",
       "  <tbody>\n",
       "    <tr>\n",
       "      <th rowspan=\"6\" valign=\"top\">1</th>\n",
       "      <th>1</th>\n",
       "      <td>7028</td>\n",
       "      <td>42.0</td>\n",
       "      <td>2</td>\n",
       "      <td>ultra</td>\n",
       "      <td>451.0</td>\n",
       "    </tr>\n",
       "    <tr>\n",
       "      <th>4</th>\n",
       "      <td>754</td>\n",
       "      <td>7.0</td>\n",
       "      <td>1</td>\n",
       "      <td>ultra</td>\n",
       "      <td>241.0</td>\n",
       "    </tr>\n",
       "    <tr>\n",
       "      <th>8</th>\n",
       "      <td>6724</td>\n",
       "      <td>46.0</td>\n",
       "      <td>2</td>\n",
       "      <td>ultra</td>\n",
       "      <td>475.0</td>\n",
       "    </tr>\n",
       "    <tr>\n",
       "      <th>10</th>\n",
       "      <td>5810</td>\n",
       "      <td>32.0</td>\n",
       "      <td>2</td>\n",
       "      <td>ultra</td>\n",
       "      <td>391.0</td>\n",
       "    </tr>\n",
       "    <tr>\n",
       "      <th>11</th>\n",
       "      <td>7004</td>\n",
       "      <td>56.0</td>\n",
       "      <td>3</td>\n",
       "      <td>ultra</td>\n",
       "      <td>535.0</td>\n",
       "    </tr>\n",
       "    <tr>\n",
       "      <th>12</th>\n",
       "      <td>6752</td>\n",
       "      <td>28.0</td>\n",
       "      <td>2</td>\n",
       "      <td>ultra</td>\n",
       "      <td>367.0</td>\n",
       "    </tr>\n",
       "    <tr>\n",
       "      <th rowspan=\"4\" valign=\"top\">2</th>\n",
       "      <th>3</th>\n",
       "      <td>10188</td>\n",
       "      <td>63.0</td>\n",
       "      <td>3</td>\n",
       "      <td>ultra</td>\n",
       "      <td>577.0</td>\n",
       "    </tr>\n",
       "    <tr>\n",
       "      <th>4</th>\n",
       "      <td>6165</td>\n",
       "      <td>40.0</td>\n",
       "      <td>2</td>\n",
       "      <td>ultra</td>\n",
       "      <td>439.0</td>\n",
       "    </tr>\n",
       "    <tr>\n",
       "      <th>6</th>\n",
       "      <td>3255</td>\n",
       "      <td>14.0</td>\n",
       "      <td>1</td>\n",
       "      <td>ultra</td>\n",
       "      <td>283.0</td>\n",
       "    </tr>\n",
       "    <tr>\n",
       "      <th>7</th>\n",
       "      <td>6781</td>\n",
       "      <td>48.0</td>\n",
       "      <td>2</td>\n",
       "      <td>ultra</td>\n",
       "      <td>487.0</td>\n",
       "    </tr>\n",
       "  </tbody>\n",
       "</table>\n",
       "</div>"
      ],
      "text/plain": [
       "               distance  duration  rides subscription  income\n",
       "user_id month                                                \n",
       "1       1          7028      42.0      2        ultra   451.0\n",
       "        4           754       7.0      1        ultra   241.0\n",
       "        8          6724      46.0      2        ultra   475.0\n",
       "        10         5810      32.0      2        ultra   391.0\n",
       "        11         7004      56.0      3        ultra   535.0\n",
       "        12         6752      28.0      2        ultra   367.0\n",
       "2       3         10188      63.0      3        ultra   577.0\n",
       "        4          6165      40.0      2        ultra   439.0\n",
       "        6          3255      14.0      1        ultra   283.0\n",
       "        7          6781      48.0      2        ultra   487.0"
      ]
     },
     "execution_count": 56,
     "metadata": {},
     "output_type": "execute_result"
    }
   ],
   "source": [
    "data_gr.head(10)"
   ]
  },
  {
   "cell_type": "markdown",
   "id": "093f49d2",
   "metadata": {},
   "source": [
    "##### Вывод:\n",
    "На этом шаге был создан  датафрейм с агрегированными данными о поездках, найдено суммарное расстояние, количество поездок и суммарное время для каждого пользователя за каждый месяц, добавлен столбец с помесячной выручкой, которую принёс каждый пользователь."
   ]
  },
  {
   "cell_type": "markdown",
   "id": "41545ac0",
   "metadata": {},
   "source": [
    "#### Шаг 6. Проверка гипотез"
   ]
  },
  {
   "cell_type": "markdown",
   "id": "239bb71e",
   "metadata": {},
   "source": [
    "##### Гипотеза 1. Пользователи с подпиской тратят больше времени на поездки, чем пользователи без подписки."
   ]
  },
  {
   "cell_type": "markdown",
   "id": "f319f366",
   "metadata": {},
   "source": [
    "Нулевая гипотеза: Пользователи с подпиской тратят на поездки столько же времени, сколько пользователи без подписки\n",
    "\n",
    "Альтернативная гипотеза: Среднее время поездки у пользователей с подпиской больше, чем у пользователей без подписки."
   ]
  },
  {
   "cell_type": "code",
   "execution_count": 57,
   "id": "2e7c84bb",
   "metadata": {},
   "outputs": [
    {
     "name": "stdout",
     "output_type": "stream",
     "text": [
      "p-значение: 2.5608196633291235e-34\n",
      "Отвергаем нулевую гипотезу\n"
     ]
    }
   ],
   "source": [
    "alpha = 0.05\n",
    "results = st.ttest_ind(data_ultra['duration'], data_free['duration'])\n",
    "\n",
    "print('p-значение:', results.pvalue)\n",
    "\n",
    "if results.pvalue < alpha:\n",
    "    print('Отвергаем нулевую гипотезу')\n",
    "else:\n",
    "    print('Не получилось отвергнуть нулевую гипотезу') "
   ]
  },
  {
   "cell_type": "markdown",
   "id": "1e3201f9",
   "metadata": {},
   "source": [
    "При уровне статистической значимости 5%, наблюдаемое значение слишком далеко от предполагаемого в нулевой гипотезе, поэтому нулевая гипотеза отвергается. Среднее время поездки у пользователей с подпиской больше, чем у пользователей без подписки"
   ]
  },
  {
   "cell_type": "markdown",
   "id": "6e8a9b6f",
   "metadata": {},
   "source": [
    "##### Гипотеза 2. Среднее расстояние, которое проезжают пользователи с подпиской за одну поездку, не превышает 3130 метров."
   ]
  },
  {
   "cell_type": "markdown",
   "id": "b3a6780a",
   "metadata": {},
   "source": [
    "Нулевая гипотеза: Среднее расстояние, которое проезжают пользователи с подпиской за одну поездку, не превышает 3130 метров.\n",
    "\n",
    "Альтернативная гипотеза: Подписчики в среднем проезжают расстояние больше оптимального"
   ]
  },
  {
   "cell_type": "code",
   "execution_count": 58,
   "id": "40b9783a",
   "metadata": {},
   "outputs": [
    {
     "name": "stdout",
     "output_type": "stream",
     "text": [
      "p-значение: 0.9195649894697724\n",
      "Не отвергаем нулевую гипотезу\n"
     ]
    }
   ],
   "source": [
    "ist = 3130\n",
    "\n",
    "alpha = 0.05 \n",
    "\n",
    "results = st.ttest_1samp(\n",
    "    data_ultra['distance'], \n",
    "    dist,\n",
    "    alternative='greater')\n",
    "\n",
    "print('p-значение:', results.pvalue)\n",
    "\n",
    "if (results.pvalue < alpha):\n",
    "    print('Отвергаем нулевую гипотезу')\n",
    "else:\n",
    "    print('Не отвергаем нулевую гипотезу') "
   ]
  },
  {
   "cell_type": "markdown",
   "id": "8bad725d",
   "metadata": {},
   "source": [
    "При уровне статистической значимости 5%,  p-value превышает уровень статистической значимости, значит нулевая гипотеза не\n",
    "отвергается. Среднее расстояние, которое проезжают пользователи с подпиской за одну поездку, не превышает 3130 метров."
   ]
  },
  {
   "cell_type": "markdown",
   "id": "ec396c87",
   "metadata": {},
   "source": [
    "##### Гипотеза 3. Помесячная выручка от пользователей с подпиской по месяцам выше, чем выручка от пользователей без подписки."
   ]
  },
  {
   "cell_type": "markdown",
   "id": "e1143a9f",
   "metadata": {},
   "source": [
    "Нулевая гипотеза: Помесячная выручка от пользователей с подпиской по месяцам равна выручке от пользователей без подписки.\n",
    "\n",
    "Альтернативная гипотеза: Помесячная выручка от пользователей с подпиской по месяцам выше, чем выручка от пользователей без подписки."
   ]
  },
  {
   "cell_type": "code",
   "execution_count": 59,
   "id": "f639af89",
   "metadata": {},
   "outputs": [
    {
     "name": "stdout",
     "output_type": "stream",
     "text": [
      "p-значение: 1.8233827279914752e-27\n",
      "Отвергаем нулевую гипотезу\n"
     ]
    }
   ],
   "source": [
    "alpha = 0.05\n",
    "results = st.ttest_ind(data_gr.query('subscription == \"ultra\"')['income'], data_gr.query('subscription == \"free\"')['income'])\n",
    "\n",
    "print('p-значение:', results.pvalue)\n",
    "\n",
    "if results.pvalue < alpha:\n",
    "    print('Отвергаем нулевую гипотезу')\n",
    "else:\n",
    "    print('Не получилось отвергнуть нулевую гипотезу') "
   ]
  },
  {
   "cell_type": "markdown",
   "id": "f16a16e5",
   "metadata": {},
   "source": [
    "При уровне статистической значимости 5%, наблюдаемое значение слишком далеко от предполагаемого в нулевой гипотезе, поэтому гипотеза отвергается. Помесячная выручка от пользователей с подпиской по месяцам выше, чем выручка от пользователей без подписки."
   ]
  },
  {
   "cell_type": "markdown",
   "id": "e01ae48e",
   "metadata": {},
   "source": [
    "##### Техническая команда сервиса обновила сервера, с которыми взаимодействует мобильное приложение. Она надеется, что из-за этого количество обращений в техподдержку значимо снизилось. Некоторый файл содержит для каждого пользователя данные о количестве обращений до обновления и после него."
   ]
  },
  {
   "cell_type": "markdown",
   "id": "78bcdd5a",
   "metadata": {},
   "source": [
    "Это односторонняя гипотеза о равенстве средних для зависимых (парных) выборок. Для проверки этой гипотезы понадобился бы двухвыборочный t-тест для зависимых выборок с аргументом alternative='greater'."
   ]
  },
  {
   "cell_type": "markdown",
   "id": "6497f3f6",
   "metadata": {},
   "source": [
    "##### Вывод:\n",
    "\n",
    "По гипотезам сделаны следующие выводы:\n",
    "\n",
    "Среднее время поездки у пользователей с подпиской больше, чем у пользователей без подписки\n",
    "\n",
    "Среднее расстояние, которое проезжают пользователи с подпиской за одну поездку, не превышает 3130 метров.\n",
    "\n",
    "Помесячная выручка от пользователей с подпиской по месяцам выше, чем выручка от пользователей без подписки."
   ]
  },
  {
   "cell_type": "markdown",
   "id": "3895febb",
   "metadata": {},
   "source": [
    "#### Общий вывод:\n",
    "\n",
    "Таблица \"users\" содержит информаию о пользователях приложения, состоит из 1565 строк и 5 столбцов:\n",
    "user_id - уникальный идентификатор пользователя\n",
    "\n",
    "name - имя пользователя\n",
    "\n",
    "age - возраст\n",
    "\n",
    "city - город\n",
    "\n",
    "subscription_type - тип подписки (free, ultra)\n",
    "\n",
    "В таблице присутствуют целочисленные и строковые значения, пропусков в таблице нет, есть 31 дубликат.\n",
    "\n",
    "Таблица \"rides\" содержит информаию о поездках  пользователей приложения, состоит из 18068 строк и 4 столбцов:\n",
    "user_id - уникальный идентификатор пользователя\n",
    "\n",
    "distance - расстояние, которое пользователь проехал в текущей сессии (в метрах)\n",
    "\n",
    "duration - продолжительность сессии (в минутах) — время с того момента, как пользователь нажал кнопку «Начать поездку» до момента, как он нажал кнопку «Завершить поездку»\n",
    "\n",
    "date - дата совершения поездки\n",
    "\n",
    "В таблице присутствуют числовые и строковые значения, пропусков и дубликатов в таблице нет.\n",
    "\n",
    "Таблица \"subscriptions\" содержит информаию о подписках пользователей приложения, состоит из 2 строк и 4 столбцов:\n",
    "subscription_type - тип подписки\n",
    "\n",
    "minute_price - стоимость одной минуты поездки по данной подписке\n",
    "\n",
    "start_ride_price - стоимость начала поездки\n",
    "\n",
    "subscription_fee - стоимость ежемесячного платежа\n",
    "\n",
    "В таблице присутствуют целочисленные и строковые значения, пропусков и дубликатов в таблице нет.\n",
    "\n",
    "На этапе предобработки столбец \"date\" таблицы \"rides\" был приведен к типу даты, создадан новый столбец в таблице \"ride\" с номером месяца на основе столбца \"date\", из таблицы \"users\" был удален 31 дубликат, были округлены расстояния в таблице \"rides\" и приведены к целочисленному значению.\n",
    "\n",
    "Больше всего пользователей из Пятигорска, меньше всего из Москвы.\n",
    "\n",
    "Колебания количества пользователей из разных городов незначительны. В среднем из каждого города рассматривается 192 пользователя.\n",
    "\n",
    "Пользоватей с подпиской 45.6%, пользоватей без подписки 54.4%.\n",
    "\n",
    "Возраст пользоватей от 12 до 43 лет, медианное и среднее значения почти равны между собой (25 и 24,9 соответсвенно).\n",
    "\n",
    "Межквартильный размах возраста пользователей от 22 до 28 лет. В пределах нормальных значений возраст от 13 до 37 лет, есть единичные выбросы на значениях 12, 38, 39 и 43.\n",
    "\n",
    "Распределение возраста пользователей похоже на нормальное, аномальных значений не наблюдается.\n",
    "\n",
    "Расстояние поездок от 1 до 7211 метров, медианное и среднее значения почти равны между собой (3134 и 3071 соответсвенно).\n",
    "\n",
    "Межквартильный размах расстояния от 2543 до 3776 метров. В пределах нормальных значений расстояния от 1750 до 5600 метров, есть множественные выбросы на значениях от 1 до 1750 от 5600 до 6100, далее выбросы встречаются все реже до значения в 7211 метров.\n",
    "\n",
    "Наблюдаются два пика на 600 и 3100 метров. Есть предположение что первый пик будет наблюдаться в основном у пользователей с подпиской, так как им выгоднее совершать короткие поездки, чем поьзователям без подписки, далее проверим это предположение в шаге 4.\n",
    "\n",
    "Время поездок от 0,5 до 40,8 минут, медианное и среднее значения почти равны между собой (17,7 и 17,8 соответсвенно)\n",
    "\n",
    "Межквартильный размах времени поездок от 14 до 22 минут. В пределах нормальных значений время поездки от 2 до 34 минут, есть множественные выбросы на значении 0,5 минут, возможно такие значения означают, что пользователь выбрал самокат, нажал старт, но никуда не поехал (скорее всего это делают пользователи с подпиской), далее проверим это предположение в шаге 4. Далее выбросы довольно часто на значениях от 34 до 37 минут, и до 41 минуты выбросы уже представляют собой единичные значения.\n",
    "\n",
    "На значении 0,5 минут пик достигает 95 поездок, в шаге 4 проверим присутствует ли этот пик для обоих категорий пользователей, и если предположение о том, что пользователь выбрал самокат, нажал старт, но никуда не поехал , подтвердится удалим эти поездки из выборки.\n",
    "\n",
    "Кроме описанной выше аномалии, распределение остальных значений напоминает нормальное, пик примерно на 17 минутах.\n",
    "\n",
    "На этом шаге были объединены данные о пользователях и поездках, созданы два отдельных датафрейма с данными о пользователях разных категорий, были визуализированны данные о времени и расстоянии поездок.\n",
    "\n",
    "Для пользователей без подписки среднее растояние поездки 3-3.1 км, межквартильный размах от 2.4 до 3.9, нормальные значения от 5 метров до 6.1 км. Часто встречаютя выбросы от 0.8 метров и единичные от 6.2 до 7.2 км. На гистаграмме два пика около 600 м высотой до 110 и около 3 км высотой до 320.\n",
    "\n",
    "Для пользователей с подпиской среднее растояние поездки 3.1-3.15 км, межквартильный размах от 2.8 до 3.6, нормальные значения от 1.7 до 4.7 км. Часто встречаютя выбросы снизу от 500 метров и единичные от 250 до 500 и сверху до 5.7 км. На гистаграмме два пика около 1 км м высотой до 40 и около 3,2 км высотой до 300.\n",
    "\n",
    "Для пользователей без подписки среднее время поездки 17.3 мин, межквартильный размах от 13 до 21.6 мин, нормальные значения от 0.5 до 34.5 мин . Часто встречаютя выбросы в районе 25 мин . На гистаграмме два пика около 0.5 высотой до 90 и около 17 высотой до 290.\n",
    "\n",
    "Для пользователей с подпиской среднее время поездки 18.2 мин, межквартильный размах от 14.5 до 21.9, нормальные значения от 3 до 33 мин. Часто встречаютя выбросы сверху до 37 мин, далее выбросы единичные. На гистаграмме пик около 18 высотой до 190.\n",
    "\n",
    "Предположение сделанное в шаге 3 (о том, что пользователи с подпиской выбирают самокат, нажимают старт, но никуда не едут) не подтвердилось. Оказалось что аномально короткие поездки наоборот совершают пользователи без подписки. Это странно, учитывая, что за старт им приходится платить по 50 рублей, возможно у них возникают какие-то трудности при использовании сервиса. Далее в шаге 4.4 рассмотрим эту проблему подробнее.\n",
    "\n",
    "Далее была создана выборка, с аномальными значениями продолжительности поездки, куда попали 95 поездок с разными идентификаторами, городами и датами. Расстояние в выборке в среднем 5 км, от 4 до 7.2. Очевидно что ошибка во времени поездки. предположения о том что проблема в конкретных пользователях, совершивших эти поездки не подтвердилось. Предположение о неправильном формате записи (в часах а не в минутах) не подтвердилось. Было принято решение заменить аномальные значения на частное расстояния и средей скорости.\n",
    "\n",
    "Был создан  датафрейм с агрегированными данными о поездках, найдено суммарное расстояние, количество поездок и суммарное время для каждого пользователя за каждый месяц, добавлен столбец с помесячной выручкой, которую принёс каждый пользователь.\n",
    "\n",
    "По гипотезам сделаны следующие выводы:\n",
    "\n",
    "Среднее время поездки у пользователей с подпиской больше, чем у пользователей без подписки\n",
    "\n",
    "Среднее расстояние, которое проезжают пользователи с подпиской за одну поездку, не превышает 3130 метров.\n",
    "\n",
    "Помесячная выручка от пользователей с подпиской по месяцам выше, чем выручка от пользователей без подписки."
   ]
  }
 ],
 "metadata": {
  "ExecuteTimeLog": [
   {
    "duration": 47,
    "start_time": "2024-02-02T11:11:26.955Z"
   },
   {
    "duration": 376,
    "start_time": "2024-02-02T11:11:30.586Z"
   },
   {
    "duration": 72,
    "start_time": "2024-02-02T11:11:32.333Z"
   },
   {
    "duration": 16,
    "start_time": "2024-02-02T11:11:58.404Z"
   },
   {
    "duration": 73,
    "start_time": "2024-02-02T11:13:19.023Z"
   },
   {
    "duration": 8,
    "start_time": "2024-02-02T11:13:20.409Z"
   },
   {
    "duration": 62,
    "start_time": "2024-02-02T11:13:22.477Z"
   },
   {
    "duration": 6,
    "start_time": "2024-02-02T11:13:24.035Z"
   },
   {
    "duration": 7,
    "start_time": "2024-02-02T11:16:28.311Z"
   },
   {
    "duration": 31,
    "start_time": "2024-02-02T11:17:08.710Z"
   },
   {
    "duration": 11,
    "start_time": "2024-02-02T11:17:15.074Z"
   },
   {
    "duration": 10,
    "start_time": "2024-02-02T11:17:28.028Z"
   },
   {
    "duration": 9,
    "start_time": "2024-02-02T11:17:45.562Z"
   },
   {
    "duration": 332,
    "start_time": "2024-02-02T11:18:23.876Z"
   },
   {
    "duration": 27,
    "start_time": "2024-02-02T11:18:24.210Z"
   },
   {
    "duration": 13,
    "start_time": "2024-02-02T11:18:24.239Z"
   },
   {
    "duration": 10,
    "start_time": "2024-02-02T11:18:24.254Z"
   },
   {
    "duration": 26,
    "start_time": "2024-02-02T11:18:24.266Z"
   },
   {
    "duration": 8,
    "start_time": "2024-02-02T11:18:24.293Z"
   },
   {
    "duration": 10,
    "start_time": "2024-02-02T11:18:24.303Z"
   },
   {
    "duration": 14,
    "start_time": "2024-02-02T11:18:24.317Z"
   },
   {
    "duration": 6,
    "start_time": "2024-02-02T11:18:24.333Z"
   },
   {
    "duration": 10,
    "start_time": "2024-02-02T11:18:24.340Z"
   },
   {
    "duration": 61,
    "start_time": "2024-02-02T11:33:26.588Z"
   },
   {
    "duration": 7,
    "start_time": "2024-02-02T11:33:54.962Z"
   },
   {
    "duration": 47,
    "start_time": "2024-02-02T11:34:00.278Z"
   },
   {
    "duration": 20,
    "start_time": "2024-02-02T11:34:10.171Z"
   },
   {
    "duration": 20,
    "start_time": "2024-02-02T11:34:33.277Z"
   },
   {
    "duration": 18,
    "start_time": "2024-02-02T11:34:46.084Z"
   },
   {
    "duration": 21,
    "start_time": "2024-02-02T11:35:33.128Z"
   },
   {
    "duration": 19,
    "start_time": "2024-02-02T11:35:41.487Z"
   },
   {
    "duration": 20,
    "start_time": "2024-02-02T11:35:49.339Z"
   },
   {
    "duration": 10,
    "start_time": "2024-02-02T12:54:06.308Z"
   },
   {
    "duration": 7,
    "start_time": "2024-02-02T12:55:39.221Z"
   },
   {
    "duration": 8,
    "start_time": "2024-02-02T12:58:44.177Z"
   },
   {
    "duration": 20,
    "start_time": "2024-02-02T12:59:18.929Z"
   },
   {
    "duration": 15,
    "start_time": "2024-02-02T12:59:50.451Z"
   },
   {
    "duration": 12,
    "start_time": "2024-02-02T13:00:12.172Z"
   },
   {
    "duration": 4,
    "start_time": "2024-02-02T13:00:13.692Z"
   },
   {
    "duration": 7,
    "start_time": "2024-02-02T13:01:53.799Z"
   },
   {
    "duration": 7,
    "start_time": "2024-02-02T13:02:04.040Z"
   },
   {
    "duration": 6,
    "start_time": "2024-02-02T13:02:12.592Z"
   },
   {
    "duration": 5,
    "start_time": "2024-02-02T13:03:06.836Z"
   },
   {
    "duration": 10,
    "start_time": "2024-02-02T13:03:26.425Z"
   },
   {
    "duration": 5,
    "start_time": "2024-02-02T13:04:45.190Z"
   },
   {
    "duration": 7,
    "start_time": "2024-02-02T13:04:52.133Z"
   },
   {
    "duration": 12,
    "start_time": "2024-02-02T13:07:33.129Z"
   },
   {
    "duration": 9,
    "start_time": "2024-02-02T13:17:06.320Z"
   },
   {
    "duration": 4,
    "start_time": "2024-02-02T13:17:40.811Z"
   },
   {
    "duration": 8,
    "start_time": "2024-02-02T13:18:25.887Z"
   },
   {
    "duration": 4,
    "start_time": "2024-02-02T13:18:40.990Z"
   },
   {
    "duration": 6,
    "start_time": "2024-02-02T13:18:53.259Z"
   },
   {
    "duration": 15,
    "start_time": "2024-02-02T13:24:12.994Z"
   },
   {
    "duration": 542,
    "start_time": "2024-02-02T13:24:38.986Z"
   },
   {
    "duration": 153,
    "start_time": "2024-02-02T13:27:23.633Z"
   },
   {
    "duration": 139,
    "start_time": "2024-02-02T13:27:50.941Z"
   },
   {
    "duration": 137,
    "start_time": "2024-02-02T13:28:21.469Z"
   },
   {
    "duration": 1296,
    "start_time": "2024-02-02T13:32:09.100Z"
   },
   {
    "duration": 151,
    "start_time": "2024-02-02T13:32:18.406Z"
   },
   {
    "duration": 162,
    "start_time": "2024-02-02T13:32:41.456Z"
   },
   {
    "duration": 170,
    "start_time": "2024-02-02T13:33:40.669Z"
   },
   {
    "duration": 153,
    "start_time": "2024-02-02T13:33:51.858Z"
   },
   {
    "duration": 109,
    "start_time": "2024-02-02T13:36:46.458Z"
   },
   {
    "duration": 142,
    "start_time": "2024-02-02T13:36:58.781Z"
   },
   {
    "duration": 143,
    "start_time": "2024-02-02T13:37:09.819Z"
   },
   {
    "duration": 124,
    "start_time": "2024-02-02T13:40:05.457Z"
   },
   {
    "duration": 5,
    "start_time": "2024-02-02T13:41:28.096Z"
   },
   {
    "duration": 122,
    "start_time": "2024-02-02T13:45:39.455Z"
   },
   {
    "duration": 126,
    "start_time": "2024-02-02T13:45:51.757Z"
   },
   {
    "duration": 130,
    "start_time": "2024-02-02T13:46:02.740Z"
   },
   {
    "duration": 18,
    "start_time": "2024-02-02T13:46:23.725Z"
   },
   {
    "duration": 140,
    "start_time": "2024-02-02T13:46:32.466Z"
   },
   {
    "duration": 186,
    "start_time": "2024-02-02T13:46:55.333Z"
   },
   {
    "duration": 227,
    "start_time": "2024-02-02T13:47:34.534Z"
   },
   {
    "duration": 146,
    "start_time": "2024-02-02T13:48:03.802Z"
   },
   {
    "duration": 6,
    "start_time": "2024-02-02T13:48:32.000Z"
   },
   {
    "duration": 12,
    "start_time": "2024-02-02T13:49:04.406Z"
   },
   {
    "duration": 253,
    "start_time": "2024-02-02T13:51:54.668Z"
   },
   {
    "duration": 277,
    "start_time": "2024-02-02T13:52:35.195Z"
   },
   {
    "duration": 253,
    "start_time": "2024-02-02T13:52:49.867Z"
   },
   {
    "duration": 148,
    "start_time": "2024-02-02T13:53:01.740Z"
   },
   {
    "duration": 218,
    "start_time": "2024-02-02T13:53:15.223Z"
   },
   {
    "duration": 46,
    "start_time": "2024-02-04T10:17:15.514Z"
   },
   {
    "duration": 395,
    "start_time": "2024-02-04T10:17:26.936Z"
   },
   {
    "duration": 72,
    "start_time": "2024-02-04T10:17:27.333Z"
   },
   {
    "duration": 17,
    "start_time": "2024-02-04T10:17:27.406Z"
   },
   {
    "duration": 9,
    "start_time": "2024-02-04T10:17:27.425Z"
   },
   {
    "duration": 65,
    "start_time": "2024-02-04T10:17:27.436Z"
   },
   {
    "duration": 8,
    "start_time": "2024-02-04T10:17:27.502Z"
   },
   {
    "duration": 9,
    "start_time": "2024-02-04T10:17:27.512Z"
   },
   {
    "duration": 49,
    "start_time": "2024-02-04T10:17:27.523Z"
   },
   {
    "duration": 6,
    "start_time": "2024-02-04T10:17:27.574Z"
   },
   {
    "duration": 9,
    "start_time": "2024-02-04T10:17:27.582Z"
   },
   {
    "duration": 15,
    "start_time": "2024-02-04T10:17:27.592Z"
   },
   {
    "duration": 11,
    "start_time": "2024-02-04T10:17:27.608Z"
   },
   {
    "duration": 11,
    "start_time": "2024-02-04T10:17:27.620Z"
   },
   {
    "duration": 5,
    "start_time": "2024-02-04T10:17:27.633Z"
   },
   {
    "duration": 12,
    "start_time": "2024-02-04T10:17:27.639Z"
   },
   {
    "duration": 5,
    "start_time": "2024-02-04T10:17:27.665Z"
   },
   {
    "duration": 536,
    "start_time": "2024-02-04T10:17:27.671Z"
   },
   {
    "duration": 6,
    "start_time": "2024-02-04T10:17:28.209Z"
   },
   {
    "duration": 136,
    "start_time": "2024-02-04T10:17:28.216Z"
   },
   {
    "duration": 260,
    "start_time": "2024-02-04T10:17:28.353Z"
   },
   {
    "duration": 30,
    "start_time": "2024-02-04T10:25:24.400Z"
   },
   {
    "duration": 12,
    "start_time": "2024-02-04T10:25:24.432Z"
   },
   {
    "duration": 13,
    "start_time": "2024-02-04T10:25:24.445Z"
   },
   {
    "duration": 26,
    "start_time": "2024-02-04T10:25:24.464Z"
   },
   {
    "duration": 8,
    "start_time": "2024-02-04T10:25:24.492Z"
   },
   {
    "duration": 16,
    "start_time": "2024-02-04T10:25:24.506Z"
   },
   {
    "duration": 16,
    "start_time": "2024-02-04T10:25:24.524Z"
   },
   {
    "duration": 9,
    "start_time": "2024-02-04T10:25:24.542Z"
   },
   {
    "duration": 18,
    "start_time": "2024-02-04T10:25:24.553Z"
   },
   {
    "duration": 6,
    "start_time": "2024-02-04T10:25:24.572Z"
   },
   {
    "duration": 4,
    "start_time": "2024-02-04T10:25:24.580Z"
   },
   {
    "duration": 8,
    "start_time": "2024-02-04T10:25:24.585Z"
   },
   {
    "duration": 7,
    "start_time": "2024-02-04T10:25:24.595Z"
   },
   {
    "duration": 20,
    "start_time": "2024-02-04T10:25:24.604Z"
   },
   {
    "duration": 43,
    "start_time": "2024-02-04T10:25:24.626Z"
   },
   {
    "duration": 144,
    "start_time": "2024-02-04T10:25:24.670Z"
   },
   {
    "duration": 5,
    "start_time": "2024-02-04T10:25:24.815Z"
   },
   {
    "duration": 126,
    "start_time": "2024-02-04T10:25:24.822Z"
   },
   {
    "duration": 271,
    "start_time": "2024-02-04T10:25:24.949Z"
   },
   {
    "duration": 3,
    "start_time": "2024-02-04T10:29:06.749Z"
   },
   {
    "duration": 384,
    "start_time": "2024-02-04T10:35:43.281Z"
   },
   {
    "duration": 27,
    "start_time": "2024-02-04T10:35:43.667Z"
   },
   {
    "duration": 14,
    "start_time": "2024-02-04T10:35:43.695Z"
   },
   {
    "duration": 9,
    "start_time": "2024-02-04T10:35:43.710Z"
   },
   {
    "duration": 29,
    "start_time": "2024-02-04T10:35:43.721Z"
   },
   {
    "duration": 8,
    "start_time": "2024-02-04T10:35:43.752Z"
   },
   {
    "duration": 13,
    "start_time": "2024-02-04T10:35:43.761Z"
   },
   {
    "duration": 14,
    "start_time": "2024-02-04T10:35:43.775Z"
   },
   {
    "duration": 5,
    "start_time": "2024-02-04T10:35:43.791Z"
   },
   {
    "duration": 10,
    "start_time": "2024-02-04T10:35:43.798Z"
   },
   {
    "duration": 7,
    "start_time": "2024-02-04T10:35:43.809Z"
   },
   {
    "duration": 6,
    "start_time": "2024-02-04T10:35:43.817Z"
   },
   {
    "duration": 7,
    "start_time": "2024-02-04T10:35:43.824Z"
   },
   {
    "duration": 32,
    "start_time": "2024-02-04T10:35:43.834Z"
   },
   {
    "duration": 12,
    "start_time": "2024-02-04T10:35:43.867Z"
   },
   {
    "duration": 4,
    "start_time": "2024-02-04T10:35:43.880Z"
   },
   {
    "duration": 373,
    "start_time": "2024-02-04T10:35:43.885Z"
   },
   {
    "duration": 5,
    "start_time": "2024-02-04T10:35:44.264Z"
   },
   {
    "duration": 123,
    "start_time": "2024-02-04T10:35:44.270Z"
   },
   {
    "duration": 246,
    "start_time": "2024-02-04T10:35:44.395Z"
   },
   {
    "duration": 30,
    "start_time": "2024-02-04T10:35:44.643Z"
   },
   {
    "duration": 180,
    "start_time": "2024-02-04T10:37:19.166Z"
   },
   {
    "duration": 208,
    "start_time": "2024-02-04T10:37:34.371Z"
   },
   {
    "duration": 113,
    "start_time": "2024-02-04T10:37:38.290Z"
   },
   {
    "duration": 246,
    "start_time": "2024-02-04T10:39:03.983Z"
   },
   {
    "duration": 8,
    "start_time": "2024-02-04T10:40:19.887Z"
   },
   {
    "duration": 8,
    "start_time": "2024-02-04T10:40:58.522Z"
   },
   {
    "duration": 8,
    "start_time": "2024-02-04T10:41:24.515Z"
   },
   {
    "duration": 104,
    "start_time": "2024-02-04T10:41:47.030Z"
   },
   {
    "duration": 207,
    "start_time": "2024-02-04T10:42:09.979Z"
   },
   {
    "duration": 1249,
    "start_time": "2024-02-04T10:42:36.112Z"
   },
   {
    "duration": 217,
    "start_time": "2024-02-04T10:42:51.133Z"
   },
   {
    "duration": 79,
    "start_time": "2024-02-04T10:44:06.515Z"
   },
   {
    "duration": 109,
    "start_time": "2024-02-04T10:44:11.133Z"
   },
   {
    "duration": 195,
    "start_time": "2024-02-04T10:44:41.061Z"
   },
   {
    "duration": 260,
    "start_time": "2024-02-04T10:45:10.546Z"
   },
   {
    "duration": 113,
    "start_time": "2024-02-04T10:48:25.577Z"
   },
   {
    "duration": 3,
    "start_time": "2024-02-04T10:48:55.554Z"
   },
   {
    "duration": 392,
    "start_time": "2024-02-04T10:49:05.162Z"
   },
   {
    "duration": 234,
    "start_time": "2024-02-04T10:49:05.556Z"
   },
   {
    "duration": 28,
    "start_time": "2024-02-04T10:49:05.791Z"
   },
   {
    "duration": 11,
    "start_time": "2024-02-04T10:49:05.821Z"
   },
   {
    "duration": 19,
    "start_time": "2024-02-04T10:49:05.834Z"
   },
   {
    "duration": 35,
    "start_time": "2024-02-04T10:49:05.855Z"
   },
   {
    "duration": 8,
    "start_time": "2024-02-04T10:49:05.891Z"
   },
   {
    "duration": 10,
    "start_time": "2024-02-04T10:49:05.900Z"
   },
   {
    "duration": 14,
    "start_time": "2024-02-04T10:49:05.911Z"
   },
   {
    "duration": 6,
    "start_time": "2024-02-04T10:49:05.927Z"
   },
   {
    "duration": 14,
    "start_time": "2024-02-04T10:49:05.934Z"
   },
   {
    "duration": 6,
    "start_time": "2024-02-04T10:49:05.950Z"
   },
   {
    "duration": 4,
    "start_time": "2024-02-04T10:49:05.957Z"
   },
   {
    "duration": 9,
    "start_time": "2024-02-04T10:49:05.964Z"
   },
   {
    "duration": 6,
    "start_time": "2024-02-04T10:49:05.974Z"
   },
   {
    "duration": 12,
    "start_time": "2024-02-04T10:49:05.981Z"
   },
   {
    "duration": 5,
    "start_time": "2024-02-04T10:49:05.994Z"
   },
   {
    "duration": 168,
    "start_time": "2024-02-04T10:49:06.000Z"
   },
   {
    "duration": 5,
    "start_time": "2024-02-04T10:49:06.170Z"
   },
   {
    "duration": 131,
    "start_time": "2024-02-04T10:49:06.177Z"
   },
   {
    "duration": 8,
    "start_time": "2024-02-04T10:49:06.310Z"
   },
   {
    "duration": 281,
    "start_time": "2024-02-04T10:49:06.320Z"
   },
   {
    "duration": 10,
    "start_time": "2024-02-04T10:49:06.603Z"
   },
   {
    "duration": 183,
    "start_time": "2024-02-04T10:49:06.614Z"
   },
   {
    "duration": 303,
    "start_time": "2024-02-04T10:49:06.799Z"
   },
   {
    "duration": 9,
    "start_time": "2024-02-04T10:49:07.103Z"
   },
   {
    "duration": 124,
    "start_time": "2024-02-04T10:49:07.113Z"
   },
   {
    "duration": 232,
    "start_time": "2024-02-04T10:49:07.241Z"
   },
   {
    "duration": 123,
    "start_time": "2024-02-04T10:49:07.475Z"
   },
   {
    "duration": 109,
    "start_time": "2024-02-04T10:49:16.263Z"
   },
   {
    "duration": 122,
    "start_time": "2024-02-04T10:49:25.735Z"
   },
   {
    "duration": 104,
    "start_time": "2024-02-04T10:49:34.649Z"
   },
   {
    "duration": 112,
    "start_time": "2024-02-04T10:49:46.600Z"
   },
   {
    "duration": 161,
    "start_time": "2024-02-04T10:50:06.088Z"
   },
   {
    "duration": 122,
    "start_time": "2024-02-04T10:50:37.003Z"
   },
   {
    "duration": 114,
    "start_time": "2024-02-04T10:50:51.455Z"
   },
   {
    "duration": 241,
    "start_time": "2024-02-04T10:51:00.071Z"
   },
   {
    "duration": 211,
    "start_time": "2024-02-04T10:51:07.161Z"
   },
   {
    "duration": 113,
    "start_time": "2024-02-04T10:51:10.027Z"
   },
   {
    "duration": 26,
    "start_time": "2024-02-04T11:02:27.155Z"
   },
   {
    "duration": 13,
    "start_time": "2024-02-04T11:04:13.799Z"
   },
   {
    "duration": 23,
    "start_time": "2024-02-04T11:04:20.458Z"
   },
   {
    "duration": 63,
    "start_time": "2024-02-04T11:04:51.827Z"
   },
   {
    "duration": 7,
    "start_time": "2024-02-04T11:05:08.138Z"
   },
   {
    "duration": 7,
    "start_time": "2024-02-04T11:06:25.662Z"
   },
   {
    "duration": 27,
    "start_time": "2024-02-04T11:06:46.566Z"
   },
   {
    "duration": 24,
    "start_time": "2024-02-04T11:07:02.800Z"
   },
   {
    "duration": 21,
    "start_time": "2024-02-04T11:07:24.532Z"
   },
   {
    "duration": 6,
    "start_time": "2024-02-04T11:07:41.577Z"
   },
   {
    "duration": 16,
    "start_time": "2024-02-04T11:07:51.150Z"
   },
   {
    "duration": 6,
    "start_time": "2024-02-04T11:08:55.971Z"
   },
   {
    "duration": 17,
    "start_time": "2024-02-04T11:08:57.511Z"
   },
   {
    "duration": 21,
    "start_time": "2024-02-04T11:13:36.123Z"
   },
   {
    "duration": 105,
    "start_time": "2024-02-04T11:14:33.290Z"
   },
   {
    "duration": 97,
    "start_time": "2024-02-04T11:14:40.988Z"
   },
   {
    "duration": 112,
    "start_time": "2024-02-04T11:14:59.145Z"
   },
   {
    "duration": 312,
    "start_time": "2024-02-04T11:16:09.456Z"
   },
   {
    "duration": 102,
    "start_time": "2024-02-04T11:16:34.747Z"
   },
   {
    "duration": 202,
    "start_time": "2024-02-04T11:17:04.747Z"
   },
   {
    "duration": 24,
    "start_time": "2024-02-04T11:40:01.292Z"
   },
   {
    "duration": 112,
    "start_time": "2024-02-04T11:48:40.219Z"
   },
   {
    "duration": 250,
    "start_time": "2024-02-04T11:48:43.736Z"
   },
   {
    "duration": 99,
    "start_time": "2024-02-04T11:48:47.631Z"
   },
   {
    "duration": 238,
    "start_time": "2024-02-04T11:49:07.889Z"
   },
   {
    "duration": 170,
    "start_time": "2024-02-04T11:49:50.785Z"
   },
   {
    "duration": 214,
    "start_time": "2024-02-04T11:50:40.053Z"
   },
   {
    "duration": 97,
    "start_time": "2024-02-04T11:51:26.590Z"
   },
   {
    "duration": 108,
    "start_time": "2024-02-04T11:51:36.454Z"
   },
   {
    "duration": 229,
    "start_time": "2024-02-04T11:51:49.852Z"
   },
   {
    "duration": 575,
    "start_time": "2024-02-04T12:27:09.236Z"
   },
   {
    "duration": 2,
    "start_time": "2024-02-04T12:32:06.878Z"
   },
   {
    "duration": 51,
    "start_time": "2024-02-04T12:32:08.944Z"
   },
   {
    "duration": 3,
    "start_time": "2024-02-04T12:32:40.388Z"
   },
   {
    "duration": 10,
    "start_time": "2024-02-04T12:32:42.937Z"
   },
   {
    "duration": 379,
    "start_time": "2024-02-04T12:33:06.576Z"
   },
   {
    "duration": 236,
    "start_time": "2024-02-04T12:33:06.956Z"
   },
   {
    "duration": 500,
    "start_time": "2024-02-04T12:33:07.193Z"
   },
   {
    "duration": 27,
    "start_time": "2024-02-04T12:33:07.695Z"
   },
   {
    "duration": 11,
    "start_time": "2024-02-04T12:33:07.723Z"
   },
   {
    "duration": 15,
    "start_time": "2024-02-04T12:33:07.736Z"
   },
   {
    "duration": 30,
    "start_time": "2024-02-04T12:33:07.753Z"
   },
   {
    "duration": 9,
    "start_time": "2024-02-04T12:33:07.784Z"
   },
   {
    "duration": 12,
    "start_time": "2024-02-04T12:33:07.794Z"
   },
   {
    "duration": 15,
    "start_time": "2024-02-04T12:33:07.810Z"
   },
   {
    "duration": 7,
    "start_time": "2024-02-04T12:33:07.826Z"
   },
   {
    "duration": 16,
    "start_time": "2024-02-04T12:33:07.834Z"
   },
   {
    "duration": 17,
    "start_time": "2024-02-04T12:33:07.851Z"
   },
   {
    "duration": 6,
    "start_time": "2024-02-04T12:33:07.869Z"
   },
   {
    "duration": 18,
    "start_time": "2024-02-04T12:33:07.876Z"
   },
   {
    "duration": 5,
    "start_time": "2024-02-04T12:33:07.896Z"
   },
   {
    "duration": 12,
    "start_time": "2024-02-04T12:33:07.903Z"
   },
   {
    "duration": 5,
    "start_time": "2024-02-04T12:33:07.917Z"
   },
   {
    "duration": 209,
    "start_time": "2024-02-04T12:33:07.923Z"
   },
   {
    "duration": 5,
    "start_time": "2024-02-04T12:33:08.134Z"
   },
   {
    "duration": 152,
    "start_time": "2024-02-04T12:33:08.141Z"
   },
   {
    "duration": 7,
    "start_time": "2024-02-04T12:33:08.295Z"
   },
   {
    "duration": 274,
    "start_time": "2024-02-04T12:33:08.304Z"
   },
   {
    "duration": 8,
    "start_time": "2024-02-04T12:33:08.579Z"
   },
   {
    "duration": 113,
    "start_time": "2024-02-04T12:33:08.588Z"
   },
   {
    "duration": 243,
    "start_time": "2024-02-04T12:33:08.702Z"
   },
   {
    "duration": 21,
    "start_time": "2024-02-04T12:33:08.946Z"
   },
   {
    "duration": 107,
    "start_time": "2024-02-04T12:33:08.970Z"
   },
   {
    "duration": 309,
    "start_time": "2024-02-04T12:33:09.078Z"
   },
   {
    "duration": 126,
    "start_time": "2024-02-04T12:33:09.389Z"
   },
   {
    "duration": 10,
    "start_time": "2024-02-04T12:33:09.516Z"
   },
   {
    "duration": 39,
    "start_time": "2024-02-04T12:33:09.527Z"
   },
   {
    "duration": 9,
    "start_time": "2024-02-04T12:33:09.568Z"
   },
   {
    "duration": 17,
    "start_time": "2024-02-04T12:33:09.578Z"
   },
   {
    "duration": 5,
    "start_time": "2024-02-04T12:33:09.597Z"
   },
   {
    "duration": 24,
    "start_time": "2024-02-04T12:33:09.604Z"
   },
   {
    "duration": 49,
    "start_time": "2024-02-04T12:33:09.630Z"
   },
   {
    "duration": 3,
    "start_time": "2024-02-04T12:33:09.681Z"
   },
   {
    "duration": 206,
    "start_time": "2024-02-04T12:33:09.685Z"
   },
   {
    "duration": 0,
    "start_time": "2024-02-04T12:33:09.893Z"
   },
   {
    "duration": 0,
    "start_time": "2024-02-04T12:33:09.894Z"
   },
   {
    "duration": 0,
    "start_time": "2024-02-04T12:33:09.895Z"
   },
   {
    "duration": 0,
    "start_time": "2024-02-04T12:33:09.896Z"
   },
   {
    "duration": 0,
    "start_time": "2024-02-04T12:33:09.897Z"
   },
   {
    "duration": 0,
    "start_time": "2024-02-04T12:33:09.898Z"
   },
   {
    "duration": 0,
    "start_time": "2024-02-04T12:33:09.899Z"
   },
   {
    "duration": 0,
    "start_time": "2024-02-04T12:33:09.900Z"
   },
   {
    "duration": 3,
    "start_time": "2024-02-04T12:33:26.044Z"
   },
   {
    "duration": 107,
    "start_time": "2024-02-04T12:33:41.698Z"
   },
   {
    "duration": 3,
    "start_time": "2024-02-04T12:34:04.533Z"
   },
   {
    "duration": 225,
    "start_time": "2024-02-04T12:34:08.690Z"
   },
   {
    "duration": 103,
    "start_time": "2024-02-04T12:37:08.047Z"
   },
   {
    "duration": 11,
    "start_time": "2024-02-04T12:37:42.334Z"
   },
   {
    "duration": 95,
    "start_time": "2024-02-04T12:38:40.812Z"
   },
   {
    "duration": 102,
    "start_time": "2024-02-04T12:38:51.770Z"
   },
   {
    "duration": 95,
    "start_time": "2024-02-04T12:39:01.201Z"
   },
   {
    "duration": 10,
    "start_time": "2024-02-04T12:39:30.830Z"
   },
   {
    "duration": 14,
    "start_time": "2024-02-04T12:39:54.367Z"
   },
   {
    "duration": 12,
    "start_time": "2024-02-04T12:40:03.124Z"
   },
   {
    "duration": 168,
    "start_time": "2024-02-04T12:40:08.171Z"
   },
   {
    "duration": 69,
    "start_time": "2024-02-04T12:40:49.696Z"
   },
   {
    "duration": 71,
    "start_time": "2024-02-04T12:41:09.340Z"
   },
   {
    "duration": 118,
    "start_time": "2024-02-04T12:41:23.038Z"
   },
   {
    "duration": 11,
    "start_time": "2024-02-04T12:41:36.991Z"
   },
   {
    "duration": 102,
    "start_time": "2024-02-04T12:42:12.315Z"
   },
   {
    "duration": 9,
    "start_time": "2024-02-04T12:44:36.746Z"
   },
   {
    "duration": 11,
    "start_time": "2024-02-04T12:44:51.135Z"
   },
   {
    "duration": 103,
    "start_time": "2024-02-04T12:46:13.320Z"
   },
   {
    "duration": 93,
    "start_time": "2024-02-04T12:46:19.355Z"
   },
   {
    "duration": 107,
    "start_time": "2024-02-04T12:46:41.902Z"
   },
   {
    "duration": 12,
    "start_time": "2024-02-04T12:47:19.852Z"
   },
   {
    "duration": 11,
    "start_time": "2024-02-04T12:47:29.773Z"
   },
   {
    "duration": 11,
    "start_time": "2024-02-04T12:47:37.133Z"
   },
   {
    "duration": 23,
    "start_time": "2024-02-04T12:47:57.972Z"
   },
   {
    "duration": 93,
    "start_time": "2024-02-04T12:48:25.820Z"
   },
   {
    "duration": 207,
    "start_time": "2024-02-04T12:48:45.261Z"
   },
   {
    "duration": 306,
    "start_time": "2024-02-04T12:49:01.171Z"
   },
   {
    "duration": 100,
    "start_time": "2024-02-04T12:49:41.550Z"
   },
   {
    "duration": 96,
    "start_time": "2024-02-04T12:49:53.903Z"
   },
   {
    "duration": 207,
    "start_time": "2024-02-04T12:50:23.330Z"
   },
   {
    "duration": 212,
    "start_time": "2024-02-04T12:50:25.208Z"
   },
   {
    "duration": 76,
    "start_time": "2024-02-05T08:05:23.818Z"
   },
   {
    "duration": 44,
    "start_time": "2024-02-05T08:08:51.102Z"
   },
   {
    "duration": 360,
    "start_time": "2024-02-05T08:09:32.304Z"
   },
   {
    "duration": 386,
    "start_time": "2024-02-05T08:09:32.666Z"
   },
   {
    "duration": 519,
    "start_time": "2024-02-05T08:09:33.057Z"
   },
   {
    "duration": 84,
    "start_time": "2024-02-05T08:09:33.578Z"
   },
   {
    "duration": 12,
    "start_time": "2024-02-05T08:09:33.664Z"
   },
   {
    "duration": 14,
    "start_time": "2024-02-05T08:09:33.677Z"
   },
   {
    "duration": 161,
    "start_time": "2024-02-05T08:09:33.692Z"
   },
   {
    "duration": 11,
    "start_time": "2024-02-05T08:09:33.855Z"
   },
   {
    "duration": 13,
    "start_time": "2024-02-05T08:09:33.869Z"
   },
   {
    "duration": 59,
    "start_time": "2024-02-05T08:09:33.884Z"
   },
   {
    "duration": 6,
    "start_time": "2024-02-05T08:09:33.945Z"
   },
   {
    "duration": 23,
    "start_time": "2024-02-05T08:09:33.953Z"
   },
   {
    "duration": 9,
    "start_time": "2024-02-05T08:09:33.977Z"
   },
   {
    "duration": 6,
    "start_time": "2024-02-05T08:09:33.987Z"
   },
   {
    "duration": 9,
    "start_time": "2024-02-05T08:09:33.995Z"
   },
   {
    "duration": 5,
    "start_time": "2024-02-05T08:09:34.006Z"
   },
   {
    "duration": 13,
    "start_time": "2024-02-05T08:09:34.012Z"
   },
   {
    "duration": 32,
    "start_time": "2024-02-05T08:09:34.027Z"
   },
   {
    "duration": 169,
    "start_time": "2024-02-05T08:09:34.061Z"
   },
   {
    "duration": 5,
    "start_time": "2024-02-05T08:09:34.231Z"
   },
   {
    "duration": 138,
    "start_time": "2024-02-05T08:09:34.237Z"
   },
   {
    "duration": 7,
    "start_time": "2024-02-05T08:09:34.377Z"
   },
   {
    "duration": 121,
    "start_time": "2024-02-05T08:09:34.386Z"
   },
   {
    "duration": 254,
    "start_time": "2024-02-05T08:09:34.509Z"
   },
   {
    "duration": 8,
    "start_time": "2024-02-05T08:09:34.764Z"
   },
   {
    "duration": 111,
    "start_time": "2024-02-05T08:09:34.774Z"
   },
   {
    "duration": 240,
    "start_time": "2024-02-05T08:09:34.888Z"
   },
   {
    "duration": 7,
    "start_time": "2024-02-05T08:09:35.130Z"
   },
   {
    "duration": 174,
    "start_time": "2024-02-05T08:09:35.139Z"
   },
   {
    "duration": 233,
    "start_time": "2024-02-05T08:09:35.315Z"
   },
   {
    "duration": 112,
    "start_time": "2024-02-05T08:09:35.549Z"
   },
   {
    "duration": 8,
    "start_time": "2024-02-05T08:09:35.662Z"
   },
   {
    "duration": 23,
    "start_time": "2024-02-05T08:09:35.672Z"
   },
   {
    "duration": 21,
    "start_time": "2024-02-05T08:09:35.696Z"
   },
   {
    "duration": 21,
    "start_time": "2024-02-05T08:09:35.718Z"
   },
   {
    "duration": 17,
    "start_time": "2024-02-05T08:09:35.741Z"
   },
   {
    "duration": 38,
    "start_time": "2024-02-05T08:09:35.759Z"
   },
   {
    "duration": 43,
    "start_time": "2024-02-05T08:09:35.798Z"
   },
   {
    "duration": 26,
    "start_time": "2024-02-05T08:09:35.842Z"
   },
   {
    "duration": 102,
    "start_time": "2024-02-05T08:09:35.869Z"
   },
   {
    "duration": 107,
    "start_time": "2024-02-05T08:09:35.973Z"
   },
   {
    "duration": 227,
    "start_time": "2024-02-05T08:09:36.082Z"
   },
   {
    "duration": 216,
    "start_time": "2024-02-05T08:09:36.310Z"
   },
   {
    "duration": 116,
    "start_time": "2024-02-05T08:09:36.528Z"
   },
   {
    "duration": 207,
    "start_time": "2024-02-05T08:09:36.646Z"
   },
   {
    "duration": 220,
    "start_time": "2024-02-05T08:09:36.859Z"
   },
   {
    "duration": 233,
    "start_time": "2024-02-05T08:09:37.081Z"
   },
   {
    "duration": 7,
    "start_time": "2024-02-05T08:49:23.926Z"
   },
   {
    "duration": 392,
    "start_time": "2024-02-05T08:54:34.483Z"
   },
   {
    "duration": 219,
    "start_time": "2024-02-05T08:54:34.877Z"
   },
   {
    "duration": 511,
    "start_time": "2024-02-05T08:54:35.098Z"
   },
   {
    "duration": 28,
    "start_time": "2024-02-05T08:54:35.612Z"
   },
   {
    "duration": 11,
    "start_time": "2024-02-05T08:54:35.641Z"
   },
   {
    "duration": 15,
    "start_time": "2024-02-05T08:54:35.653Z"
   },
   {
    "duration": 50,
    "start_time": "2024-02-05T08:54:35.670Z"
   },
   {
    "duration": 9,
    "start_time": "2024-02-05T08:54:35.721Z"
   },
   {
    "duration": 33,
    "start_time": "2024-02-05T08:54:35.732Z"
   },
   {
    "duration": 21,
    "start_time": "2024-02-05T08:54:35.768Z"
   },
   {
    "duration": 32,
    "start_time": "2024-02-05T08:54:35.790Z"
   },
   {
    "duration": 34,
    "start_time": "2024-02-05T08:54:35.823Z"
   },
   {
    "duration": 35,
    "start_time": "2024-02-05T08:54:35.859Z"
   },
   {
    "duration": 18,
    "start_time": "2024-02-05T08:54:35.896Z"
   },
   {
    "duration": 15,
    "start_time": "2024-02-05T08:54:35.915Z"
   },
   {
    "duration": 26,
    "start_time": "2024-02-05T08:54:35.932Z"
   },
   {
    "duration": 33,
    "start_time": "2024-02-05T08:54:35.959Z"
   },
   {
    "duration": 9,
    "start_time": "2024-02-05T08:54:35.993Z"
   },
   {
    "duration": 38,
    "start_time": "2024-02-05T08:54:36.003Z"
   },
   {
    "duration": 169,
    "start_time": "2024-02-05T08:54:36.042Z"
   },
   {
    "duration": 5,
    "start_time": "2024-02-05T08:54:36.213Z"
   },
   {
    "duration": 143,
    "start_time": "2024-02-05T08:54:36.220Z"
   },
   {
    "duration": 7,
    "start_time": "2024-02-05T08:54:36.364Z"
   },
   {
    "duration": 103,
    "start_time": "2024-02-05T08:54:36.373Z"
   },
   {
    "duration": 259,
    "start_time": "2024-02-05T08:54:36.477Z"
   },
   {
    "duration": 8,
    "start_time": "2024-02-05T08:54:36.737Z"
   },
   {
    "duration": 106,
    "start_time": "2024-02-05T08:54:36.746Z"
   },
   {
    "duration": 254,
    "start_time": "2024-02-05T08:54:36.856Z"
   },
   {
    "duration": 8,
    "start_time": "2024-02-05T08:54:37.111Z"
   },
   {
    "duration": 175,
    "start_time": "2024-02-05T08:54:37.120Z"
   },
   {
    "duration": 214,
    "start_time": "2024-02-05T08:54:37.297Z"
   },
   {
    "duration": 118,
    "start_time": "2024-02-05T08:54:37.512Z"
   },
   {
    "duration": 9,
    "start_time": "2024-02-05T08:54:37.632Z"
   },
   {
    "duration": 21,
    "start_time": "2024-02-05T08:54:37.643Z"
   },
   {
    "duration": 6,
    "start_time": "2024-02-05T08:54:37.665Z"
   },
   {
    "duration": 11,
    "start_time": "2024-02-05T08:54:37.672Z"
   },
   {
    "duration": 5,
    "start_time": "2024-02-05T08:54:37.685Z"
   },
   {
    "duration": 11,
    "start_time": "2024-02-05T08:54:37.692Z"
   },
   {
    "duration": 22,
    "start_time": "2024-02-05T08:54:37.704Z"
   },
   {
    "duration": 49,
    "start_time": "2024-02-05T08:54:37.727Z"
   },
   {
    "duration": 108,
    "start_time": "2024-02-05T08:54:37.778Z"
   },
   {
    "duration": 94,
    "start_time": "2024-02-05T08:54:37.887Z"
   },
   {
    "duration": 231,
    "start_time": "2024-02-05T08:54:37.983Z"
   },
   {
    "duration": 227,
    "start_time": "2024-02-05T08:54:38.216Z"
   },
   {
    "duration": 100,
    "start_time": "2024-02-05T08:54:38.444Z"
   },
   {
    "duration": 185,
    "start_time": "2024-02-05T08:54:38.546Z"
   },
   {
    "duration": 212,
    "start_time": "2024-02-05T08:54:38.733Z"
   },
   {
    "duration": 226,
    "start_time": "2024-02-05T08:54:38.947Z"
   },
   {
    "duration": 20,
    "start_time": "2024-02-05T09:57:08.321Z"
   },
   {
    "duration": 21,
    "start_time": "2024-02-05T11:12:08.874Z"
   },
   {
    "duration": 17,
    "start_time": "2024-02-05T11:12:27.219Z"
   },
   {
    "duration": 13,
    "start_time": "2024-02-05T11:12:40.106Z"
   },
   {
    "duration": 17,
    "start_time": "2024-02-05T11:12:53.017Z"
   },
   {
    "duration": 15,
    "start_time": "2024-02-05T11:13:03.827Z"
   },
   {
    "duration": 19,
    "start_time": "2024-02-05T11:13:08.034Z"
   },
   {
    "duration": 16,
    "start_time": "2024-02-05T11:13:30.182Z"
   },
   {
    "duration": 14,
    "start_time": "2024-02-05T11:13:39.900Z"
   },
   {
    "duration": 23,
    "start_time": "2024-02-05T11:31:41.643Z"
   },
   {
    "duration": 5,
    "start_time": "2024-02-05T11:33:28.951Z"
   },
   {
    "duration": 15,
    "start_time": "2024-02-05T11:41:41.254Z"
   },
   {
    "duration": 13,
    "start_time": "2024-02-05T11:42:05.287Z"
   },
   {
    "duration": 13,
    "start_time": "2024-02-05T11:42:18.865Z"
   },
   {
    "duration": 15,
    "start_time": "2024-02-05T11:42:30.596Z"
   },
   {
    "duration": 14,
    "start_time": "2024-02-05T11:43:19.770Z"
   },
   {
    "duration": 14,
    "start_time": "2024-02-05T11:43:35.409Z"
   },
   {
    "duration": 9,
    "start_time": "2024-02-05T11:45:36.307Z"
   },
   {
    "duration": 6,
    "start_time": "2024-02-05T11:51:16.718Z"
   },
   {
    "duration": 6,
    "start_time": "2024-02-05T11:51:56.948Z"
   },
   {
    "duration": 5,
    "start_time": "2024-02-05T11:52:18.388Z"
   },
   {
    "duration": 5,
    "start_time": "2024-02-05T11:56:03.946Z"
   },
   {
    "duration": 179,
    "start_time": "2024-02-05T12:07:43.580Z"
   },
   {
    "duration": 356,
    "start_time": "2024-02-05T12:07:48.008Z"
   },
   {
    "duration": 678,
    "start_time": "2024-02-05T12:10:08.067Z"
   },
   {
    "duration": 196,
    "start_time": "2024-02-05T12:10:38.452Z"
   },
   {
    "duration": 17,
    "start_time": "2024-02-05T12:10:47.427Z"
   },
   {
    "duration": 14,
    "start_time": "2024-02-05T12:12:26.181Z"
   },
   {
    "duration": 405,
    "start_time": "2024-02-05T12:36:12.457Z"
   },
   {
    "duration": 237,
    "start_time": "2024-02-05T12:36:12.863Z"
   },
   {
    "duration": 542,
    "start_time": "2024-02-05T12:36:13.101Z"
   },
   {
    "duration": 28,
    "start_time": "2024-02-05T12:36:13.645Z"
   },
   {
    "duration": 11,
    "start_time": "2024-02-05T12:36:13.674Z"
   },
   {
    "duration": 9,
    "start_time": "2024-02-05T12:36:13.687Z"
   },
   {
    "duration": 31,
    "start_time": "2024-02-05T12:36:13.698Z"
   },
   {
    "duration": 46,
    "start_time": "2024-02-05T12:36:13.730Z"
   },
   {
    "duration": 12,
    "start_time": "2024-02-05T12:36:13.777Z"
   },
   {
    "duration": 14,
    "start_time": "2024-02-05T12:36:13.791Z"
   },
   {
    "duration": 7,
    "start_time": "2024-02-05T12:36:13.806Z"
   },
   {
    "duration": 16,
    "start_time": "2024-02-05T12:36:13.814Z"
   },
   {
    "duration": 9,
    "start_time": "2024-02-05T12:36:13.831Z"
   },
   {
    "duration": 4,
    "start_time": "2024-02-05T12:36:13.842Z"
   },
   {
    "duration": 18,
    "start_time": "2024-02-05T12:36:13.847Z"
   },
   {
    "duration": 6,
    "start_time": "2024-02-05T12:36:13.866Z"
   },
   {
    "duration": 14,
    "start_time": "2024-02-05T12:36:13.873Z"
   },
   {
    "duration": 25,
    "start_time": "2024-02-05T12:36:13.888Z"
   },
   {
    "duration": 18,
    "start_time": "2024-02-05T12:36:13.915Z"
   },
   {
    "duration": 167,
    "start_time": "2024-02-05T12:36:13.935Z"
   },
   {
    "duration": 5,
    "start_time": "2024-02-05T12:36:14.104Z"
   },
   {
    "duration": 132,
    "start_time": "2024-02-05T12:36:14.110Z"
   },
   {
    "duration": 15,
    "start_time": "2024-02-05T12:36:14.244Z"
   },
   {
    "duration": 97,
    "start_time": "2024-02-05T12:36:14.261Z"
   },
   {
    "duration": 270,
    "start_time": "2024-02-05T12:36:14.360Z"
   },
   {
    "duration": 8,
    "start_time": "2024-02-05T12:36:14.631Z"
   },
   {
    "duration": 119,
    "start_time": "2024-02-05T12:36:14.641Z"
   },
   {
    "duration": 259,
    "start_time": "2024-02-05T12:36:14.764Z"
   },
   {
    "duration": 10,
    "start_time": "2024-02-05T12:36:15.025Z"
   },
   {
    "duration": 193,
    "start_time": "2024-02-05T12:36:15.037Z"
   },
   {
    "duration": 241,
    "start_time": "2024-02-05T12:36:15.232Z"
   },
   {
    "duration": 130,
    "start_time": "2024-02-05T12:36:15.474Z"
   },
   {
    "duration": 9,
    "start_time": "2024-02-05T12:36:15.606Z"
   },
   {
    "duration": 24,
    "start_time": "2024-02-05T12:36:15.616Z"
   },
   {
    "duration": 30,
    "start_time": "2024-02-05T12:36:15.642Z"
   },
   {
    "duration": 46,
    "start_time": "2024-02-05T12:36:15.674Z"
   },
   {
    "duration": 22,
    "start_time": "2024-02-05T12:36:15.722Z"
   },
   {
    "duration": 5,
    "start_time": "2024-02-05T12:36:15.745Z"
   },
   {
    "duration": 25,
    "start_time": "2024-02-05T12:36:15.752Z"
   },
   {
    "duration": 21,
    "start_time": "2024-02-05T12:36:15.778Z"
   },
   {
    "duration": 20,
    "start_time": "2024-02-05T12:36:15.801Z"
   },
   {
    "duration": 120,
    "start_time": "2024-02-05T12:36:15.823Z"
   },
   {
    "duration": 116,
    "start_time": "2024-02-05T12:36:15.944Z"
   },
   {
    "duration": 242,
    "start_time": "2024-02-05T12:36:16.062Z"
   },
   {
    "duration": 230,
    "start_time": "2024-02-05T12:36:16.306Z"
   },
   {
    "duration": 108,
    "start_time": "2024-02-05T12:36:16.537Z"
   },
   {
    "duration": 193,
    "start_time": "2024-02-05T12:36:16.646Z"
   },
   {
    "duration": 239,
    "start_time": "2024-02-05T12:36:16.841Z"
   },
   {
    "duration": 221,
    "start_time": "2024-02-05T12:36:17.082Z"
   },
   {
    "duration": 5,
    "start_time": "2024-02-05T12:36:17.305Z"
   },
   {
    "duration": 33,
    "start_time": "2024-02-05T12:36:17.311Z"
   },
   {
    "duration": 21,
    "start_time": "2024-02-05T12:36:17.346Z"
   },
   {
    "duration": 18,
    "start_time": "2024-02-05T12:36:17.369Z"
   },
   {
    "duration": 37,
    "start_time": "2024-02-05T12:36:17.388Z"
   },
   {
    "duration": 36,
    "start_time": "2024-02-05T12:36:17.426Z"
   },
   {
    "duration": 25,
    "start_time": "2024-02-05T12:36:17.463Z"
   },
   {
    "duration": 209,
    "start_time": "2024-02-05T12:36:17.489Z"
   },
   {
    "duration": 100,
    "start_time": "2024-02-05T12:36:17.699Z"
   },
   {
    "duration": 3,
    "start_time": "2024-02-05T12:38:28.838Z"
   },
   {
    "duration": 4,
    "start_time": "2024-02-05T12:38:40.576Z"
   },
   {
    "duration": 3,
    "start_time": "2024-02-05T12:39:35.122Z"
   },
   {
    "duration": 3,
    "start_time": "2024-02-05T12:41:01.475Z"
   },
   {
    "duration": 4,
    "start_time": "2024-02-05T12:41:03.679Z"
   },
   {
    "duration": 4,
    "start_time": "2024-02-05T12:41:57.603Z"
   },
   {
    "duration": 5,
    "start_time": "2024-02-05T12:41:58.709Z"
   },
   {
    "duration": 11,
    "start_time": "2024-02-05T12:43:26.894Z"
   },
   {
    "duration": 10,
    "start_time": "2024-02-05T12:44:04.791Z"
   },
   {
    "duration": 18,
    "start_time": "2024-02-05T12:45:02.515Z"
   },
   {
    "duration": 12,
    "start_time": "2024-02-05T12:45:08.184Z"
   },
   {
    "duration": 11,
    "start_time": "2024-02-05T12:45:10.361Z"
   },
   {
    "duration": 13,
    "start_time": "2024-02-05T12:49:35.222Z"
   },
   {
    "duration": 12,
    "start_time": "2024-02-05T12:49:37.415Z"
   },
   {
    "duration": 19,
    "start_time": "2024-02-05T12:52:03.413Z"
   },
   {
    "duration": 21,
    "start_time": "2024-02-05T12:52:35.731Z"
   },
   {
    "duration": 15,
    "start_time": "2024-02-05T12:53:57.458Z"
   },
   {
    "duration": 13,
    "start_time": "2024-02-05T12:54:02.189Z"
   },
   {
    "duration": 12,
    "start_time": "2024-02-05T12:54:04.316Z"
   },
   {
    "duration": 4,
    "start_time": "2024-02-05T13:12:38.133Z"
   },
   {
    "duration": 4,
    "start_time": "2024-02-05T13:12:40.276Z"
   },
   {
    "duration": 10,
    "start_time": "2024-02-05T13:13:04.054Z"
   },
   {
    "duration": 14,
    "start_time": "2024-02-05T13:13:05.742Z"
   },
   {
    "duration": 1009,
    "start_time": "2024-02-05T13:14:05.272Z"
   },
   {
    "duration": 904,
    "start_time": "2024-02-05T13:14:34.713Z"
   },
   {
    "duration": 15,
    "start_time": "2024-02-05T13:14:36.015Z"
   },
   {
    "duration": 981,
    "start_time": "2024-02-05T13:14:46.240Z"
   },
   {
    "duration": 9,
    "start_time": "2024-02-05T13:14:52.314Z"
   },
   {
    "duration": 265,
    "start_time": "2024-02-05T13:15:54.930Z"
   },
   {
    "duration": 9,
    "start_time": "2024-02-05T13:16:06.642Z"
   },
   {
    "duration": 11,
    "start_time": "2024-02-05T13:17:47.262Z"
   },
   {
    "duration": 848,
    "start_time": "2024-02-05T13:20:35.018Z"
   },
   {
    "duration": 15,
    "start_time": "2024-02-05T13:20:37.472Z"
   },
   {
    "duration": 14,
    "start_time": "2024-02-05T13:23:03.575Z"
   },
   {
    "duration": 413,
    "start_time": "2024-02-05T13:25:02.750Z"
   },
   {
    "duration": 233,
    "start_time": "2024-02-05T13:25:03.165Z"
   },
   {
    "duration": 491,
    "start_time": "2024-02-05T13:25:03.399Z"
   },
   {
    "duration": 2,
    "start_time": "2024-02-05T13:25:03.893Z"
   },
   {
    "duration": 48,
    "start_time": "2024-02-05T13:25:03.896Z"
   },
   {
    "duration": 12,
    "start_time": "2024-02-05T13:25:03.946Z"
   },
   {
    "duration": 16,
    "start_time": "2024-02-05T13:25:03.959Z"
   },
   {
    "duration": 31,
    "start_time": "2024-02-05T13:25:03.977Z"
   },
   {
    "duration": 29,
    "start_time": "2024-02-05T13:25:04.010Z"
   },
   {
    "duration": 21,
    "start_time": "2024-02-05T13:25:04.041Z"
   },
   {
    "duration": 15,
    "start_time": "2024-02-05T13:25:04.063Z"
   },
   {
    "duration": 8,
    "start_time": "2024-02-05T13:25:04.080Z"
   },
   {
    "duration": 16,
    "start_time": "2024-02-05T13:25:04.090Z"
   },
   {
    "duration": 8,
    "start_time": "2024-02-05T13:25:04.108Z"
   },
   {
    "duration": 4,
    "start_time": "2024-02-05T13:25:04.118Z"
   },
   {
    "duration": 9,
    "start_time": "2024-02-05T13:25:04.124Z"
   },
   {
    "duration": 24,
    "start_time": "2024-02-05T13:25:04.135Z"
   },
   {
    "duration": 14,
    "start_time": "2024-02-05T13:25:04.160Z"
   },
   {
    "duration": 5,
    "start_time": "2024-02-05T13:25:04.175Z"
   },
   {
    "duration": 10,
    "start_time": "2024-02-05T13:25:04.182Z"
   },
   {
    "duration": 178,
    "start_time": "2024-02-05T13:25:04.194Z"
   },
   {
    "duration": 7,
    "start_time": "2024-02-05T13:25:04.374Z"
   },
   {
    "duration": 142,
    "start_time": "2024-02-05T13:25:04.382Z"
   },
   {
    "duration": 8,
    "start_time": "2024-02-05T13:25:04.526Z"
   },
   {
    "duration": 100,
    "start_time": "2024-02-05T13:25:04.535Z"
   },
   {
    "duration": 252,
    "start_time": "2024-02-05T13:25:04.636Z"
   },
   {
    "duration": 8,
    "start_time": "2024-02-05T13:25:04.890Z"
   },
   {
    "duration": 117,
    "start_time": "2024-02-05T13:25:04.902Z"
   },
   {
    "duration": 235,
    "start_time": "2024-02-05T13:25:05.021Z"
   },
   {
    "duration": 9,
    "start_time": "2024-02-05T13:25:05.258Z"
   },
   {
    "duration": 183,
    "start_time": "2024-02-05T13:25:05.269Z"
   },
   {
    "duration": 247,
    "start_time": "2024-02-05T13:25:05.458Z"
   },
   {
    "duration": 112,
    "start_time": "2024-02-05T13:25:05.706Z"
   },
   {
    "duration": 8,
    "start_time": "2024-02-05T13:25:05.820Z"
   },
   {
    "duration": 29,
    "start_time": "2024-02-05T13:25:05.830Z"
   },
   {
    "duration": 15,
    "start_time": "2024-02-05T13:25:05.861Z"
   },
   {
    "duration": 7,
    "start_time": "2024-02-05T13:25:05.877Z"
   },
   {
    "duration": 12,
    "start_time": "2024-02-05T13:25:05.886Z"
   },
   {
    "duration": 5,
    "start_time": "2024-02-05T13:25:05.900Z"
   },
   {
    "duration": 21,
    "start_time": "2024-02-05T13:25:05.907Z"
   },
   {
    "duration": 47,
    "start_time": "2024-02-05T13:25:05.929Z"
   },
   {
    "duration": 22,
    "start_time": "2024-02-05T13:25:05.977Z"
   },
   {
    "duration": 119,
    "start_time": "2024-02-05T13:25:06.000Z"
   },
   {
    "duration": 111,
    "start_time": "2024-02-05T13:25:06.120Z"
   },
   {
    "duration": 222,
    "start_time": "2024-02-05T13:25:06.233Z"
   },
   {
    "duration": 216,
    "start_time": "2024-02-05T13:25:06.459Z"
   },
   {
    "duration": 106,
    "start_time": "2024-02-05T13:25:06.677Z"
   },
   {
    "duration": 183,
    "start_time": "2024-02-05T13:25:06.785Z"
   },
   {
    "duration": 220,
    "start_time": "2024-02-05T13:25:06.970Z"
   },
   {
    "duration": 238,
    "start_time": "2024-02-05T13:25:07.192Z"
   },
   {
    "duration": 6,
    "start_time": "2024-02-05T13:25:07.432Z"
   },
   {
    "duration": 31,
    "start_time": "2024-02-05T13:25:07.439Z"
   },
   {
    "duration": 22,
    "start_time": "2024-02-05T13:25:07.472Z"
   },
   {
    "duration": 4,
    "start_time": "2024-02-05T13:25:07.496Z"
   },
   {
    "duration": 21,
    "start_time": "2024-02-05T13:25:07.502Z"
   },
   {
    "duration": 5,
    "start_time": "2024-02-05T13:25:07.524Z"
   },
   {
    "duration": 6,
    "start_time": "2024-02-05T13:25:07.558Z"
   },
   {
    "duration": 203,
    "start_time": "2024-02-05T13:25:07.566Z"
   },
   {
    "duration": 768,
    "start_time": "2024-02-05T13:25:07.771Z"
   },
   {
    "duration": 22,
    "start_time": "2024-02-05T13:25:08.541Z"
   },
   {
    "duration": 4,
    "start_time": "2024-02-05T13:27:29.965Z"
   },
   {
    "duration": 815,
    "start_time": "2024-02-05T13:27:32.877Z"
   },
   {
    "duration": 15,
    "start_time": "2024-02-05T13:27:35.099Z"
   },
   {
    "duration": 5,
    "start_time": "2024-02-05T13:39:35.556Z"
   },
   {
    "duration": 892,
    "start_time": "2024-02-05T13:40:38.094Z"
   },
   {
    "duration": 3,
    "start_time": "2024-02-05T13:41:08.023Z"
   },
   {
    "duration": 818,
    "start_time": "2024-02-05T13:41:09.519Z"
   },
   {
    "duration": 4,
    "start_time": "2024-02-05T13:41:32.383Z"
   },
   {
    "duration": 640,
    "start_time": "2024-02-05T13:41:34.363Z"
   },
   {
    "duration": 78,
    "start_time": "2024-02-05T13:41:58.569Z"
   },
   {
    "duration": 70,
    "start_time": "2024-02-05T13:42:02.545Z"
   },
   {
    "duration": 17,
    "start_time": "2024-02-05T13:43:30.697Z"
   },
   {
    "duration": 3,
    "start_time": "2024-02-05T13:43:41.659Z"
   },
   {
    "duration": 828,
    "start_time": "2024-02-05T13:43:43.466Z"
   },
   {
    "duration": 839,
    "start_time": "2024-02-05T13:43:54.236Z"
   },
   {
    "duration": 3,
    "start_time": "2024-02-05T13:52:34.895Z"
   },
   {
    "duration": 1032,
    "start_time": "2024-02-05T13:52:37.142Z"
   },
   {
    "duration": 978,
    "start_time": "2024-02-05T13:54:07.216Z"
   },
   {
    "duration": 3,
    "start_time": "2024-02-05T13:54:25.889Z"
   },
   {
    "duration": 3,
    "start_time": "2024-02-05T13:58:06.852Z"
   },
   {
    "duration": 3,
    "start_time": "2024-02-05T13:58:10.356Z"
   },
   {
    "duration": 127,
    "start_time": "2024-02-05T13:58:11.957Z"
   },
   {
    "duration": 16,
    "start_time": "2024-02-05T13:58:28.982Z"
   },
   {
    "duration": 13,
    "start_time": "2024-02-05T13:59:32.295Z"
   },
   {
    "duration": 11,
    "start_time": "2024-02-05T13:59:46.502Z"
   },
   {
    "duration": 8,
    "start_time": "2024-02-05T14:06:16.105Z"
   },
   {
    "duration": 7,
    "start_time": "2024-02-05T14:06:25.566Z"
   },
   {
    "duration": 8,
    "start_time": "2024-02-05T14:06:31.975Z"
   },
   {
    "duration": 7,
    "start_time": "2024-02-05T14:06:43.240Z"
   },
   {
    "duration": 7,
    "start_time": "2024-02-05T14:06:51.497Z"
   },
   {
    "duration": 13,
    "start_time": "2024-02-05T14:08:08.402Z"
   },
   {
    "duration": 7,
    "start_time": "2024-02-05T14:08:15.362Z"
   },
   {
    "duration": 10,
    "start_time": "2024-02-05T14:13:06.408Z"
   },
   {
    "duration": 7,
    "start_time": "2024-02-05T14:15:39.211Z"
   },
   {
    "duration": 9,
    "start_time": "2024-02-05T14:20:00.617Z"
   },
   {
    "duration": 7,
    "start_time": "2024-02-05T14:20:23.690Z"
   },
   {
    "duration": 8,
    "start_time": "2024-02-05T14:20:29.290Z"
   },
   {
    "duration": 3,
    "start_time": "2024-02-05T14:21:34.011Z"
   },
   {
    "duration": 646,
    "start_time": "2024-02-05T14:22:19.699Z"
   },
   {
    "duration": 196,
    "start_time": "2024-02-05T14:22:20.347Z"
   },
   {
    "duration": 189,
    "start_time": "2024-02-05T14:22:20.545Z"
   },
   {
    "duration": 103,
    "start_time": "2024-02-05T14:22:20.736Z"
   },
   {
    "duration": 3,
    "start_time": "2024-02-05T14:22:20.840Z"
   },
   {
    "duration": 58,
    "start_time": "2024-02-05T14:22:20.844Z"
   },
   {
    "duration": 16,
    "start_time": "2024-02-05T14:22:20.903Z"
   },
   {
    "duration": 37,
    "start_time": "2024-02-05T14:22:20.921Z"
   },
   {
    "duration": 45,
    "start_time": "2024-02-05T14:22:20.960Z"
   },
   {
    "duration": 12,
    "start_time": "2024-02-05T14:22:21.008Z"
   },
   {
    "duration": 36,
    "start_time": "2024-02-05T14:22:21.022Z"
   },
   {
    "duration": 56,
    "start_time": "2024-02-05T14:22:21.059Z"
   },
   {
    "duration": 43,
    "start_time": "2024-02-05T14:22:21.117Z"
   },
   {
    "duration": 42,
    "start_time": "2024-02-05T14:22:21.162Z"
   },
   {
    "duration": 50,
    "start_time": "2024-02-05T14:22:21.206Z"
   },
   {
    "duration": 22,
    "start_time": "2024-02-05T14:22:21.258Z"
   },
   {
    "duration": 25,
    "start_time": "2024-02-05T14:22:21.281Z"
   },
   {
    "duration": 24,
    "start_time": "2024-02-05T14:22:21.307Z"
   },
   {
    "duration": 39,
    "start_time": "2024-02-05T14:22:21.332Z"
   },
   {
    "duration": 29,
    "start_time": "2024-02-05T14:22:21.372Z"
   },
   {
    "duration": 22,
    "start_time": "2024-02-05T14:22:21.402Z"
   },
   {
    "duration": 199,
    "start_time": "2024-02-05T14:22:21.425Z"
   },
   {
    "duration": 5,
    "start_time": "2024-02-05T14:22:21.626Z"
   },
   {
    "duration": 155,
    "start_time": "2024-02-05T14:22:21.633Z"
   },
   {
    "duration": 7,
    "start_time": "2024-02-05T14:22:21.789Z"
   },
   {
    "duration": 115,
    "start_time": "2024-02-05T14:22:21.798Z"
   },
   {
    "duration": 277,
    "start_time": "2024-02-05T14:22:21.915Z"
   },
   {
    "duration": 8,
    "start_time": "2024-02-05T14:22:22.195Z"
   },
   {
    "duration": 125,
    "start_time": "2024-02-05T14:22:22.204Z"
   },
   {
    "duration": 235,
    "start_time": "2024-02-05T14:22:22.330Z"
   },
   {
    "duration": 8,
    "start_time": "2024-02-05T14:22:22.566Z"
   },
   {
    "duration": 123,
    "start_time": "2024-02-05T14:22:22.575Z"
   },
   {
    "duration": 283,
    "start_time": "2024-02-05T14:22:22.700Z"
   },
   {
    "duration": 115,
    "start_time": "2024-02-05T14:22:22.985Z"
   },
   {
    "duration": 10,
    "start_time": "2024-02-05T14:22:23.101Z"
   },
   {
    "duration": 13,
    "start_time": "2024-02-05T14:22:23.112Z"
   },
   {
    "duration": 43,
    "start_time": "2024-02-05T14:22:23.127Z"
   },
   {
    "duration": 17,
    "start_time": "2024-02-05T14:22:23.171Z"
   },
   {
    "duration": 14,
    "start_time": "2024-02-05T14:22:23.190Z"
   },
   {
    "duration": 6,
    "start_time": "2024-02-05T14:22:23.205Z"
   },
   {
    "duration": 31,
    "start_time": "2024-02-05T14:22:23.212Z"
   },
   {
    "duration": 27,
    "start_time": "2024-02-05T14:22:23.244Z"
   },
   {
    "duration": 19,
    "start_time": "2024-02-05T14:22:23.272Z"
   },
   {
    "duration": 100,
    "start_time": "2024-02-05T14:22:23.293Z"
   },
   {
    "duration": 107,
    "start_time": "2024-02-05T14:22:23.394Z"
   },
   {
    "duration": 257,
    "start_time": "2024-02-05T14:22:23.503Z"
   },
   {
    "duration": 228,
    "start_time": "2024-02-05T14:22:23.762Z"
   },
   {
    "duration": 110,
    "start_time": "2024-02-05T14:22:23.992Z"
   },
   {
    "duration": 112,
    "start_time": "2024-02-05T14:22:24.104Z"
   },
   {
    "duration": 304,
    "start_time": "2024-02-05T14:22:24.218Z"
   },
   {
    "duration": 245,
    "start_time": "2024-02-05T14:22:24.524Z"
   },
   {
    "duration": 6,
    "start_time": "2024-02-05T14:22:24.771Z"
   },
   {
    "duration": 28,
    "start_time": "2024-02-05T14:22:24.779Z"
   },
   {
    "duration": 20,
    "start_time": "2024-02-05T14:22:24.809Z"
   },
   {
    "duration": 29,
    "start_time": "2024-02-05T14:22:24.831Z"
   },
   {
    "duration": 17,
    "start_time": "2024-02-05T14:22:24.862Z"
   },
   {
    "duration": 17,
    "start_time": "2024-02-05T14:22:24.881Z"
   },
   {
    "duration": 9,
    "start_time": "2024-02-05T14:22:24.899Z"
   },
   {
    "duration": 214,
    "start_time": "2024-02-05T14:22:24.909Z"
   },
   {
    "duration": 3,
    "start_time": "2024-02-05T14:22:25.125Z"
   },
   {
    "duration": 875,
    "start_time": "2024-02-05T14:22:25.130Z"
   },
   {
    "duration": 4,
    "start_time": "2024-02-05T14:22:26.007Z"
   },
   {
    "duration": 61,
    "start_time": "2024-02-05T14:22:26.013Z"
   },
   {
    "duration": 168,
    "start_time": "2024-02-05T14:22:26.075Z"
   },
   {
    "duration": 11,
    "start_time": "2024-02-05T14:22:26.244Z"
   },
   {
    "duration": 19,
    "start_time": "2024-02-05T14:22:26.257Z"
   },
   {
    "duration": 22,
    "start_time": "2024-02-05T14:22:26.278Z"
   },
   {
    "duration": 13,
    "start_time": "2024-02-05T14:22:26.301Z"
   },
   {
    "duration": 12,
    "start_time": "2024-02-05T14:26:22.794Z"
   },
   {
    "duration": 12,
    "start_time": "2024-02-05T14:28:25.621Z"
   },
   {
    "duration": 12,
    "start_time": "2024-02-05T14:29:52.103Z"
   },
   {
    "duration": 10,
    "start_time": "2024-02-05T14:31:19.594Z"
   },
   {
    "duration": 11,
    "start_time": "2024-02-05T14:35:39.252Z"
   },
   {
    "duration": 9,
    "start_time": "2024-02-05T14:35:58.754Z"
   },
   {
    "duration": 10,
    "start_time": "2024-02-05T14:36:11.824Z"
   },
   {
    "duration": 11,
    "start_time": "2024-02-05T14:36:18.405Z"
   },
   {
    "duration": 10,
    "start_time": "2024-02-05T14:37:00.961Z"
   },
   {
    "duration": 628,
    "start_time": "2024-02-05T14:39:50.035Z"
   },
   {
    "duration": 194,
    "start_time": "2024-02-05T14:39:50.665Z"
   },
   {
    "duration": 200,
    "start_time": "2024-02-05T14:39:50.861Z"
   },
   {
    "duration": 110,
    "start_time": "2024-02-05T14:39:51.063Z"
   },
   {
    "duration": 2,
    "start_time": "2024-02-05T14:39:51.175Z"
   },
   {
    "duration": 58,
    "start_time": "2024-02-05T14:39:51.179Z"
   },
   {
    "duration": 13,
    "start_time": "2024-02-05T14:39:51.239Z"
   },
   {
    "duration": 21,
    "start_time": "2024-02-05T14:39:51.254Z"
   },
   {
    "duration": 49,
    "start_time": "2024-02-05T14:39:51.277Z"
   },
   {
    "duration": 8,
    "start_time": "2024-02-05T14:39:51.328Z"
   },
   {
    "duration": 33,
    "start_time": "2024-02-05T14:39:51.338Z"
   },
   {
    "duration": 31,
    "start_time": "2024-02-05T14:39:51.372Z"
   },
   {
    "duration": 7,
    "start_time": "2024-02-05T14:39:51.404Z"
   },
   {
    "duration": 15,
    "start_time": "2024-02-05T14:39:51.412Z"
   },
   {
    "duration": 47,
    "start_time": "2024-02-05T14:39:51.428Z"
   },
   {
    "duration": 31,
    "start_time": "2024-02-05T14:39:51.476Z"
   },
   {
    "duration": 18,
    "start_time": "2024-02-05T14:39:51.509Z"
   },
   {
    "duration": 12,
    "start_time": "2024-02-05T14:39:51.528Z"
   },
   {
    "duration": 51,
    "start_time": "2024-02-05T14:39:51.542Z"
   },
   {
    "duration": 6,
    "start_time": "2024-02-05T14:39:51.594Z"
   },
   {
    "duration": 11,
    "start_time": "2024-02-05T14:39:51.602Z"
   },
   {
    "duration": 163,
    "start_time": "2024-02-05T14:39:51.615Z"
   },
   {
    "duration": 6,
    "start_time": "2024-02-05T14:39:51.779Z"
   },
   {
    "duration": 140,
    "start_time": "2024-02-05T14:39:51.786Z"
   },
   {
    "duration": 8,
    "start_time": "2024-02-05T14:39:51.928Z"
   },
   {
    "duration": 122,
    "start_time": "2024-02-05T14:39:51.937Z"
   },
   {
    "duration": 267,
    "start_time": "2024-02-05T14:39:52.061Z"
   },
   {
    "duration": 9,
    "start_time": "2024-02-05T14:39:52.331Z"
   },
   {
    "duration": 121,
    "start_time": "2024-02-05T14:39:52.342Z"
   },
   {
    "duration": 231,
    "start_time": "2024-02-05T14:39:52.465Z"
   },
   {
    "duration": 10,
    "start_time": "2024-02-05T14:39:52.698Z"
   },
   {
    "duration": 138,
    "start_time": "2024-02-05T14:39:52.710Z"
   },
   {
    "duration": 311,
    "start_time": "2024-02-05T14:39:52.849Z"
   },
   {
    "duration": 123,
    "start_time": "2024-02-05T14:39:53.162Z"
   },
   {
    "duration": 9,
    "start_time": "2024-02-05T14:39:53.286Z"
   },
   {
    "duration": 17,
    "start_time": "2024-02-05T14:39:53.297Z"
   },
   {
    "duration": 53,
    "start_time": "2024-02-05T14:39:53.316Z"
   },
   {
    "duration": 18,
    "start_time": "2024-02-05T14:39:53.371Z"
   },
   {
    "duration": 20,
    "start_time": "2024-02-05T14:39:53.390Z"
   },
   {
    "duration": 15,
    "start_time": "2024-02-05T14:39:53.412Z"
   },
   {
    "duration": 17,
    "start_time": "2024-02-05T14:39:53.429Z"
   },
   {
    "duration": 31,
    "start_time": "2024-02-05T14:39:53.448Z"
   },
   {
    "duration": 22,
    "start_time": "2024-02-05T14:39:53.482Z"
   },
   {
    "duration": 143,
    "start_time": "2024-02-05T14:39:53.506Z"
   },
   {
    "duration": 109,
    "start_time": "2024-02-05T14:39:53.651Z"
   },
   {
    "duration": 248,
    "start_time": "2024-02-05T14:39:53.762Z"
   },
   {
    "duration": 230,
    "start_time": "2024-02-05T14:39:54.012Z"
   },
   {
    "duration": 132,
    "start_time": "2024-02-05T14:39:54.244Z"
   },
   {
    "duration": 122,
    "start_time": "2024-02-05T14:39:54.378Z"
   },
   {
    "duration": 356,
    "start_time": "2024-02-05T14:39:54.502Z"
   },
   {
    "duration": 264,
    "start_time": "2024-02-05T14:39:54.860Z"
   },
   {
    "duration": 5,
    "start_time": "2024-02-05T14:39:55.125Z"
   },
   {
    "duration": 28,
    "start_time": "2024-02-05T14:39:55.131Z"
   },
   {
    "duration": 20,
    "start_time": "2024-02-05T14:39:55.161Z"
   },
   {
    "duration": 4,
    "start_time": "2024-02-05T14:39:55.183Z"
   },
   {
    "duration": 20,
    "start_time": "2024-02-05T14:39:55.189Z"
   },
   {
    "duration": 4,
    "start_time": "2024-02-05T14:39:55.211Z"
   },
   {
    "duration": 43,
    "start_time": "2024-02-05T14:39:55.216Z"
   },
   {
    "duration": 7,
    "start_time": "2024-02-05T14:39:55.261Z"
   },
   {
    "duration": 25,
    "start_time": "2024-02-05T14:39:55.269Z"
   },
   {
    "duration": 999,
    "start_time": "2024-02-05T14:39:55.295Z"
   },
   {
    "duration": 3,
    "start_time": "2024-02-05T14:39:56.296Z"
   },
   {
    "duration": 18,
    "start_time": "2024-02-05T14:39:56.300Z"
   },
   {
    "duration": 119,
    "start_time": "2024-02-05T14:39:56.320Z"
   },
   {
    "duration": 11,
    "start_time": "2024-02-05T14:39:56.441Z"
   },
   {
    "duration": 19,
    "start_time": "2024-02-05T14:39:56.453Z"
   },
   {
    "duration": 28,
    "start_time": "2024-02-05T14:39:56.474Z"
   },
   {
    "duration": 21,
    "start_time": "2024-02-05T14:39:56.504Z"
   },
   {
    "duration": 6,
    "start_time": "2024-02-05T14:39:56.527Z"
   },
   {
    "duration": 198,
    "start_time": "2024-02-05T14:40:30.735Z"
   },
   {
    "duration": 566,
    "start_time": "2024-02-05T14:40:38.613Z"
   },
   {
    "duration": 189,
    "start_time": "2024-02-05T14:40:39.181Z"
   },
   {
    "duration": 218,
    "start_time": "2024-02-05T14:40:39.371Z"
   },
   {
    "duration": 104,
    "start_time": "2024-02-05T14:40:39.591Z"
   },
   {
    "duration": 2,
    "start_time": "2024-02-05T14:40:39.696Z"
   },
   {
    "duration": 69,
    "start_time": "2024-02-05T14:40:39.700Z"
   },
   {
    "duration": 12,
    "start_time": "2024-02-05T14:40:39.770Z"
   },
   {
    "duration": 45,
    "start_time": "2024-02-05T14:40:39.784Z"
   },
   {
    "duration": 67,
    "start_time": "2024-02-05T14:40:39.830Z"
   },
   {
    "duration": 46,
    "start_time": "2024-02-05T14:40:39.899Z"
   },
   {
    "duration": 45,
    "start_time": "2024-02-05T14:40:39.946Z"
   },
   {
    "duration": 56,
    "start_time": "2024-02-05T14:40:39.992Z"
   },
   {
    "duration": 30,
    "start_time": "2024-02-05T14:40:40.049Z"
   },
   {
    "duration": 62,
    "start_time": "2024-02-05T14:40:40.080Z"
   },
   {
    "duration": 55,
    "start_time": "2024-02-05T14:40:40.143Z"
   },
   {
    "duration": 56,
    "start_time": "2024-02-05T14:40:40.200Z"
   },
   {
    "duration": 51,
    "start_time": "2024-02-05T14:40:40.258Z"
   },
   {
    "duration": 39,
    "start_time": "2024-02-05T14:40:40.311Z"
   },
   {
    "duration": 37,
    "start_time": "2024-02-05T14:40:40.352Z"
   },
   {
    "duration": 56,
    "start_time": "2024-02-05T14:40:40.391Z"
   },
   {
    "duration": 65,
    "start_time": "2024-02-05T14:40:40.449Z"
   },
   {
    "duration": 203,
    "start_time": "2024-02-05T14:40:40.516Z"
   },
   {
    "duration": 6,
    "start_time": "2024-02-05T14:40:40.721Z"
   },
   {
    "duration": 163,
    "start_time": "2024-02-05T14:40:40.729Z"
   },
   {
    "duration": 8,
    "start_time": "2024-02-05T14:40:40.894Z"
   },
   {
    "duration": 109,
    "start_time": "2024-02-05T14:40:40.904Z"
   },
   {
    "duration": 292,
    "start_time": "2024-02-05T14:40:41.015Z"
   },
   {
    "duration": 8,
    "start_time": "2024-02-05T14:40:41.311Z"
   },
   {
    "duration": 140,
    "start_time": "2024-02-05T14:40:41.320Z"
   },
   {
    "duration": 247,
    "start_time": "2024-02-05T14:40:41.462Z"
   },
   {
    "duration": 9,
    "start_time": "2024-02-05T14:40:41.711Z"
   },
   {
    "duration": 142,
    "start_time": "2024-02-05T14:40:41.722Z"
   },
   {
    "duration": 318,
    "start_time": "2024-02-05T14:40:41.867Z"
   },
   {
    "duration": 112,
    "start_time": "2024-02-05T14:40:42.186Z"
   },
   {
    "duration": 10,
    "start_time": "2024-02-05T14:40:42.300Z"
   },
   {
    "duration": 63,
    "start_time": "2024-02-05T14:40:42.311Z"
   },
   {
    "duration": 30,
    "start_time": "2024-02-05T14:40:42.375Z"
   },
   {
    "duration": 58,
    "start_time": "2024-02-05T14:40:42.407Z"
   },
   {
    "duration": 73,
    "start_time": "2024-02-05T14:40:42.467Z"
   },
   {
    "duration": 60,
    "start_time": "2024-02-05T14:40:42.541Z"
   },
   {
    "duration": 51,
    "start_time": "2024-02-05T14:40:42.603Z"
   },
   {
    "duration": 44,
    "start_time": "2024-02-05T14:40:42.655Z"
   },
   {
    "duration": 28,
    "start_time": "2024-02-05T14:40:42.700Z"
   },
   {
    "duration": 95,
    "start_time": "2024-02-05T14:40:42.729Z"
   },
   {
    "duration": 94,
    "start_time": "2024-02-05T14:40:42.826Z"
   },
   {
    "duration": 261,
    "start_time": "2024-02-05T14:40:42.922Z"
   },
   {
    "duration": 229,
    "start_time": "2024-02-05T14:40:43.185Z"
   },
   {
    "duration": 109,
    "start_time": "2024-02-05T14:40:43.415Z"
   },
   {
    "duration": 103,
    "start_time": "2024-02-05T14:40:43.525Z"
   },
   {
    "duration": 310,
    "start_time": "2024-02-05T14:40:43.630Z"
   },
   {
    "duration": 253,
    "start_time": "2024-02-05T14:40:43.942Z"
   },
   {
    "duration": 5,
    "start_time": "2024-02-05T14:40:44.197Z"
   },
   {
    "duration": 50,
    "start_time": "2024-02-05T14:40:44.204Z"
   },
   {
    "duration": 94,
    "start_time": "2024-02-05T14:40:44.256Z"
   },
   {
    "duration": 63,
    "start_time": "2024-02-05T14:40:44.352Z"
   },
   {
    "duration": 21,
    "start_time": "2024-02-05T14:40:44.417Z"
   },
   {
    "duration": 6,
    "start_time": "2024-02-05T14:40:44.440Z"
   },
   {
    "duration": 13,
    "start_time": "2024-02-05T14:40:44.447Z"
   },
   {
    "duration": 194,
    "start_time": "2024-02-05T14:40:44.461Z"
   },
   {
    "duration": 4,
    "start_time": "2024-02-05T14:40:44.659Z"
   },
   {
    "duration": 901,
    "start_time": "2024-02-05T14:40:44.665Z"
   },
   {
    "duration": 4,
    "start_time": "2024-02-05T14:40:45.568Z"
   },
   {
    "duration": 29,
    "start_time": "2024-02-05T14:40:45.573Z"
   },
   {
    "duration": 141,
    "start_time": "2024-02-05T14:40:45.604Z"
   },
   {
    "duration": 11,
    "start_time": "2024-02-05T14:40:45.747Z"
   },
   {
    "duration": 25,
    "start_time": "2024-02-05T14:40:45.759Z"
   },
   {
    "duration": 6,
    "start_time": "2024-02-05T14:40:45.786Z"
   },
   {
    "duration": 13,
    "start_time": "2024-02-05T14:40:45.793Z"
   },
   {
    "duration": 10,
    "start_time": "2024-02-05T14:40:45.807Z"
   },
   {
    "duration": 11,
    "start_time": "2024-02-05T14:42:31.201Z"
   },
   {
    "duration": 16,
    "start_time": "2024-02-05T14:44:19.235Z"
   },
   {
    "duration": 99,
    "start_time": "2024-02-06T10:30:44.090Z"
   },
   {
    "duration": 6,
    "start_time": "2024-02-06T10:31:15.254Z"
   },
   {
    "duration": 5,
    "start_time": "2024-02-06T10:31:20.389Z"
   },
   {
    "duration": 14,
    "start_time": "2024-02-06T10:31:52.740Z"
   },
   {
    "duration": 5,
    "start_time": "2024-02-06T10:37:32.942Z"
   },
   {
    "duration": 6,
    "start_time": "2024-02-06T10:38:23.191Z"
   },
   {
    "duration": 5,
    "start_time": "2024-02-06T10:38:43.241Z"
   },
   {
    "duration": 4,
    "start_time": "2024-02-06T10:40:03.748Z"
   },
   {
    "duration": 5,
    "start_time": "2024-02-06T10:40:05.154Z"
   },
   {
    "duration": 667,
    "start_time": "2024-02-06T10:48:10.374Z"
   },
   {
    "duration": 227,
    "start_time": "2024-02-06T10:48:11.043Z"
   },
   {
    "duration": 215,
    "start_time": "2024-02-06T10:48:11.271Z"
   },
   {
    "duration": 129,
    "start_time": "2024-02-06T10:48:11.488Z"
   },
   {
    "duration": 3,
    "start_time": "2024-02-06T10:48:11.619Z"
   },
   {
    "duration": 53,
    "start_time": "2024-02-06T10:48:11.623Z"
   },
   {
    "duration": 12,
    "start_time": "2024-02-06T10:48:11.677Z"
   },
   {
    "duration": 12,
    "start_time": "2024-02-06T10:48:11.691Z"
   },
   {
    "duration": 32,
    "start_time": "2024-02-06T10:48:11.704Z"
   },
   {
    "duration": 9,
    "start_time": "2024-02-06T10:48:11.738Z"
   },
   {
    "duration": 32,
    "start_time": "2024-02-06T10:48:11.748Z"
   },
   {
    "duration": 15,
    "start_time": "2024-02-06T10:48:11.781Z"
   },
   {
    "duration": 20,
    "start_time": "2024-02-06T10:48:11.797Z"
   },
   {
    "duration": 9,
    "start_time": "2024-02-06T10:48:11.820Z"
   },
   {
    "duration": 21,
    "start_time": "2024-02-06T10:48:11.830Z"
   },
   {
    "duration": 5,
    "start_time": "2024-02-06T10:48:11.853Z"
   },
   {
    "duration": 13,
    "start_time": "2024-02-06T10:48:11.860Z"
   },
   {
    "duration": 6,
    "start_time": "2024-02-06T10:48:11.875Z"
   },
   {
    "duration": 16,
    "start_time": "2024-02-06T10:48:11.883Z"
   },
   {
    "duration": 6,
    "start_time": "2024-02-06T10:48:11.901Z"
   },
   {
    "duration": 54,
    "start_time": "2024-02-06T10:48:11.909Z"
   },
   {
    "duration": 190,
    "start_time": "2024-02-06T10:48:11.964Z"
   },
   {
    "duration": 7,
    "start_time": "2024-02-06T10:48:12.155Z"
   },
   {
    "duration": 152,
    "start_time": "2024-02-06T10:48:12.163Z"
   },
   {
    "duration": 8,
    "start_time": "2024-02-06T10:48:12.317Z"
   },
   {
    "duration": 113,
    "start_time": "2024-02-06T10:48:12.326Z"
   },
   {
    "duration": 262,
    "start_time": "2024-02-06T10:48:12.441Z"
   },
   {
    "duration": 8,
    "start_time": "2024-02-06T10:48:12.705Z"
   },
   {
    "duration": 144,
    "start_time": "2024-02-06T10:48:12.715Z"
   },
   {
    "duration": 248,
    "start_time": "2024-02-06T10:48:12.860Z"
   },
   {
    "duration": 7,
    "start_time": "2024-02-06T10:48:13.110Z"
   },
   {
    "duration": 118,
    "start_time": "2024-02-06T10:48:13.119Z"
   },
   {
    "duration": 322,
    "start_time": "2024-02-06T10:48:13.239Z"
   },
   {
    "duration": 115,
    "start_time": "2024-02-06T10:48:13.562Z"
   },
   {
    "duration": 10,
    "start_time": "2024-02-06T10:48:13.678Z"
   },
   {
    "duration": 13,
    "start_time": "2024-02-06T10:48:13.690Z"
   },
   {
    "duration": 17,
    "start_time": "2024-02-06T10:48:13.704Z"
   },
   {
    "duration": 40,
    "start_time": "2024-02-06T10:48:13.723Z"
   },
   {
    "duration": 12,
    "start_time": "2024-02-06T10:48:13.765Z"
   },
   {
    "duration": 5,
    "start_time": "2024-02-06T10:48:13.779Z"
   },
   {
    "duration": 12,
    "start_time": "2024-02-06T10:48:13.790Z"
   },
   {
    "duration": 71,
    "start_time": "2024-02-06T10:48:13.804Z"
   },
   {
    "duration": 29,
    "start_time": "2024-02-06T10:48:13.877Z"
   },
   {
    "duration": 126,
    "start_time": "2024-02-06T10:48:13.908Z"
   },
   {
    "duration": 102,
    "start_time": "2024-02-06T10:48:14.036Z"
   },
   {
    "duration": 234,
    "start_time": "2024-02-06T10:48:14.139Z"
   },
   {
    "duration": 238,
    "start_time": "2024-02-06T10:48:14.375Z"
   },
   {
    "duration": 117,
    "start_time": "2024-02-06T10:48:14.615Z"
   },
   {
    "duration": 108,
    "start_time": "2024-02-06T10:48:14.734Z"
   },
   {
    "duration": 314,
    "start_time": "2024-02-06T10:48:14.843Z"
   },
   {
    "duration": 248,
    "start_time": "2024-02-06T10:48:15.159Z"
   },
   {
    "duration": 5,
    "start_time": "2024-02-06T10:48:15.409Z"
   },
   {
    "duration": 19,
    "start_time": "2024-02-06T10:48:15.415Z"
   },
   {
    "duration": 23,
    "start_time": "2024-02-06T10:48:15.458Z"
   },
   {
    "duration": 17,
    "start_time": "2024-02-06T10:48:15.483Z"
   },
   {
    "duration": 16,
    "start_time": "2024-02-06T10:48:15.502Z"
   },
   {
    "duration": 5,
    "start_time": "2024-02-06T10:48:15.519Z"
   },
   {
    "duration": 34,
    "start_time": "2024-02-06T10:48:15.525Z"
   },
   {
    "duration": 215,
    "start_time": "2024-02-06T10:48:15.561Z"
   },
   {
    "duration": 3,
    "start_time": "2024-02-06T10:48:15.778Z"
   },
   {
    "duration": 852,
    "start_time": "2024-02-06T10:48:15.783Z"
   },
   {
    "duration": 3,
    "start_time": "2024-02-06T10:48:16.637Z"
   },
   {
    "duration": 18,
    "start_time": "2024-02-06T10:48:16.641Z"
   },
   {
    "duration": 125,
    "start_time": "2024-02-06T10:48:16.660Z"
   },
   {
    "duration": 11,
    "start_time": "2024-02-06T10:48:16.787Z"
   },
   {
    "duration": 22,
    "start_time": "2024-02-06T10:48:16.799Z"
   },
   {
    "duration": 24,
    "start_time": "2024-02-06T10:48:16.823Z"
   },
   {
    "duration": 18,
    "start_time": "2024-02-06T10:48:16.848Z"
   },
   {
    "duration": 625,
    "start_time": "2024-02-06T11:26:07.794Z"
   },
   {
    "duration": 207,
    "start_time": "2024-02-06T11:26:08.421Z"
   },
   {
    "duration": 384,
    "start_time": "2024-02-06T11:26:08.630Z"
   },
   {
    "duration": 118,
    "start_time": "2024-02-06T11:26:09.016Z"
   },
   {
    "duration": 2,
    "start_time": "2024-02-06T11:26:09.136Z"
   },
   {
    "duration": 109,
    "start_time": "2024-02-06T11:26:09.139Z"
   },
   {
    "duration": 12,
    "start_time": "2024-02-06T11:26:09.250Z"
   },
   {
    "duration": 11,
    "start_time": "2024-02-06T11:26:09.263Z"
   },
   {
    "duration": 163,
    "start_time": "2024-02-06T11:26:09.275Z"
   },
   {
    "duration": 9,
    "start_time": "2024-02-06T11:26:09.440Z"
   },
   {
    "duration": 19,
    "start_time": "2024-02-06T11:26:09.451Z"
   },
   {
    "duration": 63,
    "start_time": "2024-02-06T11:26:09.471Z"
   },
   {
    "duration": 7,
    "start_time": "2024-02-06T11:26:09.536Z"
   },
   {
    "duration": 20,
    "start_time": "2024-02-06T11:26:09.547Z"
   },
   {
    "duration": 8,
    "start_time": "2024-02-06T11:26:09.569Z"
   },
   {
    "duration": 5,
    "start_time": "2024-02-06T11:26:09.579Z"
   },
   {
    "duration": 9,
    "start_time": "2024-02-06T11:26:09.586Z"
   },
   {
    "duration": 6,
    "start_time": "2024-02-06T11:26:09.597Z"
   },
   {
    "duration": 14,
    "start_time": "2024-02-06T11:26:09.605Z"
   },
   {
    "duration": 6,
    "start_time": "2024-02-06T11:26:09.621Z"
   },
   {
    "duration": 23,
    "start_time": "2024-02-06T11:26:09.629Z"
   },
   {
    "duration": 170,
    "start_time": "2024-02-06T11:26:09.672Z"
   },
   {
    "duration": 5,
    "start_time": "2024-02-06T11:26:09.843Z"
   },
   {
    "duration": 144,
    "start_time": "2024-02-06T11:26:09.849Z"
   },
   {
    "duration": 8,
    "start_time": "2024-02-06T11:26:09.994Z"
   },
   {
    "duration": 116,
    "start_time": "2024-02-06T11:26:10.003Z"
   },
   {
    "duration": 276,
    "start_time": "2024-02-06T11:26:10.121Z"
   },
   {
    "duration": 7,
    "start_time": "2024-02-06T11:26:10.399Z"
   },
   {
    "duration": 122,
    "start_time": "2024-02-06T11:26:10.408Z"
   },
   {
    "duration": 269,
    "start_time": "2024-02-06T11:26:10.531Z"
   },
   {
    "duration": 9,
    "start_time": "2024-02-06T11:26:10.801Z"
   },
   {
    "duration": 121,
    "start_time": "2024-02-06T11:26:10.811Z"
   },
   {
    "duration": 318,
    "start_time": "2024-02-06T11:26:10.934Z"
   },
   {
    "duration": 120,
    "start_time": "2024-02-06T11:26:11.254Z"
   },
   {
    "duration": 9,
    "start_time": "2024-02-06T11:26:11.376Z"
   },
   {
    "duration": 28,
    "start_time": "2024-02-06T11:26:11.387Z"
   },
   {
    "duration": 20,
    "start_time": "2024-02-06T11:26:11.416Z"
   },
   {
    "duration": 7,
    "start_time": "2024-02-06T11:26:11.438Z"
   },
   {
    "duration": 13,
    "start_time": "2024-02-06T11:26:11.447Z"
   },
   {
    "duration": 21,
    "start_time": "2024-02-06T11:26:11.461Z"
   },
   {
    "duration": 12,
    "start_time": "2024-02-06T11:26:11.487Z"
   },
   {
    "duration": 28,
    "start_time": "2024-02-06T11:26:11.501Z"
   },
   {
    "duration": 22,
    "start_time": "2024-02-06T11:26:11.530Z"
   },
   {
    "duration": 127,
    "start_time": "2024-02-06T11:26:11.554Z"
   },
   {
    "duration": 108,
    "start_time": "2024-02-06T11:26:11.683Z"
   },
   {
    "duration": 256,
    "start_time": "2024-02-06T11:26:11.793Z"
   },
   {
    "duration": 239,
    "start_time": "2024-02-06T11:26:12.050Z"
   },
   {
    "duration": 115,
    "start_time": "2024-02-06T11:26:12.291Z"
   },
   {
    "duration": 111,
    "start_time": "2024-02-06T11:26:12.408Z"
   },
   {
    "duration": 321,
    "start_time": "2024-02-06T11:26:12.521Z"
   },
   {
    "duration": 253,
    "start_time": "2024-02-06T11:26:12.843Z"
   },
   {
    "duration": 5,
    "start_time": "2024-02-06T11:26:13.097Z"
   },
   {
    "duration": 23,
    "start_time": "2024-02-06T11:26:13.104Z"
   },
   {
    "duration": 22,
    "start_time": "2024-02-06T11:26:13.128Z"
   },
   {
    "duration": 5,
    "start_time": "2024-02-06T11:26:13.151Z"
   },
   {
    "duration": 16,
    "start_time": "2024-02-06T11:26:13.172Z"
   },
   {
    "duration": 7,
    "start_time": "2024-02-06T11:26:13.190Z"
   },
   {
    "duration": 5,
    "start_time": "2024-02-06T11:26:13.198Z"
   },
   {
    "duration": 235,
    "start_time": "2024-02-06T11:26:13.204Z"
   },
   {
    "duration": 3,
    "start_time": "2024-02-06T11:26:13.441Z"
   },
   {
    "duration": 920,
    "start_time": "2024-02-06T11:26:13.446Z"
   },
   {
    "duration": 6,
    "start_time": "2024-02-06T11:26:14.368Z"
   },
   {
    "duration": 17,
    "start_time": "2024-02-06T11:26:14.375Z"
   },
   {
    "duration": 138,
    "start_time": "2024-02-06T11:26:14.393Z"
   },
   {
    "duration": 13,
    "start_time": "2024-02-06T11:26:14.533Z"
   },
   {
    "duration": 11,
    "start_time": "2024-02-06T11:26:14.547Z"
   },
   {
    "duration": 10,
    "start_time": "2024-02-06T11:26:14.559Z"
   },
   {
    "duration": 26,
    "start_time": "2024-02-06T11:26:14.573Z"
   },
   {
    "duration": 13,
    "start_time": "2024-02-06T11:32:07.618Z"
   },
   {
    "duration": 10,
    "start_time": "2024-02-06T11:32:16.504Z"
   },
   {
    "duration": 11,
    "start_time": "2024-02-06T11:34:26.768Z"
   },
   {
    "duration": 19,
    "start_time": "2024-02-06T12:02:28.412Z"
   },
   {
    "duration": 3,
    "start_time": "2024-02-06T12:08:22.079Z"
   },
   {
    "duration": 100,
    "start_time": "2024-02-06T12:09:44.720Z"
   },
   {
    "duration": 11,
    "start_time": "2024-02-06T12:10:04.358Z"
   },
   {
    "duration": 72,
    "start_time": "2024-02-06T12:10:44.154Z"
   },
   {
    "duration": 3,
    "start_time": "2024-02-06T12:10:49.209Z"
   },
   {
    "duration": 18,
    "start_time": "2024-02-06T12:10:52.618Z"
   },
   {
    "duration": 2,
    "start_time": "2024-02-06T12:12:14.519Z"
   },
   {
    "duration": 9,
    "start_time": "2024-02-06T12:12:18.848Z"
   },
   {
    "duration": 2,
    "start_time": "2024-02-06T12:12:32.038Z"
   },
   {
    "duration": 9,
    "start_time": "2024-02-06T12:12:34.223Z"
   },
   {
    "duration": 72,
    "start_time": "2024-02-06T12:13:09.500Z"
   },
   {
    "duration": 76,
    "start_time": "2024-02-06T12:13:18.237Z"
   },
   {
    "duration": 68,
    "start_time": "2024-02-06T12:13:34.464Z"
   },
   {
    "duration": 76,
    "start_time": "2024-02-06T12:13:41.672Z"
   },
   {
    "duration": 9,
    "start_time": "2024-02-06T12:18:40.681Z"
   },
   {
    "duration": 11,
    "start_time": "2024-02-06T12:18:56.860Z"
   },
   {
    "duration": 3,
    "start_time": "2024-02-06T12:19:39.367Z"
   },
   {
    "duration": 13,
    "start_time": "2024-02-06T12:19:42.296Z"
   },
   {
    "duration": 9,
    "start_time": "2024-02-06T12:20:20.028Z"
   },
   {
    "duration": 74,
    "start_time": "2024-02-06T12:20:43.731Z"
   },
   {
    "duration": 78,
    "start_time": "2024-02-06T12:20:51.418Z"
   },
   {
    "duration": 96,
    "start_time": "2024-02-06T12:21:28.660Z"
   },
   {
    "duration": 3,
    "start_time": "2024-02-06T12:21:47.383Z"
   },
   {
    "duration": 22,
    "start_time": "2024-02-06T12:21:50.013Z"
   },
   {
    "duration": 3,
    "start_time": "2024-02-06T12:22:12.680Z"
   },
   {
    "duration": 20,
    "start_time": "2024-02-06T12:22:14.839Z"
   },
   {
    "duration": 29,
    "start_time": "2024-02-06T12:23:13.233Z"
   },
   {
    "duration": 3,
    "start_time": "2024-02-06T12:23:45.310Z"
   },
   {
    "duration": 23,
    "start_time": "2024-02-06T12:23:47.613Z"
   },
   {
    "duration": 3,
    "start_time": "2024-02-06T12:24:37.907Z"
   },
   {
    "duration": 13,
    "start_time": "2024-02-06T12:24:40.681Z"
   },
   {
    "duration": 4,
    "start_time": "2024-02-06T12:28:08.725Z"
   },
   {
    "duration": 13,
    "start_time": "2024-02-06T12:28:11.291Z"
   },
   {
    "duration": 68,
    "start_time": "2024-02-06T12:28:55.199Z"
   },
   {
    "duration": 4,
    "start_time": "2024-02-06T12:30:35.123Z"
   },
   {
    "duration": 14,
    "start_time": "2024-02-06T12:30:38.430Z"
   },
   {
    "duration": 4,
    "start_time": "2024-02-06T12:31:03.790Z"
   },
   {
    "duration": 14,
    "start_time": "2024-02-06T12:31:06.112Z"
   },
   {
    "duration": 18,
    "start_time": "2024-02-06T12:31:14.567Z"
   },
   {
    "duration": 75,
    "start_time": "2024-02-06T12:31:32.498Z"
   },
   {
    "duration": 12,
    "start_time": "2024-02-06T12:31:36.317Z"
   },
   {
    "duration": 4,
    "start_time": "2024-02-06T12:36:07.420Z"
   },
   {
    "duration": 16,
    "start_time": "2024-02-06T12:36:09.735Z"
   },
   {
    "duration": 17,
    "start_time": "2024-02-06T12:36:13.684Z"
   },
   {
    "duration": 13,
    "start_time": "2024-02-06T12:36:17.104Z"
   },
   {
    "duration": 3,
    "start_time": "2024-02-06T12:36:33.768Z"
   },
   {
    "duration": 17,
    "start_time": "2024-02-06T12:36:56.059Z"
   },
   {
    "duration": 19,
    "start_time": "2024-02-06T12:37:22.968Z"
   },
   {
    "duration": 14,
    "start_time": "2024-02-06T12:37:26.041Z"
   },
   {
    "duration": 14,
    "start_time": "2024-02-06T12:42:06.540Z"
   },
   {
    "duration": 6,
    "start_time": "2024-02-06T12:42:08.766Z"
   },
   {
    "duration": 13,
    "start_time": "2024-02-06T12:42:10.294Z"
   },
   {
    "duration": 3,
    "start_time": "2024-02-06T12:46:24.651Z"
   },
   {
    "duration": 4,
    "start_time": "2024-02-06T12:46:27.565Z"
   },
   {
    "duration": 12,
    "start_time": "2024-02-06T12:46:29.194Z"
   },
   {
    "duration": 3,
    "start_time": "2024-02-06T12:46:38.589Z"
   },
   {
    "duration": 14,
    "start_time": "2024-02-06T12:46:40.421Z"
   },
   {
    "duration": 7,
    "start_time": "2024-02-06T12:50:29.215Z"
   },
   {
    "duration": 6,
    "start_time": "2024-02-06T12:53:41.859Z"
   },
   {
    "duration": 175,
    "start_time": "2024-02-06T13:04:23.153Z"
   },
   {
    "duration": 157,
    "start_time": "2024-02-06T13:04:49.177Z"
   },
   {
    "duration": 259,
    "start_time": "2024-02-06T13:05:08.841Z"
   },
   {
    "duration": 17,
    "start_time": "2024-02-06T13:05:23.264Z"
   },
   {
    "duration": 17,
    "start_time": "2024-02-06T13:05:31.607Z"
   },
   {
    "duration": 157,
    "start_time": "2024-02-06T13:05:37.222Z"
   },
   {
    "duration": 16,
    "start_time": "2024-02-06T13:05:55.217Z"
   },
   {
    "duration": 18,
    "start_time": "2024-02-06T13:06:40.010Z"
   },
   {
    "duration": 114,
    "start_time": "2024-02-06T13:06:52.345Z"
   },
   {
    "duration": 134,
    "start_time": "2024-02-06T13:10:18.772Z"
   },
   {
    "duration": 135,
    "start_time": "2024-02-06T13:10:30.509Z"
   },
   {
    "duration": 82,
    "start_time": "2024-02-06T13:10:50.044Z"
   },
   {
    "duration": 87,
    "start_time": "2024-02-06T13:11:41.595Z"
   },
   {
    "duration": 123,
    "start_time": "2024-02-06T13:12:46.945Z"
   },
   {
    "duration": 138,
    "start_time": "2024-02-06T13:12:59.320Z"
   },
   {
    "duration": 104,
    "start_time": "2024-02-06T13:13:39.455Z"
   },
   {
    "duration": 111,
    "start_time": "2024-02-06T13:14:39.130Z"
   },
   {
    "duration": 89,
    "start_time": "2024-02-06T13:14:43.761Z"
   },
   {
    "duration": 93,
    "start_time": "2024-02-06T13:15:03.757Z"
   },
   {
    "duration": 164,
    "start_time": "2024-02-06T13:15:13.702Z"
   },
   {
    "duration": 83,
    "start_time": "2024-02-06T13:15:54.795Z"
   },
   {
    "duration": 4,
    "start_time": "2024-02-06T13:16:28.993Z"
   },
   {
    "duration": 82,
    "start_time": "2024-02-06T13:16:36.558Z"
   },
   {
    "duration": 91,
    "start_time": "2024-02-06T13:17:06.024Z"
   },
   {
    "duration": 76,
    "start_time": "2024-02-06T13:17:48.734Z"
   },
   {
    "duration": 81,
    "start_time": "2024-02-06T13:17:54.169Z"
   },
   {
    "duration": 84,
    "start_time": "2024-02-06T13:18:38.939Z"
   },
   {
    "duration": 68,
    "start_time": "2024-02-06T13:18:53.417Z"
   },
   {
    "duration": 79,
    "start_time": "2024-02-06T13:18:58.510Z"
   },
   {
    "duration": 113,
    "start_time": "2024-02-06T13:19:03.677Z"
   },
   {
    "duration": 80,
    "start_time": "2024-02-06T13:19:21.270Z"
   },
   {
    "duration": 5,
    "start_time": "2024-02-06T13:54:02.801Z"
   },
   {
    "duration": 149,
    "start_time": "2024-02-06T13:54:25.066Z"
   },
   {
    "duration": 5,
    "start_time": "2024-02-06T13:55:41.610Z"
   },
   {
    "duration": 1325,
    "start_time": "2024-02-06T13:55:45.173Z"
   },
   {
    "duration": 4,
    "start_time": "2024-02-06T13:58:49.025Z"
   },
   {
    "duration": 417,
    "start_time": "2024-02-06T13:58:52.197Z"
   },
   {
    "duration": 4,
    "start_time": "2024-02-06T13:59:32.304Z"
   },
   {
    "duration": 5,
    "start_time": "2024-02-06T13:59:58.245Z"
   },
   {
    "duration": 572,
    "start_time": "2024-02-06T14:00:00.315Z"
   },
   {
    "duration": 4,
    "start_time": "2024-02-06T14:00:20.811Z"
   },
   {
    "duration": 423,
    "start_time": "2024-02-06T14:00:22.682Z"
   },
   {
    "duration": 4,
    "start_time": "2024-02-06T14:04:33.755Z"
   },
   {
    "duration": 399,
    "start_time": "2024-02-06T14:04:35.746Z"
   },
   {
    "duration": 73,
    "start_time": "2024-02-06T14:13:20.663Z"
   },
   {
    "duration": 5,
    "start_time": "2024-02-06T14:13:30.990Z"
   },
   {
    "duration": 5,
    "start_time": "2024-02-06T14:13:34.155Z"
   },
   {
    "duration": 4,
    "start_time": "2024-02-06T14:13:52.402Z"
   },
   {
    "duration": 521,
    "start_time": "2024-02-06T14:13:55.738Z"
   },
   {
    "duration": 4,
    "start_time": "2024-02-06T14:15:05.382Z"
   },
   {
    "duration": 422,
    "start_time": "2024-02-06T14:15:07.897Z"
   },
   {
    "duration": 4,
    "start_time": "2024-02-06T14:15:25.224Z"
   },
   {
    "duration": 5,
    "start_time": "2024-02-06T14:15:35.690Z"
   },
   {
    "duration": 395,
    "start_time": "2024-02-06T14:15:38.408Z"
   },
   {
    "duration": 403,
    "start_time": "2024-02-06T14:18:18.091Z"
   },
   {
    "duration": 114,
    "start_time": "2024-02-06T14:20:38.877Z"
   },
   {
    "duration": 220,
    "start_time": "2024-02-06T14:21:11.192Z"
   },
   {
    "duration": 10,
    "start_time": "2024-02-06T14:25:31.779Z"
   },
   {
    "duration": 4,
    "start_time": "2024-02-06T14:25:37.398Z"
   },
   {
    "duration": 13,
    "start_time": "2024-02-06T14:25:39.024Z"
   },
   {
    "duration": 8,
    "start_time": "2024-02-06T14:26:40.588Z"
   },
   {
    "duration": 4,
    "start_time": "2024-02-06T14:26:44.706Z"
   },
   {
    "duration": 13,
    "start_time": "2024-02-06T14:26:46.180Z"
   },
   {
    "duration": 4,
    "start_time": "2024-02-06T14:28:16.083Z"
   },
   {
    "duration": 8,
    "start_time": "2024-02-06T14:28:17.536Z"
   },
   {
    "duration": 208,
    "start_time": "2024-02-06T14:28:29.307Z"
   },
   {
    "duration": 9,
    "start_time": "2024-02-06T14:31:53.813Z"
   },
   {
    "duration": 4,
    "start_time": "2024-02-06T14:31:56.156Z"
   },
   {
    "duration": 559,
    "start_time": "2024-02-06T14:31:57.675Z"
   },
   {
    "duration": 4,
    "start_time": "2024-02-06T14:33:13.508Z"
   },
   {
    "duration": 438,
    "start_time": "2024-02-06T14:33:14.991Z"
   },
   {
    "duration": 517,
    "start_time": "2024-02-06T14:33:23.870Z"
   },
   {
    "duration": 4,
    "start_time": "2024-02-06T14:33:47.162Z"
   },
   {
    "duration": 252,
    "start_time": "2024-02-06T14:33:55.524Z"
   },
   {
    "duration": 4,
    "start_time": "2024-02-06T14:34:05.520Z"
   },
   {
    "duration": 552,
    "start_time": "2024-02-06T14:34:12.994Z"
   },
   {
    "duration": 230,
    "start_time": "2024-02-06T14:34:59.779Z"
   },
   {
    "duration": 663,
    "start_time": "2024-02-06T14:35:50.104Z"
   },
   {
    "duration": 4,
    "start_time": "2024-02-06T17:32:21.250Z"
   },
   {
    "duration": 30,
    "start_time": "2024-02-06T17:32:27.332Z"
   },
   {
    "duration": 39,
    "start_time": "2024-02-06T17:40:31.764Z"
   },
   {
    "duration": 660,
    "start_time": "2024-02-06T17:42:11.825Z"
   },
   {
    "duration": 200,
    "start_time": "2024-02-06T17:42:12.487Z"
   },
   {
    "duration": 201,
    "start_time": "2024-02-06T17:42:12.688Z"
   },
   {
    "duration": 107,
    "start_time": "2024-02-06T17:42:12.891Z"
   },
   {
    "duration": 2,
    "start_time": "2024-02-06T17:42:13.000Z"
   },
   {
    "duration": 8,
    "start_time": "2024-02-06T17:42:13.003Z"
   },
   {
    "duration": 38,
    "start_time": "2024-02-06T17:42:13.013Z"
   },
   {
    "duration": 28,
    "start_time": "2024-02-06T17:42:13.052Z"
   },
   {
    "duration": 15,
    "start_time": "2024-02-06T17:42:13.081Z"
   },
   {
    "duration": 29,
    "start_time": "2024-02-06T17:42:13.097Z"
   },
   {
    "duration": 52,
    "start_time": "2024-02-06T17:42:13.127Z"
   },
   {
    "duration": 18,
    "start_time": "2024-02-06T17:42:13.181Z"
   },
   {
    "duration": 59,
    "start_time": "2024-02-06T17:42:13.201Z"
   },
   {
    "duration": 17,
    "start_time": "2024-02-06T17:42:13.263Z"
   },
   {
    "duration": 13,
    "start_time": "2024-02-06T17:42:13.281Z"
   },
   {
    "duration": 5,
    "start_time": "2024-02-06T17:42:13.295Z"
   },
   {
    "duration": 11,
    "start_time": "2024-02-06T17:42:13.301Z"
   },
   {
    "duration": 46,
    "start_time": "2024-02-06T17:42:13.313Z"
   },
   {
    "duration": 180,
    "start_time": "2024-02-06T17:42:13.361Z"
   },
   {
    "duration": 5,
    "start_time": "2024-02-06T17:42:13.543Z"
   },
   {
    "duration": 101,
    "start_time": "2024-02-06T17:42:13.559Z"
   },
   {
    "duration": 7,
    "start_time": "2024-02-06T17:42:13.662Z"
   },
   {
    "duration": 114,
    "start_time": "2024-02-06T17:42:13.671Z"
   },
   {
    "duration": 285,
    "start_time": "2024-02-06T17:42:13.787Z"
   },
   {
    "duration": 6,
    "start_time": "2024-02-06T17:42:14.074Z"
   },
   {
    "duration": 516,
    "start_time": "2024-02-06T17:42:14.081Z"
   },
   {
    "duration": 581,
    "start_time": "2024-02-06T17:42:14.599Z"
   },
   {
    "duration": 142,
    "start_time": "2024-02-06T17:42:15.181Z"
   },
   {
    "duration": 10,
    "start_time": "2024-02-06T17:42:15.325Z"
   },
   {
    "duration": 43,
    "start_time": "2024-02-06T17:42:15.336Z"
   },
   {
    "duration": 47,
    "start_time": "2024-02-06T17:42:15.380Z"
   },
   {
    "duration": 33,
    "start_time": "2024-02-06T17:42:15.429Z"
   },
   {
    "duration": 14,
    "start_time": "2024-02-06T17:42:15.464Z"
   },
   {
    "duration": 29,
    "start_time": "2024-02-06T17:42:15.479Z"
   },
   {
    "duration": 12,
    "start_time": "2024-02-06T17:42:15.510Z"
   },
   {
    "duration": 56,
    "start_time": "2024-02-06T17:42:15.524Z"
   },
   {
    "duration": 25,
    "start_time": "2024-02-06T17:42:15.582Z"
   },
   {
    "duration": 5,
    "start_time": "2024-02-06T17:42:15.609Z"
   },
   {
    "duration": 234,
    "start_time": "2024-02-06T17:42:15.659Z"
   },
   {
    "duration": 3,
    "start_time": "2024-02-06T17:42:15.895Z"
   },
   {
    "duration": 575,
    "start_time": "2024-02-06T17:42:15.902Z"
   },
   {
    "duration": 239,
    "start_time": "2024-02-06T17:42:16.479Z"
   },
   {
    "duration": 662,
    "start_time": "2024-02-06T17:42:16.720Z"
   },
   {
    "duration": 5,
    "start_time": "2024-02-06T17:42:17.383Z"
   },
   {
    "duration": 24,
    "start_time": "2024-02-06T17:42:17.390Z"
   },
   {
    "duration": 27,
    "start_time": "2024-02-06T17:42:17.415Z"
   },
   {
    "duration": 19,
    "start_time": "2024-02-06T17:42:17.443Z"
   },
   {
    "duration": 44,
    "start_time": "2024-02-06T17:42:17.464Z"
   },
   {
    "duration": 18,
    "start_time": "2024-02-06T17:42:17.509Z"
   },
   {
    "duration": 30,
    "start_time": "2024-02-06T17:42:17.528Z"
   },
   {
    "duration": 160,
    "start_time": "2024-02-06T17:42:17.559Z"
   },
   {
    "duration": 3,
    "start_time": "2024-02-06T17:42:17.721Z"
   },
   {
    "duration": 862,
    "start_time": "2024-02-06T17:42:17.725Z"
   },
   {
    "duration": 3,
    "start_time": "2024-02-06T17:42:18.588Z"
   },
   {
    "duration": 22,
    "start_time": "2024-02-06T17:42:18.593Z"
   },
   {
    "duration": 148,
    "start_time": "2024-02-06T17:42:18.616Z"
   },
   {
    "duration": 10,
    "start_time": "2024-02-06T17:42:18.765Z"
   },
   {
    "duration": 43,
    "start_time": "2024-02-06T17:42:18.777Z"
   },
   {
    "duration": 32,
    "start_time": "2024-02-06T17:42:18.822Z"
   },
   {
    "duration": 30,
    "start_time": "2024-02-06T17:42:18.856Z"
   },
   {
    "duration": 93,
    "start_time": "2024-02-06T17:43:15.086Z"
   },
   {
    "duration": 16,
    "start_time": "2024-02-06T17:43:33.846Z"
   },
   {
    "duration": 27,
    "start_time": "2024-02-06T17:44:51.159Z"
   },
   {
    "duration": 11,
    "start_time": "2024-02-06T17:46:10.555Z"
   },
   {
    "duration": 14,
    "start_time": "2024-02-06T17:50:22.308Z"
   },
   {
    "duration": 8,
    "start_time": "2024-02-06T17:52:43.145Z"
   },
   {
    "duration": 8,
    "start_time": "2024-02-06T17:53:04.024Z"
   },
   {
    "duration": 25,
    "start_time": "2024-02-06T17:53:26.701Z"
   },
   {
    "duration": 17,
    "start_time": "2024-02-06T17:54:16.183Z"
   },
   {
    "duration": 35,
    "start_time": "2024-02-06T17:55:40.745Z"
   },
   {
    "duration": 39,
    "start_time": "2024-02-06T17:55:54.598Z"
   },
   {
    "duration": 23,
    "start_time": "2024-02-06T17:57:20.907Z"
   },
   {
    "duration": 635,
    "start_time": "2024-02-06T17:58:54.425Z"
   },
   {
    "duration": 207,
    "start_time": "2024-02-06T17:58:55.062Z"
   },
   {
    "duration": 216,
    "start_time": "2024-02-06T17:58:55.271Z"
   },
   {
    "duration": 127,
    "start_time": "2024-02-06T17:58:55.490Z"
   },
   {
    "duration": 2,
    "start_time": "2024-02-06T17:58:55.619Z"
   },
   {
    "duration": 9,
    "start_time": "2024-02-06T17:58:55.623Z"
   },
   {
    "duration": 41,
    "start_time": "2024-02-06T17:58:55.633Z"
   },
   {
    "duration": 29,
    "start_time": "2024-02-06T17:58:55.675Z"
   },
   {
    "duration": 15,
    "start_time": "2024-02-06T17:58:55.705Z"
   },
   {
    "duration": 36,
    "start_time": "2024-02-06T17:58:55.723Z"
   },
   {
    "duration": 37,
    "start_time": "2024-02-06T17:58:55.760Z"
   },
   {
    "duration": 72,
    "start_time": "2024-02-06T17:58:55.799Z"
   },
   {
    "duration": 3,
    "start_time": "2024-02-06T17:58:55.873Z"
   },
   {
    "duration": 13,
    "start_time": "2024-02-06T17:58:55.878Z"
   },
   {
    "duration": 70,
    "start_time": "2024-02-06T17:58:55.892Z"
   },
   {
    "duration": 6,
    "start_time": "2024-02-06T17:58:55.963Z"
   },
   {
    "duration": 8,
    "start_time": "2024-02-06T17:58:55.970Z"
   },
   {
    "duration": 20,
    "start_time": "2024-02-06T17:58:55.979Z"
   },
   {
    "duration": 200,
    "start_time": "2024-02-06T17:58:56.000Z"
   },
   {
    "duration": 5,
    "start_time": "2024-02-06T17:58:56.202Z"
   },
   {
    "duration": 108,
    "start_time": "2024-02-06T17:58:56.208Z"
   },
   {
    "duration": 8,
    "start_time": "2024-02-06T17:58:56.317Z"
   },
   {
    "duration": 119,
    "start_time": "2024-02-06T17:58:56.327Z"
   },
   {
    "duration": 268,
    "start_time": "2024-02-06T17:58:56.459Z"
   },
   {
    "duration": 6,
    "start_time": "2024-02-06T17:58:56.729Z"
   },
   {
    "duration": 454,
    "start_time": "2024-02-06T17:58:56.737Z"
   },
   {
    "duration": 480,
    "start_time": "2024-02-06T17:58:57.192Z"
   },
   {
    "duration": 131,
    "start_time": "2024-02-06T17:58:57.676Z"
   },
   {
    "duration": 9,
    "start_time": "2024-02-06T17:58:57.809Z"
   },
   {
    "duration": 77,
    "start_time": "2024-02-06T17:58:57.820Z"
   },
   {
    "duration": 68,
    "start_time": "2024-02-06T17:58:57.899Z"
   },
   {
    "duration": 7,
    "start_time": "2024-02-06T17:58:57.968Z"
   },
   {
    "duration": 52,
    "start_time": "2024-02-06T17:58:57.976Z"
   },
   {
    "duration": 32,
    "start_time": "2024-02-06T17:58:58.030Z"
   },
   {
    "duration": 58,
    "start_time": "2024-02-06T17:58:58.064Z"
   },
   {
    "duration": 55,
    "start_time": "2024-02-06T17:58:58.123Z"
   },
   {
    "duration": 20,
    "start_time": "2024-02-06T17:58:58.179Z"
   },
   {
    "duration": 4,
    "start_time": "2024-02-06T17:58:58.201Z"
   },
   {
    "duration": 259,
    "start_time": "2024-02-06T17:58:58.206Z"
   },
   {
    "duration": 4,
    "start_time": "2024-02-06T17:58:58.467Z"
   },
   {
    "duration": 563,
    "start_time": "2024-02-06T17:58:58.472Z"
   },
   {
    "duration": 233,
    "start_time": "2024-02-06T17:58:59.037Z"
   },
   {
    "duration": 652,
    "start_time": "2024-02-06T17:58:59.271Z"
   },
   {
    "duration": 6,
    "start_time": "2024-02-06T17:58:59.924Z"
   },
   {
    "duration": 35,
    "start_time": "2024-02-06T17:58:59.931Z"
   },
   {
    "duration": 24,
    "start_time": "2024-02-06T17:58:59.968Z"
   },
   {
    "duration": 5,
    "start_time": "2024-02-06T17:58:59.993Z"
   },
   {
    "duration": 24,
    "start_time": "2024-02-06T17:58:59.999Z"
   },
   {
    "duration": 51,
    "start_time": "2024-02-06T17:59:00.024Z"
   },
   {
    "duration": 51,
    "start_time": "2024-02-06T17:59:00.076Z"
   },
   {
    "duration": 199,
    "start_time": "2024-02-06T17:59:00.128Z"
   },
   {
    "duration": 4,
    "start_time": "2024-02-06T17:59:00.328Z"
   },
   {
    "duration": 849,
    "start_time": "2024-02-06T17:59:00.334Z"
   },
   {
    "duration": 4,
    "start_time": "2024-02-06T17:59:01.185Z"
   },
   {
    "duration": 64,
    "start_time": "2024-02-06T17:59:01.191Z"
   },
   {
    "duration": 171,
    "start_time": "2024-02-06T17:59:01.256Z"
   },
   {
    "duration": 11,
    "start_time": "2024-02-06T17:59:01.429Z"
   },
   {
    "duration": 54,
    "start_time": "2024-02-06T17:59:01.441Z"
   },
   {
    "duration": 60,
    "start_time": "2024-02-06T17:59:01.497Z"
   },
   {
    "duration": 65,
    "start_time": "2024-02-06T17:59:01.559Z"
   },
   {
    "duration": 6,
    "start_time": "2024-02-06T18:00:02.781Z"
   },
   {
    "duration": 34,
    "start_time": "2024-02-06T18:00:05.167Z"
   },
   {
    "duration": 12,
    "start_time": "2024-02-06T18:00:37.336Z"
   },
   {
    "duration": 5,
    "start_time": "2024-02-06T18:01:02.443Z"
   },
   {
    "duration": 622,
    "start_time": "2024-02-06T18:01:11.055Z"
   },
   {
    "duration": 198,
    "start_time": "2024-02-06T18:01:11.679Z"
   },
   {
    "duration": 200,
    "start_time": "2024-02-06T18:01:11.878Z"
   },
   {
    "duration": 115,
    "start_time": "2024-02-06T18:01:12.080Z"
   },
   {
    "duration": 3,
    "start_time": "2024-02-06T18:01:12.197Z"
   },
   {
    "duration": 11,
    "start_time": "2024-02-06T18:01:12.202Z"
   },
   {
    "duration": 37,
    "start_time": "2024-02-06T18:01:12.215Z"
   },
   {
    "duration": 27,
    "start_time": "2024-02-06T18:01:12.253Z"
   },
   {
    "duration": 15,
    "start_time": "2024-02-06T18:01:12.281Z"
   },
   {
    "duration": 24,
    "start_time": "2024-02-06T18:01:12.298Z"
   },
   {
    "duration": 48,
    "start_time": "2024-02-06T18:01:12.324Z"
   },
   {
    "duration": 19,
    "start_time": "2024-02-06T18:01:12.373Z"
   },
   {
    "duration": 23,
    "start_time": "2024-02-06T18:01:12.393Z"
   },
   {
    "duration": 8,
    "start_time": "2024-02-06T18:01:12.459Z"
   },
   {
    "duration": 14,
    "start_time": "2024-02-06T18:01:12.468Z"
   },
   {
    "duration": 5,
    "start_time": "2024-02-06T18:01:12.483Z"
   },
   {
    "duration": 24,
    "start_time": "2024-02-06T18:01:12.490Z"
   },
   {
    "duration": 15,
    "start_time": "2024-02-06T18:01:12.516Z"
   },
   {
    "duration": 182,
    "start_time": "2024-02-06T18:01:12.532Z"
   },
   {
    "duration": 8,
    "start_time": "2024-02-06T18:01:12.716Z"
   },
   {
    "duration": 114,
    "start_time": "2024-02-06T18:01:12.725Z"
   },
   {
    "duration": 8,
    "start_time": "2024-02-06T18:01:12.840Z"
   },
   {
    "duration": 111,
    "start_time": "2024-02-06T18:01:12.849Z"
   },
   {
    "duration": 280,
    "start_time": "2024-02-06T18:01:12.962Z"
   },
   {
    "duration": 16,
    "start_time": "2024-02-06T18:01:13.243Z"
   },
   {
    "duration": 427,
    "start_time": "2024-02-06T18:01:13.260Z"
   },
   {
    "duration": 482,
    "start_time": "2024-02-06T18:01:13.689Z"
   },
   {
    "duration": 128,
    "start_time": "2024-02-06T18:01:14.175Z"
   },
   {
    "duration": 9,
    "start_time": "2024-02-06T18:01:14.305Z"
   },
   {
    "duration": 65,
    "start_time": "2024-02-06T18:01:14.316Z"
   },
   {
    "duration": 13,
    "start_time": "2024-02-06T18:01:14.382Z"
   },
   {
    "duration": 6,
    "start_time": "2024-02-06T18:01:14.397Z"
   },
   {
    "duration": 82,
    "start_time": "2024-02-06T18:01:14.405Z"
   },
   {
    "duration": 5,
    "start_time": "2024-02-06T18:01:14.488Z"
   },
   {
    "duration": 85,
    "start_time": "2024-02-06T18:01:14.495Z"
   },
   {
    "duration": 22,
    "start_time": "2024-02-06T18:01:14.581Z"
   },
   {
    "duration": 62,
    "start_time": "2024-02-06T18:01:14.604Z"
   },
   {
    "duration": 5,
    "start_time": "2024-02-06T18:01:14.668Z"
   },
   {
    "duration": 249,
    "start_time": "2024-02-06T18:01:14.675Z"
   },
   {
    "duration": 5,
    "start_time": "2024-02-06T18:01:14.926Z"
   },
   {
    "duration": 595,
    "start_time": "2024-02-06T18:01:14.933Z"
   },
   {
    "duration": 246,
    "start_time": "2024-02-06T18:01:15.530Z"
   },
   {
    "duration": 653,
    "start_time": "2024-02-06T18:01:15.778Z"
   },
   {
    "duration": 5,
    "start_time": "2024-02-06T18:01:16.433Z"
   },
   {
    "duration": 32,
    "start_time": "2024-02-06T18:01:16.439Z"
   },
   {
    "duration": 41,
    "start_time": "2024-02-06T18:01:16.473Z"
   },
   {
    "duration": 8,
    "start_time": "2024-02-06T18:01:16.516Z"
   },
   {
    "duration": 53,
    "start_time": "2024-02-06T18:01:16.526Z"
   },
   {
    "duration": 6,
    "start_time": "2024-02-06T18:01:16.581Z"
   },
   {
    "duration": 6,
    "start_time": "2024-02-06T18:01:16.589Z"
   },
   {
    "duration": 222,
    "start_time": "2024-02-06T18:01:16.597Z"
   },
   {
    "duration": 3,
    "start_time": "2024-02-06T18:01:16.821Z"
   },
   {
    "duration": 849,
    "start_time": "2024-02-06T18:01:16.825Z"
   },
   {
    "duration": 4,
    "start_time": "2024-02-06T18:01:17.675Z"
   },
   {
    "duration": 6,
    "start_time": "2024-02-06T18:01:17.680Z"
   },
   {
    "duration": 145,
    "start_time": "2024-02-06T18:01:17.688Z"
   },
   {
    "duration": 11,
    "start_time": "2024-02-06T18:01:17.834Z"
   },
   {
    "duration": 17,
    "start_time": "2024-02-06T18:01:17.846Z"
   },
   {
    "duration": 24,
    "start_time": "2024-02-06T18:01:17.864Z"
   },
   {
    "duration": 51,
    "start_time": "2024-02-06T18:01:17.889Z"
   },
   {
    "duration": 26,
    "start_time": "2024-02-06T18:05:24.060Z"
   },
   {
    "duration": 149,
    "start_time": "2024-02-06T18:06:41.830Z"
   },
   {
    "duration": 16,
    "start_time": "2024-02-06T18:07:04.918Z"
   },
   {
    "duration": 5,
    "start_time": "2024-02-06T18:08:41.204Z"
   },
   {
    "duration": 596,
    "start_time": "2024-02-06T18:09:21.882Z"
   },
   {
    "duration": 190,
    "start_time": "2024-02-06T18:09:22.480Z"
   },
   {
    "duration": 198,
    "start_time": "2024-02-06T18:09:22.672Z"
   },
   {
    "duration": 108,
    "start_time": "2024-02-06T18:09:22.872Z"
   },
   {
    "duration": 2,
    "start_time": "2024-02-06T18:09:22.982Z"
   },
   {
    "duration": 26,
    "start_time": "2024-02-06T18:09:22.985Z"
   },
   {
    "duration": 45,
    "start_time": "2024-02-06T18:09:23.012Z"
   },
   {
    "duration": 27,
    "start_time": "2024-02-06T18:09:23.059Z"
   },
   {
    "duration": 14,
    "start_time": "2024-02-06T18:09:23.087Z"
   },
   {
    "duration": 37,
    "start_time": "2024-02-06T18:09:23.104Z"
   },
   {
    "duration": 56,
    "start_time": "2024-02-06T18:09:23.142Z"
   },
   {
    "duration": 67,
    "start_time": "2024-02-06T18:09:23.200Z"
   },
   {
    "duration": 2,
    "start_time": "2024-02-06T18:09:23.269Z"
   },
   {
    "duration": 23,
    "start_time": "2024-02-06T18:09:23.273Z"
   },
   {
    "duration": 30,
    "start_time": "2024-02-06T18:09:23.297Z"
   },
   {
    "duration": 31,
    "start_time": "2024-02-06T18:09:23.329Z"
   },
   {
    "duration": 24,
    "start_time": "2024-02-06T18:09:23.362Z"
   },
   {
    "duration": 17,
    "start_time": "2024-02-06T18:09:23.388Z"
   },
   {
    "duration": 174,
    "start_time": "2024-02-06T18:09:23.406Z"
   },
   {
    "duration": 6,
    "start_time": "2024-02-06T18:09:23.581Z"
   },
   {
    "duration": 116,
    "start_time": "2024-02-06T18:09:23.588Z"
   },
   {
    "duration": 8,
    "start_time": "2024-02-06T18:09:23.705Z"
   },
   {
    "duration": 115,
    "start_time": "2024-02-06T18:09:23.714Z"
   },
   {
    "duration": 256,
    "start_time": "2024-02-06T18:09:23.831Z"
   },
   {
    "duration": 4,
    "start_time": "2024-02-06T18:09:24.089Z"
   },
   {
    "duration": 437,
    "start_time": "2024-02-06T18:09:24.094Z"
   },
   {
    "duration": 491,
    "start_time": "2024-02-06T18:09:24.533Z"
   },
   {
    "duration": 135,
    "start_time": "2024-02-06T18:09:25.028Z"
   },
   {
    "duration": 10,
    "start_time": "2024-02-06T18:09:25.165Z"
   },
   {
    "duration": 40,
    "start_time": "2024-02-06T18:09:25.176Z"
   },
   {
    "duration": 47,
    "start_time": "2024-02-06T18:09:25.217Z"
   },
   {
    "duration": 35,
    "start_time": "2024-02-06T18:09:25.266Z"
   },
   {
    "duration": 5,
    "start_time": "2024-02-06T18:09:25.302Z"
   },
   {
    "duration": 78,
    "start_time": "2024-02-06T18:09:25.309Z"
   },
   {
    "duration": 23,
    "start_time": "2024-02-06T18:09:25.388Z"
   },
   {
    "duration": 62,
    "start_time": "2024-02-06T18:09:25.413Z"
   },
   {
    "duration": 10,
    "start_time": "2024-02-06T18:09:25.477Z"
   },
   {
    "duration": 237,
    "start_time": "2024-02-06T18:09:25.488Z"
   },
   {
    "duration": 4,
    "start_time": "2024-02-06T18:09:25.726Z"
   },
   {
    "duration": 566,
    "start_time": "2024-02-06T18:09:25.731Z"
   },
   {
    "duration": 231,
    "start_time": "2024-02-06T18:09:26.298Z"
   },
   {
    "duration": 633,
    "start_time": "2024-02-06T18:09:26.530Z"
   },
   {
    "duration": 5,
    "start_time": "2024-02-06T18:09:27.164Z"
   },
   {
    "duration": 35,
    "start_time": "2024-02-06T18:09:27.170Z"
   },
   {
    "duration": 65,
    "start_time": "2024-02-06T18:09:27.206Z"
   },
   {
    "duration": 6,
    "start_time": "2024-02-06T18:09:27.273Z"
   },
   {
    "duration": 18,
    "start_time": "2024-02-06T18:09:27.281Z"
   },
   {
    "duration": 5,
    "start_time": "2024-02-06T18:09:27.301Z"
   },
   {
    "duration": 53,
    "start_time": "2024-02-06T18:09:27.308Z"
   },
   {
    "duration": 222,
    "start_time": "2024-02-06T18:09:27.362Z"
   },
   {
    "duration": 3,
    "start_time": "2024-02-06T18:09:27.586Z"
   },
   {
    "duration": 828,
    "start_time": "2024-02-06T18:09:27.590Z"
   },
   {
    "duration": 3,
    "start_time": "2024-02-06T18:09:28.419Z"
   },
   {
    "duration": 7,
    "start_time": "2024-02-06T18:09:28.424Z"
   },
   {
    "duration": 142,
    "start_time": "2024-02-06T18:09:28.432Z"
   },
   {
    "duration": 10,
    "start_time": "2024-02-06T18:09:28.576Z"
   },
   {
    "duration": 9,
    "start_time": "2024-02-06T18:09:28.588Z"
   },
   {
    "duration": 15,
    "start_time": "2024-02-06T18:09:28.598Z"
   },
   {
    "duration": 11,
    "start_time": "2024-02-06T18:09:28.615Z"
   },
   {
    "duration": 6,
    "start_time": "2024-02-06T18:11:59.962Z"
   },
   {
    "duration": 4,
    "start_time": "2024-02-06T18:15:48.546Z"
   },
   {
    "duration": 10,
    "start_time": "2024-02-06T18:19:41.544Z"
   },
   {
    "duration": 619,
    "start_time": "2024-02-06T18:25:24.683Z"
   },
   {
    "duration": 208,
    "start_time": "2024-02-06T18:25:25.303Z"
   },
   {
    "duration": 187,
    "start_time": "2024-02-06T18:25:25.513Z"
   },
   {
    "duration": 105,
    "start_time": "2024-02-06T18:25:25.703Z"
   },
   {
    "duration": 3,
    "start_time": "2024-02-06T18:25:25.809Z"
   },
   {
    "duration": 19,
    "start_time": "2024-02-06T18:25:25.814Z"
   },
   {
    "duration": 32,
    "start_time": "2024-02-06T18:25:25.835Z"
   },
   {
    "duration": 28,
    "start_time": "2024-02-06T18:25:25.868Z"
   },
   {
    "duration": 15,
    "start_time": "2024-02-06T18:25:25.897Z"
   },
   {
    "duration": 27,
    "start_time": "2024-02-06T18:25:25.914Z"
   },
   {
    "duration": 29,
    "start_time": "2024-02-06T18:25:25.958Z"
   },
   {
    "duration": 72,
    "start_time": "2024-02-06T18:25:25.988Z"
   },
   {
    "duration": 3,
    "start_time": "2024-02-06T18:25:26.062Z"
   },
   {
    "duration": 34,
    "start_time": "2024-02-06T18:25:26.066Z"
   },
   {
    "duration": 7,
    "start_time": "2024-02-06T18:25:26.101Z"
   },
   {
    "duration": 17,
    "start_time": "2024-02-06T18:25:26.110Z"
   },
   {
    "duration": 8,
    "start_time": "2024-02-06T18:25:26.128Z"
   },
   {
    "duration": 25,
    "start_time": "2024-02-06T18:25:26.137Z"
   },
   {
    "duration": 183,
    "start_time": "2024-02-06T18:25:26.164Z"
   },
   {
    "duration": 5,
    "start_time": "2024-02-06T18:25:26.349Z"
   },
   {
    "duration": 109,
    "start_time": "2024-02-06T18:25:26.359Z"
   },
   {
    "duration": 8,
    "start_time": "2024-02-06T18:25:26.470Z"
   },
   {
    "duration": 115,
    "start_time": "2024-02-06T18:25:26.479Z"
   },
   {
    "duration": 257,
    "start_time": "2024-02-06T18:25:26.596Z"
   },
   {
    "duration": 4,
    "start_time": "2024-02-06T18:25:26.859Z"
   },
   {
    "duration": 417,
    "start_time": "2024-02-06T18:25:26.864Z"
   },
   {
    "duration": 503,
    "start_time": "2024-02-06T18:25:27.283Z"
   },
   {
    "duration": 127,
    "start_time": "2024-02-06T18:25:27.789Z"
   },
   {
    "duration": 9,
    "start_time": "2024-02-06T18:25:27.918Z"
   },
   {
    "duration": 56,
    "start_time": "2024-02-06T18:25:27.929Z"
   },
   {
    "duration": 7,
    "start_time": "2024-02-06T18:25:27.986Z"
   },
   {
    "duration": 91,
    "start_time": "2024-02-06T18:25:27.994Z"
   },
   {
    "duration": 5,
    "start_time": "2024-02-06T18:25:28.086Z"
   },
   {
    "duration": 72,
    "start_time": "2024-02-06T18:25:28.093Z"
   },
   {
    "duration": 22,
    "start_time": "2024-02-06T18:25:28.166Z"
   },
   {
    "duration": 20,
    "start_time": "2024-02-06T18:25:28.189Z"
   },
   {
    "duration": 4,
    "start_time": "2024-02-06T18:25:28.210Z"
   },
   {
    "duration": 231,
    "start_time": "2024-02-06T18:25:28.259Z"
   },
   {
    "duration": 4,
    "start_time": "2024-02-06T18:25:28.492Z"
   },
   {
    "duration": 585,
    "start_time": "2024-02-06T18:25:28.497Z"
   },
   {
    "duration": 238,
    "start_time": "2024-02-06T18:25:29.083Z"
   },
   {
    "duration": 663,
    "start_time": "2024-02-06T18:25:29.323Z"
   },
   {
    "duration": 5,
    "start_time": "2024-02-06T18:25:29.987Z"
   },
   {
    "duration": 36,
    "start_time": "2024-02-06T18:25:29.993Z"
   },
   {
    "duration": 22,
    "start_time": "2024-02-06T18:25:30.058Z"
   },
   {
    "duration": 37,
    "start_time": "2024-02-06T18:25:30.082Z"
   },
   {
    "duration": 45,
    "start_time": "2024-02-06T18:25:30.121Z"
   },
   {
    "duration": 43,
    "start_time": "2024-02-06T18:25:30.167Z"
   },
   {
    "duration": 58,
    "start_time": "2024-02-06T18:25:30.212Z"
   },
   {
    "duration": 236,
    "start_time": "2024-02-06T18:25:30.271Z"
   },
   {
    "duration": 4,
    "start_time": "2024-02-06T18:25:30.509Z"
   },
   {
    "duration": 861,
    "start_time": "2024-02-06T18:25:30.514Z"
   },
   {
    "duration": 3,
    "start_time": "2024-02-06T18:25:31.377Z"
   },
   {
    "duration": 61,
    "start_time": "2024-02-06T18:25:31.382Z"
   },
   {
    "duration": 178,
    "start_time": "2024-02-06T18:25:31.445Z"
   },
   {
    "duration": 10,
    "start_time": "2024-02-06T18:25:31.624Z"
   },
   {
    "duration": 54,
    "start_time": "2024-02-06T18:25:31.635Z"
   },
   {
    "duration": 102,
    "start_time": "2024-02-06T18:25:31.691Z"
   },
   {
    "duration": 45,
    "start_time": "2024-02-06T18:25:31.794Z"
   },
   {
    "duration": 15,
    "start_time": "2024-02-07T08:02:27.923Z"
   },
   {
    "duration": 3,
    "start_time": "2024-02-07T08:03:01.443Z"
   },
   {
    "duration": 3,
    "start_time": "2024-02-07T08:03:12.556Z"
   },
   {
    "duration": 105,
    "start_time": "2024-02-07T08:03:14.610Z"
   },
   {
    "duration": 12,
    "start_time": "2024-02-07T08:03:28.148Z"
   },
   {
    "duration": 11,
    "start_time": "2024-02-07T08:03:30.541Z"
   },
   {
    "duration": 673,
    "start_time": "2024-02-07T08:03:44.461Z"
   },
   {
    "duration": 206,
    "start_time": "2024-02-07T08:03:45.136Z"
   },
   {
    "duration": 217,
    "start_time": "2024-02-07T08:03:45.343Z"
   },
   {
    "duration": 116,
    "start_time": "2024-02-07T08:03:45.562Z"
   },
   {
    "duration": 3,
    "start_time": "2024-02-07T08:03:45.680Z"
   },
   {
    "duration": 16,
    "start_time": "2024-02-07T08:03:45.685Z"
   },
   {
    "duration": 59,
    "start_time": "2024-02-07T08:03:45.703Z"
   },
   {
    "duration": 28,
    "start_time": "2024-02-07T08:03:45.764Z"
   },
   {
    "duration": 15,
    "start_time": "2024-02-07T08:03:45.794Z"
   },
   {
    "duration": 30,
    "start_time": "2024-02-07T08:03:45.811Z"
   },
   {
    "duration": 32,
    "start_time": "2024-02-07T08:03:45.858Z"
   },
   {
    "duration": 76,
    "start_time": "2024-02-07T08:03:45.892Z"
   },
   {
    "duration": 4,
    "start_time": "2024-02-07T08:03:45.969Z"
   },
   {
    "duration": 24,
    "start_time": "2024-02-07T08:03:45.976Z"
   },
   {
    "duration": 16,
    "start_time": "2024-02-07T08:03:46.001Z"
   },
   {
    "duration": 46,
    "start_time": "2024-02-07T08:03:46.018Z"
   },
   {
    "duration": 5,
    "start_time": "2024-02-07T08:03:46.066Z"
   },
   {
    "duration": 12,
    "start_time": "2024-02-07T08:03:46.072Z"
   },
   {
    "duration": 6,
    "start_time": "2024-02-07T08:03:46.086Z"
   },
   {
    "duration": 217,
    "start_time": "2024-02-07T08:03:46.093Z"
   },
   {
    "duration": 6,
    "start_time": "2024-02-07T08:03:46.312Z"
   },
   {
    "duration": 117,
    "start_time": "2024-02-07T08:03:46.320Z"
   },
   {
    "duration": 19,
    "start_time": "2024-02-07T08:03:46.439Z"
   },
   {
    "duration": 121,
    "start_time": "2024-02-07T08:03:46.460Z"
   },
   {
    "duration": 303,
    "start_time": "2024-02-07T08:03:46.582Z"
   },
   {
    "duration": 5,
    "start_time": "2024-02-07T08:03:46.887Z"
   },
   {
    "duration": 480,
    "start_time": "2024-02-07T08:03:46.894Z"
   },
   {
    "duration": 507,
    "start_time": "2024-02-07T08:03:47.376Z"
   },
   {
    "duration": 129,
    "start_time": "2024-02-07T08:03:47.885Z"
   },
   {
    "duration": 11,
    "start_time": "2024-02-07T08:03:48.016Z"
   },
   {
    "duration": 85,
    "start_time": "2024-02-07T08:03:48.028Z"
   },
   {
    "duration": 46,
    "start_time": "2024-02-07T08:03:48.115Z"
   },
   {
    "duration": 53,
    "start_time": "2024-02-07T08:03:48.163Z"
   },
   {
    "duration": 48,
    "start_time": "2024-02-07T08:03:48.218Z"
   },
   {
    "duration": 72,
    "start_time": "2024-02-07T08:03:48.268Z"
   },
   {
    "duration": 33,
    "start_time": "2024-02-07T08:03:48.342Z"
   },
   {
    "duration": 21,
    "start_time": "2024-02-07T08:03:48.377Z"
   },
   {
    "duration": 4,
    "start_time": "2024-02-07T08:03:48.400Z"
   },
   {
    "duration": 253,
    "start_time": "2024-02-07T08:03:48.405Z"
   },
   {
    "duration": 6,
    "start_time": "2024-02-07T08:03:48.660Z"
   },
   {
    "duration": 560,
    "start_time": "2024-02-07T08:03:48.672Z"
   },
   {
    "duration": 268,
    "start_time": "2024-02-07T08:03:49.233Z"
   },
   {
    "duration": 651,
    "start_time": "2024-02-07T08:03:49.503Z"
   },
   {
    "duration": 5,
    "start_time": "2024-02-07T08:03:50.159Z"
   },
   {
    "duration": 39,
    "start_time": "2024-02-07T08:03:50.166Z"
   },
   {
    "duration": 70,
    "start_time": "2024-02-07T08:03:50.206Z"
   },
   {
    "duration": 6,
    "start_time": "2024-02-07T08:03:50.279Z"
   },
   {
    "duration": 16,
    "start_time": "2024-02-07T08:03:50.287Z"
   },
   {
    "duration": 10,
    "start_time": "2024-02-07T08:03:50.305Z"
   },
   {
    "duration": 5,
    "start_time": "2024-02-07T08:03:50.317Z"
   },
   {
    "duration": 213,
    "start_time": "2024-02-07T08:03:50.359Z"
   },
   {
    "duration": 4,
    "start_time": "2024-02-07T08:03:50.573Z"
   },
   {
    "duration": 871,
    "start_time": "2024-02-07T08:03:50.579Z"
   },
   {
    "duration": 8,
    "start_time": "2024-02-07T08:03:51.451Z"
   },
   {
    "duration": 20,
    "start_time": "2024-02-07T08:03:51.460Z"
   },
   {
    "duration": 139,
    "start_time": "2024-02-07T08:03:51.481Z"
   },
   {
    "duration": 11,
    "start_time": "2024-02-07T08:03:51.621Z"
   },
   {
    "duration": 7,
    "start_time": "2024-02-07T08:03:51.634Z"
   },
   {
    "duration": 7,
    "start_time": "2024-02-07T08:03:51.659Z"
   },
   {
    "duration": 25,
    "start_time": "2024-02-07T08:03:51.667Z"
   },
   {
    "duration": 90,
    "start_time": "2024-02-07T08:04:35.873Z"
   },
   {
    "duration": 6,
    "start_time": "2024-02-07T08:04:59.865Z"
   },
   {
    "duration": 3,
    "start_time": "2024-02-07T08:05:44.967Z"
   },
   {
    "duration": 3,
    "start_time": "2024-02-07T08:05:54.446Z"
   },
   {
    "duration": 2,
    "start_time": "2024-02-07T08:06:57.797Z"
   },
   {
    "duration": 9,
    "start_time": "2024-02-07T08:06:59.946Z"
   },
   {
    "duration": 9,
    "start_time": "2024-02-07T08:07:09.793Z"
   },
   {
    "duration": 9,
    "start_time": "2024-02-07T08:07:17.149Z"
   },
   {
    "duration": 11,
    "start_time": "2024-02-07T08:07:21.996Z"
   },
   {
    "duration": 44,
    "start_time": "2024-02-07T08:08:33.751Z"
   },
   {
    "duration": 6,
    "start_time": "2024-02-07T08:08:36.062Z"
   },
   {
    "duration": 5,
    "start_time": "2024-02-07T08:08:45.412Z"
   },
   {
    "duration": 6,
    "start_time": "2024-02-07T08:08:46.773Z"
   },
   {
    "duration": 706,
    "start_time": "2024-02-07T08:09:15.856Z"
   },
   {
    "duration": 204,
    "start_time": "2024-02-07T08:09:16.564Z"
   },
   {
    "duration": 196,
    "start_time": "2024-02-07T08:09:16.769Z"
   },
   {
    "duration": 115,
    "start_time": "2024-02-07T08:09:16.966Z"
   },
   {
    "duration": 3,
    "start_time": "2024-02-07T08:09:17.083Z"
   },
   {
    "duration": 26,
    "start_time": "2024-02-07T08:09:17.087Z"
   },
   {
    "duration": 61,
    "start_time": "2024-02-07T08:09:17.114Z"
   },
   {
    "duration": 36,
    "start_time": "2024-02-07T08:09:17.177Z"
   },
   {
    "duration": 17,
    "start_time": "2024-02-07T08:09:17.215Z"
   },
   {
    "duration": 41,
    "start_time": "2024-02-07T08:09:17.234Z"
   },
   {
    "duration": 33,
    "start_time": "2024-02-07T08:09:17.276Z"
   },
   {
    "duration": 72,
    "start_time": "2024-02-07T08:09:17.310Z"
   },
   {
    "duration": 27,
    "start_time": "2024-02-07T08:09:17.384Z"
   },
   {
    "duration": 6,
    "start_time": "2024-02-07T08:09:17.458Z"
   },
   {
    "duration": 33,
    "start_time": "2024-02-07T08:09:17.466Z"
   },
   {
    "duration": 11,
    "start_time": "2024-02-07T08:09:17.501Z"
   },
   {
    "duration": 27,
    "start_time": "2024-02-07T08:09:17.514Z"
   },
   {
    "duration": 18,
    "start_time": "2024-02-07T08:09:17.543Z"
   },
   {
    "duration": 9,
    "start_time": "2024-02-07T08:09:17.563Z"
   },
   {
    "duration": 181,
    "start_time": "2024-02-07T08:09:17.573Z"
   },
   {
    "duration": 6,
    "start_time": "2024-02-07T08:09:17.758Z"
   },
   {
    "duration": 115,
    "start_time": "2024-02-07T08:09:17.767Z"
   },
   {
    "duration": 9,
    "start_time": "2024-02-07T08:09:17.883Z"
   },
   {
    "duration": 124,
    "start_time": "2024-02-07T08:09:17.894Z"
   },
   {
    "duration": 289,
    "start_time": "2024-02-07T08:09:18.019Z"
   },
   {
    "duration": 5,
    "start_time": "2024-02-07T08:09:18.310Z"
   },
   {
    "duration": 477,
    "start_time": "2024-02-07T08:09:18.317Z"
   },
   {
    "duration": 492,
    "start_time": "2024-02-07T08:09:18.796Z"
   },
   {
    "duration": 131,
    "start_time": "2024-02-07T08:09:19.290Z"
   },
   {
    "duration": 12,
    "start_time": "2024-02-07T08:09:19.423Z"
   },
   {
    "duration": 83,
    "start_time": "2024-02-07T08:09:19.437Z"
   },
   {
    "duration": 7,
    "start_time": "2024-02-07T08:09:19.522Z"
   },
   {
    "duration": 53,
    "start_time": "2024-02-07T08:09:19.559Z"
   },
   {
    "duration": 10,
    "start_time": "2024-02-07T08:09:19.613Z"
   },
   {
    "duration": 83,
    "start_time": "2024-02-07T08:09:19.624Z"
   },
   {
    "duration": 64,
    "start_time": "2024-02-07T08:09:19.708Z"
   },
   {
    "duration": 23,
    "start_time": "2024-02-07T08:09:19.774Z"
   },
   {
    "duration": 6,
    "start_time": "2024-02-07T08:09:19.799Z"
   },
   {
    "duration": 293,
    "start_time": "2024-02-07T08:09:19.806Z"
   },
   {
    "duration": 4,
    "start_time": "2024-02-07T08:09:20.101Z"
   },
   {
    "duration": 602,
    "start_time": "2024-02-07T08:09:20.109Z"
   },
   {
    "duration": 270,
    "start_time": "2024-02-07T08:09:20.713Z"
   },
   {
    "duration": 750,
    "start_time": "2024-02-07T08:09:20.985Z"
   },
   {
    "duration": 6,
    "start_time": "2024-02-07T08:09:21.736Z"
   },
   {
    "duration": 55,
    "start_time": "2024-02-07T08:09:21.744Z"
   },
   {
    "duration": 43,
    "start_time": "2024-02-07T08:09:21.801Z"
   },
   {
    "duration": 22,
    "start_time": "2024-02-07T08:09:21.846Z"
   },
   {
    "duration": 42,
    "start_time": "2024-02-07T08:09:21.870Z"
   },
   {
    "duration": 7,
    "start_time": "2024-02-07T08:09:21.914Z"
   },
   {
    "duration": 13,
    "start_time": "2024-02-07T08:09:21.924Z"
   },
   {
    "duration": 319,
    "start_time": "2024-02-07T08:09:21.939Z"
   },
   {
    "duration": 3,
    "start_time": "2024-02-07T08:09:22.260Z"
   },
   {
    "duration": 848,
    "start_time": "2024-02-07T08:09:22.265Z"
   },
   {
    "duration": 4,
    "start_time": "2024-02-07T08:09:23.114Z"
   },
   {
    "duration": 74,
    "start_time": "2024-02-07T08:09:23.120Z"
   },
   {
    "duration": 148,
    "start_time": "2024-02-07T08:09:23.195Z"
   },
   {
    "duration": 16,
    "start_time": "2024-02-07T08:09:23.345Z"
   },
   {
    "duration": 21,
    "start_time": "2024-02-07T08:09:23.363Z"
   },
   {
    "duration": 21,
    "start_time": "2024-02-07T08:09:23.386Z"
   },
   {
    "duration": 43,
    "start_time": "2024-02-07T08:09:23.409Z"
   },
   {
    "duration": 6,
    "start_time": "2024-02-07T08:14:08.090Z"
   },
   {
    "duration": 75,
    "start_time": "2024-02-07T08:17:07.451Z"
   },
   {
    "duration": 289,
    "start_time": "2024-02-07T08:17:25.024Z"
   },
   {
    "duration": 106,
    "start_time": "2024-02-07T08:18:20.545Z"
   },
   {
    "duration": 317,
    "start_time": "2024-02-07T08:18:51.319Z"
   },
   {
    "duration": 372,
    "start_time": "2024-02-07T08:19:02.217Z"
   },
   {
    "duration": 280,
    "start_time": "2024-02-07T08:21:53.485Z"
   },
   {
    "duration": 99,
    "start_time": "2024-02-07T08:22:39.294Z"
   },
   {
    "duration": 379,
    "start_time": "2024-02-07T08:25:37.864Z"
   },
   {
    "duration": 174,
    "start_time": "2024-02-07T08:34:40.043Z"
   },
   {
    "duration": 176,
    "start_time": "2024-02-07T08:35:30.511Z"
   },
   {
    "duration": 150,
    "start_time": "2024-02-07T08:35:58.466Z"
   },
   {
    "duration": 109,
    "start_time": "2024-02-07T08:55:21.858Z"
   },
   {
    "duration": 676,
    "start_time": "2024-02-07T08:59:45.339Z"
   },
   {
    "duration": 211,
    "start_time": "2024-02-07T08:59:46.017Z"
   },
   {
    "duration": 224,
    "start_time": "2024-02-07T08:59:46.229Z"
   },
   {
    "duration": 115,
    "start_time": "2024-02-07T08:59:46.455Z"
   },
   {
    "duration": 3,
    "start_time": "2024-02-07T08:59:46.571Z"
   },
   {
    "duration": 28,
    "start_time": "2024-02-07T08:59:46.575Z"
   },
   {
    "duration": 32,
    "start_time": "2024-02-07T08:59:46.605Z"
   },
   {
    "duration": 28,
    "start_time": "2024-02-07T08:59:46.638Z"
   },
   {
    "duration": 14,
    "start_time": "2024-02-07T08:59:46.668Z"
   },
   {
    "duration": 37,
    "start_time": "2024-02-07T08:59:46.685Z"
   },
   {
    "duration": 71,
    "start_time": "2024-02-07T08:59:46.724Z"
   },
   {
    "duration": 69,
    "start_time": "2024-02-07T08:59:46.797Z"
   },
   {
    "duration": 20,
    "start_time": "2024-02-07T08:59:46.868Z"
   },
   {
    "duration": 14,
    "start_time": "2024-02-07T08:59:46.891Z"
   },
   {
    "duration": 33,
    "start_time": "2024-02-07T08:59:46.906Z"
   },
   {
    "duration": 14,
    "start_time": "2024-02-07T08:59:46.959Z"
   },
   {
    "duration": 8,
    "start_time": "2024-02-07T08:59:46.975Z"
   },
   {
    "duration": 24,
    "start_time": "2024-02-07T08:59:46.985Z"
   },
   {
    "duration": 17,
    "start_time": "2024-02-07T08:59:47.011Z"
   },
   {
    "duration": 19,
    "start_time": "2024-02-07T08:59:47.030Z"
   },
   {
    "duration": 169,
    "start_time": "2024-02-07T08:59:47.051Z"
   },
   {
    "duration": 6,
    "start_time": "2024-02-07T08:59:47.223Z"
   },
   {
    "duration": 117,
    "start_time": "2024-02-07T08:59:47.231Z"
   },
   {
    "duration": 4,
    "start_time": "2024-02-07T08:59:47.358Z"
   },
   {
    "duration": 414,
    "start_time": "2024-02-07T08:59:47.363Z"
   },
   {
    "duration": 439,
    "start_time": "2024-02-07T08:59:47.779Z"
   },
   {
    "duration": 493,
    "start_time": "2024-02-07T08:59:48.219Z"
   },
   {
    "duration": 137,
    "start_time": "2024-02-07T08:59:48.716Z"
   },
   {
    "duration": 12,
    "start_time": "2024-02-07T08:59:48.859Z"
   },
   {
    "duration": 55,
    "start_time": "2024-02-07T08:59:48.873Z"
   },
   {
    "duration": 37,
    "start_time": "2024-02-07T08:59:48.930Z"
   },
   {
    "duration": 43,
    "start_time": "2024-02-07T08:59:48.969Z"
   },
   {
    "duration": 7,
    "start_time": "2024-02-07T08:59:49.013Z"
   },
   {
    "duration": 44,
    "start_time": "2024-02-07T08:59:49.059Z"
   },
   {
    "duration": 73,
    "start_time": "2024-02-07T08:59:49.105Z"
   },
   {
    "duration": 30,
    "start_time": "2024-02-07T08:59:49.179Z"
   },
   {
    "duration": 5,
    "start_time": "2024-02-07T08:59:49.212Z"
   },
   {
    "duration": 253,
    "start_time": "2024-02-07T08:59:49.219Z"
   },
   {
    "duration": 5,
    "start_time": "2024-02-07T08:59:49.474Z"
   },
   {
    "duration": 599,
    "start_time": "2024-02-07T08:59:49.481Z"
   },
   {
    "duration": 255,
    "start_time": "2024-02-07T08:59:50.082Z"
   },
   {
    "duration": 679,
    "start_time": "2024-02-07T08:59:50.338Z"
   },
   {
    "duration": 6,
    "start_time": "2024-02-07T08:59:51.019Z"
   },
   {
    "duration": 47,
    "start_time": "2024-02-07T08:59:51.026Z"
   },
   {
    "duration": 20,
    "start_time": "2024-02-07T08:59:51.075Z"
   },
   {
    "duration": 32,
    "start_time": "2024-02-07T08:59:51.097Z"
   },
   {
    "duration": 44,
    "start_time": "2024-02-07T08:59:51.134Z"
   },
   {
    "duration": 6,
    "start_time": "2024-02-07T08:59:51.180Z"
   },
   {
    "duration": 42,
    "start_time": "2024-02-07T08:59:51.188Z"
   },
   {
    "duration": 287,
    "start_time": "2024-02-07T08:59:51.232Z"
   },
   {
    "duration": 3,
    "start_time": "2024-02-07T08:59:51.521Z"
   },
   {
    "duration": 880,
    "start_time": "2024-02-07T08:59:51.526Z"
   },
   {
    "duration": 4,
    "start_time": "2024-02-07T08:59:52.407Z"
   },
   {
    "duration": 14,
    "start_time": "2024-02-07T08:59:52.413Z"
   },
   {
    "duration": 125,
    "start_time": "2024-02-07T08:59:52.429Z"
   },
   {
    "duration": 11,
    "start_time": "2024-02-07T08:59:52.555Z"
   },
   {
    "duration": 36,
    "start_time": "2024-02-07T08:59:52.568Z"
   },
   {
    "duration": 32,
    "start_time": "2024-02-07T08:59:52.605Z"
   },
   {
    "duration": 12,
    "start_time": "2024-02-07T08:59:52.639Z"
   },
   {
    "duration": 598,
    "start_time": "2024-02-07T17:46:52.952Z"
   },
   {
    "duration": 190,
    "start_time": "2024-02-07T17:46:53.552Z"
   },
   {
    "duration": 206,
    "start_time": "2024-02-07T17:46:53.743Z"
   },
   {
    "duration": 100,
    "start_time": "2024-02-07T17:46:53.950Z"
   },
   {
    "duration": 3,
    "start_time": "2024-02-07T17:46:54.052Z"
   },
   {
    "duration": 24,
    "start_time": "2024-02-07T17:46:54.056Z"
   },
   {
    "duration": 111,
    "start_time": "2024-02-07T17:46:54.081Z"
   },
   {
    "duration": 163,
    "start_time": "2024-02-07T17:46:54.193Z"
   },
   {
    "duration": 54,
    "start_time": "2024-02-07T17:46:54.357Z"
   },
   {
    "duration": 25,
    "start_time": "2024-02-07T17:46:54.413Z"
   },
   {
    "duration": 25,
    "start_time": "2024-02-07T17:46:54.439Z"
   },
   {
    "duration": 35,
    "start_time": "2024-02-07T17:46:54.465Z"
   },
   {
    "duration": 18,
    "start_time": "2024-02-07T17:46:54.501Z"
   },
   {
    "duration": 4,
    "start_time": "2024-02-07T17:46:54.522Z"
   },
   {
    "duration": 10,
    "start_time": "2024-02-07T17:46:54.527Z"
   },
   {
    "duration": 7,
    "start_time": "2024-02-07T17:46:54.539Z"
   },
   {
    "duration": 4,
    "start_time": "2024-02-07T17:46:54.547Z"
   },
   {
    "duration": 21,
    "start_time": "2024-02-07T17:46:54.553Z"
   },
   {
    "duration": 6,
    "start_time": "2024-02-07T17:46:54.575Z"
   },
   {
    "duration": 16,
    "start_time": "2024-02-07T17:46:54.582Z"
   },
   {
    "duration": 173,
    "start_time": "2024-02-07T17:46:54.599Z"
   },
   {
    "duration": 5,
    "start_time": "2024-02-07T17:46:54.774Z"
   },
   {
    "duration": 91,
    "start_time": "2024-02-07T17:46:54.780Z"
   },
   {
    "duration": 4,
    "start_time": "2024-02-07T17:46:54.873Z"
   },
   {
    "duration": 427,
    "start_time": "2024-02-07T17:46:54.879Z"
   },
   {
    "duration": 430,
    "start_time": "2024-02-07T17:46:55.309Z"
   },
   {
    "duration": 480,
    "start_time": "2024-02-07T17:46:55.740Z"
   },
   {
    "duration": 117,
    "start_time": "2024-02-07T17:46:56.222Z"
   },
   {
    "duration": 9,
    "start_time": "2024-02-07T17:46:56.341Z"
   },
   {
    "duration": 53,
    "start_time": "2024-02-07T17:46:56.351Z"
   },
   {
    "duration": 6,
    "start_time": "2024-02-07T17:46:56.406Z"
   },
   {
    "duration": 48,
    "start_time": "2024-02-07T17:46:56.413Z"
   },
   {
    "duration": 5,
    "start_time": "2024-02-07T17:46:56.462Z"
   },
   {
    "duration": 52,
    "start_time": "2024-02-07T17:46:56.468Z"
   },
   {
    "duration": 29,
    "start_time": "2024-02-07T17:46:56.521Z"
   },
   {
    "duration": 44,
    "start_time": "2024-02-07T17:46:56.552Z"
   },
   {
    "duration": 5,
    "start_time": "2024-02-07T17:46:56.597Z"
   },
   {
    "duration": 232,
    "start_time": "2024-02-07T17:46:56.603Z"
   },
   {
    "duration": 4,
    "start_time": "2024-02-07T17:46:56.836Z"
   },
   {
    "duration": 589,
    "start_time": "2024-02-07T17:46:56.841Z"
   },
   {
    "duration": 232,
    "start_time": "2024-02-07T17:46:57.433Z"
   },
   {
    "duration": 663,
    "start_time": "2024-02-07T17:46:57.667Z"
   },
   {
    "duration": 5,
    "start_time": "2024-02-07T17:46:58.331Z"
   },
   {
    "duration": 56,
    "start_time": "2024-02-07T17:46:58.337Z"
   },
   {
    "duration": 21,
    "start_time": "2024-02-07T17:46:58.395Z"
   },
   {
    "duration": 5,
    "start_time": "2024-02-07T17:46:58.418Z"
   },
   {
    "duration": 19,
    "start_time": "2024-02-07T17:46:58.425Z"
   },
   {
    "duration": 5,
    "start_time": "2024-02-07T17:46:58.446Z"
   },
   {
    "duration": 11,
    "start_time": "2024-02-07T17:46:58.452Z"
   },
   {
    "duration": 253,
    "start_time": "2024-02-07T17:46:58.464Z"
   },
   {
    "duration": 3,
    "start_time": "2024-02-07T17:46:58.719Z"
   },
   {
    "duration": 843,
    "start_time": "2024-02-07T17:46:58.724Z"
   },
   {
    "duration": 4,
    "start_time": "2024-02-07T17:46:59.568Z"
   },
   {
    "duration": 29,
    "start_time": "2024-02-07T17:46:59.574Z"
   },
   {
    "duration": 124,
    "start_time": "2024-02-07T17:46:59.604Z"
   },
   {
    "duration": 11,
    "start_time": "2024-02-07T17:46:59.730Z"
   },
   {
    "duration": 9,
    "start_time": "2024-02-07T17:46:59.742Z"
   },
   {
    "duration": 6,
    "start_time": "2024-02-07T17:46:59.752Z"
   },
   {
    "duration": 11,
    "start_time": "2024-02-07T17:46:59.759Z"
   }
  ],
  "kernelspec": {
   "display_name": "Python 3 (ipykernel)",
   "language": "python",
   "name": "python3"
  },
  "language_info": {
   "codemirror_mode": {
    "name": "ipython",
    "version": 3
   },
   "file_extension": ".py",
   "mimetype": "text/x-python",
   "name": "python",
   "nbconvert_exporter": "python",
   "pygments_lexer": "ipython3",
   "version": "3.9.5"
  },
  "toc": {
   "base_numbering": 1,
   "nav_menu": {},
   "number_sections": true,
   "sideBar": false,
   "skip_h1_title": true,
   "title_cell": "Table of Contents",
   "title_sidebar": "Contents",
   "toc_cell": false,
   "toc_position": {
    "height": "795px",
    "left": "26px",
    "top": "111.125px",
    "width": "322px"
   },
   "toc_section_display": true,
   "toc_window_display": true
  }
 },
 "nbformat": 4,
 "nbformat_minor": 5
}
